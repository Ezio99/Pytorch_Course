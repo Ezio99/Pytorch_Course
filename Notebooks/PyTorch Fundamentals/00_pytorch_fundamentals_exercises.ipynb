{
 "nbformat": 4,
 "nbformat_minor": 0,
 "metadata": {
  "colab": {
   "name": "00_pytorch_fundamentals_exercises.ipynb",
   "provenance": [],
   "collapsed_sections": []
  },
  "kernelspec": {
   "name": "python3",
   "display_name": "Python 3 (ipykernel)",
   "language": "python"
  },
  "language_info": {
   "name": "python"
  },
  "accelerator": "GPU"
 },
 "cells": [
  {
   "cell_type": "markdown",
   "source": [
    "# 00. PyTorch Fundamentals Exercises\n",
    "\n",
    "### 1. Documentation reading \n",
    "\n",
    "A big part of deep learning (and learning to code in general) is getting familiar with the documentation of a certain framework you're using. We'll be using the PyTorch documentation a lot throughout the rest of this course. So I'd recommend spending 10-minutes reading the following (it's okay if you don't get some things for now, the focus is not yet full understanding, it's awareness):\n",
    "  * The documentation on [`torch.Tensor`](https://pytorch.org/docs/stable/tensors.html#torch-tensor).\n",
    "  * The documentation on [`torch.cuda`](https://pytorch.org/docs/master/notes/cuda.html#cuda-semantics).\n",
    "\n"
   ],
   "metadata": {
    "id": "AzDBM_v4iMe7"
   }
  },
  {
   "cell_type": "code",
   "source": [
    "# No code solution (reading)"
   ],
   "metadata": {
    "id": "bGD0oD8Kizak"
   },
   "execution_count": 1,
   "outputs": []
  },
  {
   "cell_type": "markdown",
   "source": [
    "### 2. Create a random tensor with shape `(7, 7)`.\n"
   ],
   "metadata": {
    "id": "__iXqqz-ioUJ"
   }
  },
  {
   "cell_type": "code",
   "source": [
    "# Import torch\n",
    "import torch\n",
    "\n",
    "print(torch.__version__)\n",
    "print(torch.cuda.is_available())\n",
    "\n",
    "# Create random tensor\n",
    "tensor1 = torch.rand(size=(7, 7))\n",
    "\n",
    "tensor1\n"
   ],
   "metadata": {
    "id": "6pUq9Dc8i2L7",
    "ExecuteTime": {
     "end_time": "2025-02-02T09:54:51.674262Z",
     "start_time": "2025-02-02T09:54:51.663846Z"
    }
   },
   "outputs": [
    {
     "name": "stdout",
     "output_type": "stream",
     "text": [
      "2.4.1\n",
      "True\n"
     ]
    },
    {
     "data": {
      "text/plain": [
       "tensor([[0.9381, 0.5405, 0.3103, 0.5467, 0.7911, 0.7628, 0.5214],\n",
       "        [0.2652, 0.5696, 0.7035, 0.5666, 0.3763, 0.0703, 0.1735],\n",
       "        [0.4547, 0.4905, 0.6449, 0.8125, 0.3194, 0.4993, 0.7559],\n",
       "        [0.1185, 0.3619, 0.2433, 0.1944, 0.0170, 0.2385, 0.0921],\n",
       "        [0.7147, 0.7763, 0.0751, 0.9930, 0.4933, 0.1408, 0.6396],\n",
       "        [0.9977, 0.8649, 0.4802, 0.9959, 0.0881, 0.0368, 0.4736],\n",
       "        [0.4753, 0.5239, 0.7569, 0.5710, 0.3581, 0.5479, 0.0736]])"
      ]
     },
     "execution_count": 4,
     "metadata": {},
     "output_type": "execute_result"
    }
   ],
   "execution_count": 4
  },
  {
   "cell_type": "markdown",
   "source": [
    "### 3. Perform a matrix multiplication on the tensor from 2 with another random tensor with shape `(1, 7)` (hint: you may have to transpose the second tensor)."
   ],
   "metadata": {
    "id": "9-XxvRLfiqkR"
   }
  },
  {
   "cell_type": "code",
   "source": [
    "# Create another random tensor\n",
    "tensor2 = torch.rand(size=(1, 7))\n",
    "\n",
    "# Perform matrix multiplication \n",
    "torch.matmul(tensor1, tensor2.T)"
   ],
   "metadata": {
    "id": "NcLqR0Sbi_vT",
    "ExecuteTime": {
     "end_time": "2025-02-02T09:55:34.376704Z",
     "start_time": "2025-02-02T09:55:34.370064Z"
    }
   },
   "outputs": [
    {
     "data": {
      "text/plain": [
       "tensor([[2.2272],\n",
       "        [1.5299],\n",
       "        [2.0233],\n",
       "        [0.6981],\n",
       "        [2.3116],\n",
       "        [2.6905],\n",
       "        [1.8122]])"
      ]
     },
     "execution_count": 5,
     "metadata": {},
     "output_type": "execute_result"
    }
   ],
   "execution_count": 5
  },
  {
   "metadata": {
    "ExecuteTime": {
     "end_time": "2025-02-02T09:56:12.302597Z",
     "start_time": "2025-02-02T09:56:12.292597Z"
    }
   },
   "cell_type": "code",
   "source": [
    "#Also can be done\n",
    "torch.matmul(tensor1, torch.permute(tensor2, dims=(1, 0)))"
   ],
   "outputs": [
    {
     "data": {
      "text/plain": [
       "tensor([[2.2272],\n",
       "        [1.5299],\n",
       "        [2.0233],\n",
       "        [0.6981],\n",
       "        [2.3116],\n",
       "        [2.6905],\n",
       "        [1.8122]])"
      ]
     },
     "execution_count": 6,
     "metadata": {},
     "output_type": "execute_result"
    }
   ],
   "execution_count": 6
  },
  {
   "cell_type": "markdown",
   "source": [
    "### 4. Set the random seed to `0` and do 2 & 3 over again.\n",
    "\n",
    "The output should be:\n",
    "```\n",
    "(tensor([[1.8542],\n",
    "         [1.9611],\n",
    "         [2.2884],\n",
    "         [3.0481],\n",
    "         [1.7067],\n",
    "         [2.5290],\n",
    "         [1.7989]]), torch.Size([7, 1]))\n",
    "```"
   ],
   "metadata": {
    "id": "eiutdKUFiryU"
   }
  },
  {
   "cell_type": "code",
   "source": [
    "# Set manual seed\n",
    "RANDOM_SEED = 0\n",
    "torch.manual_seed(RANDOM_SEED)\n",
    "\n",
    "# Create two random tensors\n",
    "tensor3 = torch.rand(size=(7, 7))\n",
    "tensor4 = torch.rand(size=(1, 7))\n",
    "\n",
    "# Matrix multiply tensors\n",
    "torch.matmul(tensor3, tensor4.T)\n"
   ],
   "metadata": {
    "id": "D-lOWI_1jRMm",
    "ExecuteTime": {
     "end_time": "2025-02-02T09:57:37.464355Z",
     "start_time": "2025-02-02T09:57:37.442508Z"
    }
   },
   "outputs": [
    {
     "data": {
      "text/plain": [
       "tensor([[1.8542],\n",
       "        [1.9611],\n",
       "        [2.2884],\n",
       "        [3.0481],\n",
       "        [1.7067],\n",
       "        [2.5290],\n",
       "        [1.7989]])"
      ]
     },
     "execution_count": 8,
     "metadata": {},
     "output_type": "execute_result"
    }
   ],
   "execution_count": 8
  },
  {
   "cell_type": "markdown",
   "source": [
    "### 5. Speaking of random seeds, we saw how to set it with `torch.manual_seed()` but is there a GPU equivalent? (hint: you'll need to look into the documentation for `torch.cuda` for this one)\n",
    "  * If there is, set the GPU random seed to `1234`."
   ],
   "metadata": {
    "id": "ezY6ks9Cis37"
   }
  },
  {
   "cell_type": "code",
   "source": [
    "# Set random seed on the GPU\n",
    "torch.cuda.manual_seed(RANDOM_SEED)"
   ],
   "metadata": {
    "id": "_LKWcfSTjp00",
    "ExecuteTime": {
     "end_time": "2025-02-02T09:57:50.009795Z",
     "start_time": "2025-02-02T09:57:50.005104Z"
    }
   },
   "outputs": [],
   "execution_count": 9
  },
  {
   "cell_type": "markdown",
   "source": [
    "\n",
    "### 6. Create two random tensors of shape `(2, 3)` and send them both to the GPU (you'll need access to a GPU for this). Set `torch.manual_seed(1234)` when creating the tensors (this doesn't have to be the GPU random seed). The output should be something like:\n",
    "\n",
    "```\n",
    "Device: cuda\n",
    "(tensor([[0.0290, 0.4019, 0.2598],\n",
    "         [0.3666, 0.0583, 0.7006]], device='cuda:0'),\n",
    " tensor([[0.0518, 0.4681, 0.6738],\n",
    "         [0.3315, 0.7837, 0.5631]], device='cuda:0'))\n",
    "```"
   ],
   "metadata": {
    "id": "Ir9qSaj6it4n"
   }
  },
  {
   "cell_type": "code",
   "source": [
    "# Set random seed\n",
    "torch.manual_seed(RANDOM_SEED)\n",
    "\n",
    "# Check for access to GPU\n",
    "device = 'cuda' if torch.cuda.is_available() else 'cpu'\n",
    "\n",
    "# Create two random tensors on GPU\n",
    "gpu_tensor1 = torch.rand(size=(2, 3), device=device)\n",
    "gpu_tensor2 = torch.rand(size=(2, 3), device='cpu')\n",
    "gpu_tensor2 = gpu_tensor2.to(device)\n",
    "\n",
    "print(gpu_tensor1, gpu_tensor1.device)\n",
    "print(gpu_tensor2, gpu_tensor2.device)\n"
   ],
   "metadata": {
    "id": "azXExiFZj5nm",
    "ExecuteTime": {
     "end_time": "2025-02-02T10:01:18.466735Z",
     "start_time": "2025-02-02T10:01:18.299686Z"
    }
   },
   "outputs": [
    {
     "name": "stdout",
     "output_type": "stream",
     "text": [
      "tensor([[0.3990, 0.5167, 0.0249],\n",
      "        [0.9401, 0.9459, 0.7967]], device='cuda:0') cuda:0\n",
      "tensor([[0.4963, 0.7682, 0.0885],\n",
      "        [0.1320, 0.3074, 0.6341]], device='cuda:0') cuda:0\n"
     ]
    }
   ],
   "execution_count": 10
  },
  {
   "cell_type": "markdown",
   "source": [
    "\n",
    "### 7. Perform a matrix multiplication on the tensors you created in 6 (again, you may have to adjust the shapes of one of the tensors).\n",
    "\n",
    "The output should look like:\n",
    "```\n",
    "(tensor([[0.3647, 0.4709],\n",
    "         [0.5184, 0.5617]], device='cuda:0'), torch.Size([2, 2]))\n",
    "```"
   ],
   "metadata": {
    "id": "5TlAxeiSiu1y"
   }
  },
  {
   "cell_type": "code",
   "source": [
    "# Perform matmul on tensor_A and tensor_B\n",
    "result = torch.matmul(gpu_tensor1, gpu_tensor2.T)\n",
    "result"
   ],
   "metadata": {
    "id": "fAeG7ox0lHEO",
    "ExecuteTime": {
     "end_time": "2025-02-02T10:02:27.497365Z",
     "start_time": "2025-02-02T10:02:27.489926Z"
    }
   },
   "outputs": [
    {
     "data": {
      "text/plain": [
       "tensor([[0.5972, 0.2273],\n",
       "        [1.2636, 0.9201]], device='cuda:0')"
      ]
     },
     "execution_count": 13,
     "metadata": {},
     "output_type": "execute_result"
    }
   ],
   "execution_count": 13
  },
  {
   "cell_type": "markdown",
   "source": [
    "### 8. Find the maximum and minimum values of the output of 7."
   ],
   "metadata": {
    "id": "G7qfa5CSivwg"
   }
  },
  {
   "cell_type": "code",
   "source": [
    "# Find max\n",
    "print(torch.max(result))\n",
    "# Find min\n",
    "print(torch.min(result))\n"
   ],
   "metadata": {
    "id": "Fu8_3mZpllOd",
    "ExecuteTime": {
     "end_time": "2025-02-02T10:03:01.197292Z",
     "start_time": "2025-02-02T10:03:01.186505Z"
    }
   },
   "outputs": [
    {
     "name": "stdout",
     "output_type": "stream",
     "text": [
      "tensor(1.2636, device='cuda:0')\n",
      "tensor(0.2273, device='cuda:0')\n"
     ]
    }
   ],
   "execution_count": 16
  },
  {
   "cell_type": "markdown",
   "source": [
    "### 9. Find the maximum and minimum index values of the output of 7."
   ],
   "metadata": {
    "id": "wrTj5FgNiw47"
   }
  },
  {
   "cell_type": "code",
   "source": [
    "# Find arg max\n",
    "print(torch.argmax(result))\n",
    "\n",
    "# Find arg min\n",
    "print(torch.argmin(result))"
   ],
   "metadata": {
    "id": "CCEKt4K2lsfQ",
    "ExecuteTime": {
     "end_time": "2025-02-02T10:03:29.996492Z",
     "start_time": "2025-02-02T10:03:29.964884Z"
    }
   },
   "outputs": [
    {
     "name": "stdout",
     "output_type": "stream",
     "text": [
      "tensor(2, device='cuda:0')\n",
      "tensor(1, device='cuda:0')\n"
     ]
    }
   ],
   "execution_count": 17
  },
  {
   "cell_type": "markdown",
   "source": [
    "\n",
    "### 10. Make a random tensor with shape `(1, 1, 1, 10)` and then create a new tensor with all the `1` dimensions removed to be left with a tensor of shape `(10)`. Set the seed to `7` when you create it and print out the first tensor and it's shape as well as the second tensor and it's shape.\n",
    "\n",
    "The output should look like:\n",
    "\n",
    "```\n",
    "tensor([[[[0.5349, 0.1988, 0.6592, 0.6569, 0.2328, 0.4251, 0.2071, 0.6297,\n",
    "           0.3653, 0.8513]]]]) torch.Size([1, 1, 1, 10])\n",
    "tensor([0.5349, 0.1988, 0.6592, 0.6569, 0.2328, 0.4251, 0.2071, 0.6297, 0.3653,\n",
    "        0.8513]) torch.Size([10])\n",
    "```"
   ],
   "metadata": {
    "id": "hmeybz4uixy7"
   }
  },
  {
   "cell_type": "code",
   "source": [
    "# Set seed\n",
    "torch.manual_seed(7)\n",
    "\n",
    "# Create random tensor\n",
    "rand_tensor = torch.rand(size=(1, 1, 1, 10))\n",
    "\n",
    "# Remove single dimensions\n",
    "squeezedTensor = torch.squeeze(rand_tensor)\n",
    "\n",
    "\n",
    "# Print out tensors and their shapes\n",
    "print(rand_tensor,rand_tensor.shape)\n",
    "print(squeezedTensor,squeezedTensor.shape)\n"
   ],
   "metadata": {
    "id": "TQ9zbRzVl1jV",
    "ExecuteTime": {
     "end_time": "2025-02-02T10:05:27.418914Z",
     "start_time": "2025-02-02T10:05:27.402261Z"
    }
   },
   "outputs": [
    {
     "name": "stdout",
     "output_type": "stream",
     "text": [
      "tensor([[[[0.5349, 0.1988, 0.6592, 0.6569, 0.2328, 0.4251, 0.2071, 0.6297,\n",
      "           0.3653, 0.8513]]]]) torch.Size([1, 1, 1, 10])\n",
      "tensor([0.5349, 0.1988, 0.6592, 0.6569, 0.2328, 0.4251, 0.2071, 0.6297, 0.3653,\n",
      "        0.8513]) torch.Size([10])\n"
     ]
    }
   ],
   "execution_count": 19
  }
 ]
}
