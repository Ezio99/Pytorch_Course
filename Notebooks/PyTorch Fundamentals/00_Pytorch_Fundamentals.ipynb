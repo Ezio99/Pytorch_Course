{
 "cells": [
  {
   "cell_type": "code",
   "id": "initial_id",
   "metadata": {
    "collapsed": true,
    "ExecuteTime": {
     "end_time": "2025-01-31T05:02:36.022840Z",
     "start_time": "2025-01-31T05:02:34.066098Z"
    }
   },
   "source": [
    "from sympy.codegen.ast import float32\n",
    "!nvidia-smi"
   ],
   "outputs": [
    {
     "name": "stdout",
     "output_type": "stream",
     "text": [
      "Fri Jan 31 13:02:35 2025       \n",
      "+-----------------------------------------------------------------------------------------+\n",
      "| NVIDIA-SMI 561.19                 Driver Version: 561.19         CUDA Version: 12.6     |\n",
      "|-----------------------------------------+------------------------+----------------------+\n",
      "| GPU  Name                  Driver-Model | Bus-Id          Disp.A | Volatile Uncorr. ECC |\n",
      "| Fan  Temp   Perf          Pwr:Usage/Cap |           Memory-Usage | GPU-Util  Compute M. |\n",
      "|                                         |                        |               MIG M. |\n",
      "|=========================================+========================+======================|\n",
      "|   0  NVIDIA GeForce RTX 4070 ...  WDDM  |   00000000:01:00.0 Off |                  N/A |\n",
      "| N/A   45C    P0             14W /  140W |       0MiB /   8188MiB |      0%      Default |\n",
      "|                                         |                        |                  N/A |\n",
      "+-----------------------------------------+------------------------+----------------------+\n",
      "                                                                                         \n",
      "+-----------------------------------------------------------------------------------------+\n",
      "| Processes:                                                                              |\n",
      "|  GPU   GI   CI        PID   Type   Process name                              GPU Memory |\n",
      "|        ID   ID                                                               Usage      |\n",
      "|=========================================================================================|\n",
      "|  No running processes found                                                             |\n",
      "+-----------------------------------------------------------------------------------------+\n"
     ]
    }
   ],
   "execution_count": 2
  },
  {
   "metadata": {
    "ExecuteTime": {
     "end_time": "2025-01-31T05:02:40.032345Z",
     "start_time": "2025-01-31T05:02:36.092414Z"
    }
   },
   "cell_type": "code",
   "source": [
    "import torch\n",
    "import numpy as np\n",
    "import matplotlib.pyplot as plt\n",
    "import pandas as pd\n",
    "import IPython\n",
    "\n",
    "print(torch.__version__)\n",
    "print(torch.cuda.is_available())\n",
    "print(IPython.version_info)"
   ],
   "id": "e8cc4bd0c14c475",
   "outputs": [
    {
     "name": "stdout",
     "output_type": "stream",
     "text": [
      "2.4.1\n",
      "True\n",
      "(8, 12, 2, '')\n"
     ]
    }
   ],
   "execution_count": 3
  },
  {
   "metadata": {},
   "cell_type": "markdown",
   "source": [
    "## Introduction to Tensors\n",
    "\n",
    "### Creating Tensors"
   ],
   "id": "93cd654178b86448"
  },
  {
   "metadata": {
    "ExecuteTime": {
     "end_time": "2025-01-31T05:02:40.141087Z",
     "start_time": "2025-01-31T05:02:40.099263Z"
    }
   },
   "cell_type": "code",
   "source": [
    "# scalar\n",
    "\n",
    "scalar = torch.tensor(7)\n",
    "\n",
    "scalar"
   ],
   "id": "b0ef8441faaf31",
   "outputs": [
    {
     "data": {
      "text/plain": [
       "tensor(7)"
      ]
     },
     "execution_count": 4,
     "metadata": {},
     "output_type": "execute_result"
    }
   ],
   "execution_count": 4
  },
  {
   "metadata": {
    "ExecuteTime": {
     "end_time": "2025-01-31T05:02:40.219749Z",
     "start_time": "2025-01-31T05:02:40.209794Z"
    }
   },
   "cell_type": "code",
   "source": "scalar.ndim\n",
   "id": "c68beedbc9749e6b",
   "outputs": [
    {
     "data": {
      "text/plain": [
       "0"
      ]
     },
     "execution_count": 5,
     "metadata": {},
     "output_type": "execute_result"
    }
   ],
   "execution_count": 5
  },
  {
   "metadata": {
    "ExecuteTime": {
     "end_time": "2025-01-31T05:02:40.280934Z",
     "start_time": "2025-01-31T05:02:40.263936Z"
    }
   },
   "cell_type": "code",
   "source": [
    "#Get tensor back as python integer\n",
    "\n",
    "scalar.item()"
   ],
   "id": "b3089256d05c5f87",
   "outputs": [
    {
     "data": {
      "text/plain": [
       "7"
      ]
     },
     "execution_count": 6,
     "metadata": {},
     "output_type": "execute_result"
    }
   ],
   "execution_count": 6
  },
  {
   "metadata": {
    "ExecuteTime": {
     "end_time": "2025-01-31T05:02:40.388079Z",
     "start_time": "2025-01-31T05:02:40.377077Z"
    }
   },
   "cell_type": "code",
   "source": [
    "#Vector\n",
    "\n",
    "vector = torch.tensor([7, 7])\n",
    "\n",
    "vector"
   ],
   "id": "cb8e4765b3287566",
   "outputs": [
    {
     "data": {
      "text/plain": [
       "tensor([7, 7])"
      ]
     },
     "execution_count": 7,
     "metadata": {},
     "output_type": "execute_result"
    }
   ],
   "execution_count": 7
  },
  {
   "metadata": {
    "ExecuteTime": {
     "end_time": "2025-01-31T05:02:40.497517Z",
     "start_time": "2025-01-31T05:02:40.478097Z"
    }
   },
   "cell_type": "code",
   "source": "vector.ndim  #(rank 1 tensor, think of it like the number of pairs of square brackets)",
   "id": "fe144b9dbad6cc59",
   "outputs": [
    {
     "data": {
      "text/plain": [
       "1"
      ]
     },
     "execution_count": 8,
     "metadata": {},
     "output_type": "execute_result"
    }
   ],
   "execution_count": 8
  },
  {
   "metadata": {
    "ExecuteTime": {
     "end_time": "2025-01-31T05:02:40.606978Z",
     "start_time": "2025-01-31T05:02:40.590428Z"
    }
   },
   "cell_type": "code",
   "source": "vector.shape",
   "id": "374aa06a9f5385bf",
   "outputs": [
    {
     "data": {
      "text/plain": [
       "torch.Size([2])"
      ]
     },
     "execution_count": 9,
     "metadata": {},
     "output_type": "execute_result"
    }
   ],
   "execution_count": 9
  },
  {
   "metadata": {
    "ExecuteTime": {
     "end_time": "2025-01-31T05:02:40.699635Z",
     "start_time": "2025-01-31T05:02:40.685247Z"
    }
   },
   "cell_type": "code",
   "source": [
    "#Matrix\n",
    "\n",
    "MATRIX = torch.tensor([\n",
    "    [7, 8],\n",
    "    [9, 10]\n",
    "])\n",
    "\n",
    "MATRIX"
   ],
   "id": "275aa133afc6dee2",
   "outputs": [
    {
     "data": {
      "text/plain": [
       "tensor([[ 7,  8],\n",
       "        [ 9, 10]])"
      ]
     },
     "execution_count": 10,
     "metadata": {},
     "output_type": "execute_result"
    }
   ],
   "execution_count": 10
  },
  {
   "metadata": {
    "ExecuteTime": {
     "end_time": "2025-01-31T05:02:40.838691Z",
     "start_time": "2025-01-31T05:02:40.824134Z"
    }
   },
   "cell_type": "code",
   "source": "MATRIX.ndim",
   "id": "6f26df63ac113ade",
   "outputs": [
    {
     "data": {
      "text/plain": [
       "2"
      ]
     },
     "execution_count": 11,
     "metadata": {},
     "output_type": "execute_result"
    }
   ],
   "execution_count": 11
  },
  {
   "metadata": {
    "ExecuteTime": {
     "end_time": "2025-01-31T05:02:41.149734Z",
     "start_time": "2025-01-31T05:02:41.138053Z"
    }
   },
   "cell_type": "code",
   "source": "MATRIX.shape",
   "id": "c3197c88d26d57b3",
   "outputs": [
    {
     "data": {
      "text/plain": [
       "torch.Size([2, 2])"
      ]
     },
     "execution_count": 12,
     "metadata": {},
     "output_type": "execute_result"
    }
   ],
   "execution_count": 12
  },
  {
   "metadata": {
    "ExecuteTime": {
     "end_time": "2025-01-31T05:02:41.585395Z",
     "start_time": "2025-01-31T05:02:41.579697Z"
    }
   },
   "cell_type": "code",
   "source": [
    "rectangle_matrix = torch.tensor([\n",
    "    [7, 8],\n",
    "    [9, 10],\n",
    "    [11, 12]\n",
    "])\n",
    "rectangle_matrix\n"
   ],
   "id": "878f78a7ffe3bbed",
   "outputs": [
    {
     "data": {
      "text/plain": [
       "tensor([[ 7,  8],\n",
       "        [ 9, 10],\n",
       "        [11, 12]])"
      ]
     },
     "execution_count": 13,
     "metadata": {},
     "output_type": "execute_result"
    }
   ],
   "execution_count": 13
  },
  {
   "metadata": {
    "ExecuteTime": {
     "end_time": "2025-01-31T05:02:41.819213Z",
     "start_time": "2025-01-31T05:02:41.804236Z"
    }
   },
   "cell_type": "code",
   "source": [
    "print(rectangle_matrix.ndim)\n",
    "\n",
    "# Shape = (Rows, Cols)\n",
    "print(rectangle_matrix.shape)"
   ],
   "id": "f91951b90283da1b",
   "outputs": [
    {
     "name": "stdout",
     "output_type": "stream",
     "text": [
      "2\n",
      "torch.Size([3, 2])\n"
     ]
    }
   ],
   "execution_count": 14
  },
  {
   "metadata": {
    "ExecuteTime": {
     "end_time": "2025-01-31T05:02:42.005075Z",
     "start_time": "2025-01-31T05:02:41.991858Z"
    }
   },
   "cell_type": "code",
   "source": "MATRIX[0]",
   "id": "156e372b4ac08808",
   "outputs": [
    {
     "data": {
      "text/plain": [
       "tensor([7, 8])"
      ]
     },
     "execution_count": 15,
     "metadata": {},
     "output_type": "execute_result"
    }
   ],
   "execution_count": 15
  },
  {
   "metadata": {
    "ExecuteTime": {
     "end_time": "2025-01-31T05:02:42.206068Z",
     "start_time": "2025-01-31T05:02:42.197004Z"
    }
   },
   "cell_type": "code",
   "source": [
    "#Tensor\n",
    "\n",
    "TENSOR = torch.tensor([\n",
    "    [\n",
    "        [1, 2, 3],\n",
    "        [4, 5, 6],\n",
    "        [7, 8, 9],\n",
    "        [10, 11, 12]\n",
    "    ]\n",
    "])\n",
    "\n",
    "TENSOR"
   ],
   "id": "dff8efab0dd3c1ed",
   "outputs": [
    {
     "data": {
      "text/plain": [
       "tensor([[[ 1,  2,  3],\n",
       "         [ 4,  5,  6],\n",
       "         [ 7,  8,  9],\n",
       "         [10, 11, 12]]])"
      ]
     },
     "execution_count": 16,
     "metadata": {},
     "output_type": "execute_result"
    }
   ],
   "execution_count": 16
  },
  {
   "metadata": {
    "ExecuteTime": {
     "end_time": "2025-01-31T05:02:42.374957Z",
     "start_time": "2025-01-31T05:02:42.357363Z"
    }
   },
   "cell_type": "code",
   "source": [
    "print(TENSOR.ndim)\n",
    "\n",
    "# Shape = (Number of matrices ,Rows, Cols)\n",
    "print(TENSOR.shape)"
   ],
   "id": "9604c74611f32be5",
   "outputs": [
    {
     "name": "stdout",
     "output_type": "stream",
     "text": [
      "3\n",
      "torch.Size([1, 4, 3])\n"
     ]
    }
   ],
   "execution_count": 17
  },
  {
   "metadata": {
    "ExecuteTime": {
     "end_time": "2025-01-31T05:02:42.452228Z",
     "start_time": "2025-01-31T05:02:42.442548Z"
    }
   },
   "cell_type": "code",
   "source": "TENSOR[0]",
   "id": "3a5167435a8567d9",
   "outputs": [
    {
     "data": {
      "text/plain": [
       "tensor([[ 1,  2,  3],\n",
       "        [ 4,  5,  6],\n",
       "        [ 7,  8,  9],\n",
       "        [10, 11, 12]])"
      ]
     },
     "execution_count": 18,
     "metadata": {},
     "output_type": "execute_result"
    }
   ],
   "execution_count": 18
  },
  {
   "metadata": {
    "ExecuteTime": {
     "end_time": "2025-01-31T05:02:42.594744Z",
     "start_time": "2025-01-31T05:02:42.580742Z"
    }
   },
   "cell_type": "code",
   "source": [
    "#Doesnt work because we have only 1 matrix which is at index 0\n",
    "# TENSOR[1]"
   ],
   "id": "9ded0bdf6ab8f0bf",
   "outputs": [],
   "execution_count": 19
  },
  {
   "metadata": {
    "ExecuteTime": {
     "end_time": "2025-01-31T05:02:42.749625Z",
     "start_time": "2025-01-31T05:02:42.735671Z"
    }
   },
   "cell_type": "code",
   "source": [
    "TENSOR_2 = torch.tensor([  #Contains array of matrices\n",
    "    [  # Contains array of vectors (arrays)\n",
    "        [1, 2, 3],  # Array of numbers\n",
    "        [4, 5, 6],\n",
    "        [7, 8, 9],\n",
    "        [10, 11, 12]\n",
    "    ],\n",
    "\n",
    "    [  # Contains array of vectors (arrays)\n",
    "        [13, 14, 15],\n",
    "        [16, 17, 18],\n",
    "        [19, 20, 21],\n",
    "        [22, 23, 24]\n",
    "    ]\n",
    "])\n",
    "\n",
    "# (2,4,3)\n",
    "# Basically saying we have 2 matrices with 4 rows and 3 cols\n",
    "print(TENSOR_2.shape)"
   ],
   "id": "21c57f8c398a0f22",
   "outputs": [
    {
     "name": "stdout",
     "output_type": "stream",
     "text": [
      "torch.Size([2, 4, 3])\n"
     ]
    }
   ],
   "execution_count": 20
  },
  {
   "metadata": {
    "ExecuteTime": {
     "end_time": "2025-01-31T05:02:42.997312Z",
     "start_time": "2025-01-31T05:02:42.973233Z"
    }
   },
   "cell_type": "code",
   "source": [
    "TENSOR_3 = torch.tensor(\n",
    "    [  # Contains array of tensors\n",
    "        [  #Contains array of matrices\n",
    "            [  # Contains array of vectors (arrays)\n",
    "                [1, 2, 3],  # Array of integers\n",
    "                [4, 5, 6],\n",
    "                [7, 8, 9],\n",
    "                [10, 11, 12]\n",
    "            ],\n",
    "\n",
    "            [  # Contains array of vectors (arrays)\n",
    "                [13, 14, 15],\n",
    "                [16, 17, 18],\n",
    "                [19, 20, 21],\n",
    "                [22, 23, 24]\n",
    "            ]\n",
    "        ]\n",
    "    ])\n",
    "\n",
    "print(TENSOR_3.shape)\n",
    "print(TENSOR_3[0])\n",
    "print(TENSOR_3[0][0])\n",
    "print(TENSOR_3[0][0][0])"
   ],
   "id": "c4c07719df2a09d0",
   "outputs": [
    {
     "name": "stdout",
     "output_type": "stream",
     "text": [
      "torch.Size([1, 2, 4, 3])\n",
      "tensor([[[ 1,  2,  3],\n",
      "         [ 4,  5,  6],\n",
      "         [ 7,  8,  9],\n",
      "         [10, 11, 12]],\n",
      "\n",
      "        [[13, 14, 15],\n",
      "         [16, 17, 18],\n",
      "         [19, 20, 21],\n",
      "         [22, 23, 24]]])\n",
      "tensor([[ 1,  2,  3],\n",
      "        [ 4,  5,  6],\n",
      "        [ 7,  8,  9],\n",
      "        [10, 11, 12]])\n",
      "tensor([1, 2, 3])\n"
     ]
    }
   ],
   "execution_count": 21
  },
  {
   "metadata": {
    "ExecuteTime": {
     "end_time": "2025-01-31T05:02:43.074243Z",
     "start_time": "2025-01-31T05:02:43.061246Z"
    }
   },
   "cell_type": "code",
   "source": "MATRIX",
   "id": "f0e2d8c7237615d1",
   "outputs": [
    {
     "data": {
      "text/plain": [
       "tensor([[ 7,  8],\n",
       "        [ 9, 10]])"
      ]
     },
     "execution_count": 22,
     "metadata": {},
     "output_type": "execute_result"
    }
   ],
   "execution_count": 22
  },
  {
   "metadata": {
    "ExecuteTime": {
     "end_time": "2025-01-31T05:02:43.181924Z",
     "start_time": "2025-01-31T05:02:43.167801Z"
    }
   },
   "cell_type": "code",
   "source": "MATRIX.is_cuda",
   "id": "e273b35ae64dae84",
   "outputs": [
    {
     "data": {
      "text/plain": [
       "False"
      ]
     },
     "execution_count": 23,
     "metadata": {},
     "output_type": "execute_result"
    }
   ],
   "execution_count": 23
  },
  {
   "metadata": {
    "ExecuteTime": {
     "end_time": "2025-01-31T05:02:43.367611Z",
     "start_time": "2025-01-31T05:02:43.341612Z"
    }
   },
   "cell_type": "code",
   "source": [
    "MATRIX.transpose(1, 0)\n",
    "#or \n",
    "# MATRIX.T"
   ],
   "id": "6371bae308591c61",
   "outputs": [
    {
     "data": {
      "text/plain": [
       "tensor([[ 7,  9],\n",
       "        [ 8, 10]])"
      ]
     },
     "execution_count": 24,
     "metadata": {},
     "output_type": "execute_result"
    }
   ],
   "execution_count": 24
  },
  {
   "metadata": {
    "ExecuteTime": {
     "end_time": "2025-01-31T05:02:43.600303Z",
     "start_time": "2025-01-31T05:02:43.586303Z"
    }
   },
   "cell_type": "code",
   "source": "TENSOR",
   "id": "80514482a0ef7cbc",
   "outputs": [
    {
     "data": {
      "text/plain": [
       "tensor([[[ 1,  2,  3],\n",
       "         [ 4,  5,  6],\n",
       "         [ 7,  8,  9],\n",
       "         [10, 11, 12]]])"
      ]
     },
     "execution_count": 25,
     "metadata": {},
     "output_type": "execute_result"
    }
   ],
   "execution_count": 25
  },
  {
   "metadata": {
    "ExecuteTime": {
     "end_time": "2025-01-31T05:02:43.851579Z",
     "start_time": "2025-01-31T05:02:43.830820Z"
    }
   },
   "cell_type": "code",
   "source": "TENSOR.transpose(0, 2)",
   "id": "2bcb65647d621771",
   "outputs": [
    {
     "data": {
      "text/plain": [
       "tensor([[[ 1],\n",
       "         [ 4],\n",
       "         [ 7],\n",
       "         [10]],\n",
       "\n",
       "        [[ 2],\n",
       "         [ 5],\n",
       "         [ 8],\n",
       "         [11]],\n",
       "\n",
       "        [[ 3],\n",
       "         [ 6],\n",
       "         [ 9],\n",
       "         [12]]])"
      ]
     },
     "execution_count": 26,
     "metadata": {},
     "output_type": "execute_result"
    }
   ],
   "execution_count": 26
  },
  {
   "metadata": {
    "ExecuteTime": {
     "end_time": "2025-01-31T05:02:44.053762Z",
     "start_time": "2025-01-31T05:02:44.046232Z"
    }
   },
   "cell_type": "code",
   "source": "TENSOR.transpose(0, 1)",
   "id": "cf483e2bbe5ec849",
   "outputs": [
    {
     "data": {
      "text/plain": [
       "tensor([[[ 1,  2,  3]],\n",
       "\n",
       "        [[ 4,  5,  6]],\n",
       "\n",
       "        [[ 7,  8,  9]],\n",
       "\n",
       "        [[10, 11, 12]]])"
      ]
     },
     "execution_count": 27,
     "metadata": {},
     "output_type": "execute_result"
    }
   ],
   "execution_count": 27
  },
  {
   "metadata": {},
   "cell_type": "markdown",
   "source": [
    "## Random Tensors\n",
    "\n",
    "We require random numbers because neural networks start off their learning with random weights and biases which are then adjusted to the represent the patterns/features they learn.\n",
    "\n",
    "\n",
    "Random tensors - https://pytorch.org/docs/stable/generated/torch.rand.html\n"
   ],
   "id": "2359abd22c7c0ee7"
  },
  {
   "metadata": {
    "ExecuteTime": {
     "end_time": "2025-01-31T05:02:44.194908Z",
     "start_time": "2025-01-31T05:02:44.160927Z"
    }
   },
   "cell_type": "code",
   "source": [
    "#Create a random tensor of shape (3,4)\n",
    "\n",
    "random_tensor = torch.rand(3, 4)\n",
    "\n",
    "random_tensor"
   ],
   "id": "708380ae8d6a1bbd",
   "outputs": [
    {
     "data": {
      "text/plain": [
       "tensor([[0.1598, 0.0508, 0.6811, 0.0967],\n",
       "        [0.1238, 0.5560, 0.3790, 0.5016],\n",
       "        [0.9301, 0.0153, 0.1698, 0.4644]])"
      ]
     },
     "execution_count": 28,
     "metadata": {},
     "output_type": "execute_result"
    }
   ],
   "execution_count": 28
  },
  {
   "metadata": {
    "ExecuteTime": {
     "end_time": "2025-01-31T05:02:44.333074Z",
     "start_time": "2025-01-31T05:02:44.316207Z"
    }
   },
   "cell_type": "code",
   "source": [
    "random_3d_tensor = torch.rand(2, 4, 5)\n",
    "\n",
    "print(random_3d_tensor.shape)\n",
    "\n",
    "random_3d_tensor"
   ],
   "id": "7a3e4ea963715ba8",
   "outputs": [
    {
     "name": "stdout",
     "output_type": "stream",
     "text": [
      "torch.Size([2, 4, 5])\n"
     ]
    },
    {
     "data": {
      "text/plain": [
       "tensor([[[0.7086, 0.0733, 0.5688, 0.5559, 0.4662],\n",
       "         [0.4953, 0.7827, 0.4712, 0.8054, 0.4218],\n",
       "         [0.3185, 0.5141, 0.2404, 0.7458, 0.7792],\n",
       "         [0.9021, 0.7271, 0.4946, 0.1188, 0.9285]],\n",
       "\n",
       "        [[0.3414, 0.8827, 0.7041, 0.8942, 0.3321],\n",
       "         [0.2499, 0.7503, 0.5765, 0.0512, 0.7078],\n",
       "         [0.8318, 0.2095, 0.2037, 0.8718, 0.1484],\n",
       "         [0.5897, 0.8910, 0.9870, 0.6202, 0.5690]]])"
      ]
     },
     "execution_count": 29,
     "metadata": {},
     "output_type": "execute_result"
    }
   ],
   "execution_count": 29
  },
  {
   "metadata": {
    "ExecuteTime": {
     "end_time": "2025-01-31T05:02:44.551983Z",
     "start_time": "2025-01-31T05:02:44.532994Z"
    }
   },
   "cell_type": "code",
   "source": [
    "#Create a random tensor with similar shape to an image tensor\n",
    "\n",
    "random_image_size_tensor = torch.rand(size=(3, 224, 224))  #colour channels (R, G, B), height, width \n",
    "\n",
    "print(random_image_size_tensor.shape)\n",
    "random_image_size_tensor"
   ],
   "id": "c3882d652fbd2a24",
   "outputs": [
    {
     "name": "stdout",
     "output_type": "stream",
     "text": [
      "torch.Size([3, 224, 224])\n"
     ]
    },
    {
     "data": {
      "text/plain": [
       "tensor([[[0.9931, 0.1083, 0.5516,  ..., 0.4743, 0.8533, 0.1574],\n",
       "         [0.0021, 0.4009, 0.5548,  ..., 0.6686, 0.7962, 0.3938],\n",
       "         [0.9478, 0.5516, 0.3012,  ..., 0.2287, 0.0934, 0.3226],\n",
       "         ...,\n",
       "         [0.6162, 0.8911, 0.4309,  ..., 0.4408, 0.3001, 0.4023],\n",
       "         [0.1754, 0.9300, 0.5653,  ..., 0.4824, 0.8067, 0.7696],\n",
       "         [0.5253, 0.1847, 0.1480,  ..., 0.8265, 0.0347, 0.1080]],\n",
       "\n",
       "        [[0.9522, 0.4136, 0.8811,  ..., 0.5479, 0.0255, 0.8153],\n",
       "         [0.4757, 0.8860, 0.3656,  ..., 0.5767, 0.7409, 0.3060],\n",
       "         [0.1275, 0.4576, 0.2802,  ..., 0.3641, 0.3387, 0.6143],\n",
       "         ...,\n",
       "         [0.0109, 0.4212, 0.4310,  ..., 0.5213, 0.9464, 0.6092],\n",
       "         [0.6944, 0.1117, 0.9787,  ..., 0.3288, 0.3486, 0.4076],\n",
       "         [0.4254, 0.6665, 0.1163,  ..., 0.3001, 0.6237, 0.6133]],\n",
       "\n",
       "        [[0.1553, 0.9886, 0.3617,  ..., 0.2466, 0.5562, 0.9215],\n",
       "         [0.6511, 0.5326, 0.1162,  ..., 0.6325, 0.6084, 0.6822],\n",
       "         [0.2847, 0.6450, 0.6953,  ..., 0.6636, 0.9305, 0.9257],\n",
       "         ...,\n",
       "         [0.4530, 0.4841, 0.4406,  ..., 0.0280, 0.6595, 0.5147],\n",
       "         [0.0483, 0.7428, 0.8084,  ..., 0.8961, 0.8597, 0.6535],\n",
       "         [0.9761, 0.0015, 0.2881,  ..., 0.8069, 0.1088, 0.4877]]])"
      ]
     },
     "execution_count": 30,
     "metadata": {},
     "output_type": "execute_result"
    }
   ],
   "execution_count": 30
  },
  {
   "metadata": {},
   "cell_type": "markdown",
   "source": "## Zeros and ones",
   "id": "103a1df5fafcf7f7"
  },
  {
   "metadata": {
    "ExecuteTime": {
     "end_time": "2025-01-31T05:02:44.798796Z",
     "start_time": "2025-01-31T05:02:44.781791Z"
    }
   },
   "cell_type": "code",
   "source": [
    "zeros_3d = torch.zeros(size=(3, 4, 4))\n",
    "zeros_3d"
   ],
   "id": "d0a27882c45eb48b",
   "outputs": [
    {
     "data": {
      "text/plain": [
       "tensor([[[0., 0., 0., 0.],\n",
       "         [0., 0., 0., 0.],\n",
       "         [0., 0., 0., 0.],\n",
       "         [0., 0., 0., 0.]],\n",
       "\n",
       "        [[0., 0., 0., 0.],\n",
       "         [0., 0., 0., 0.],\n",
       "         [0., 0., 0., 0.],\n",
       "         [0., 0., 0., 0.]],\n",
       "\n",
       "        [[0., 0., 0., 0.],\n",
       "         [0., 0., 0., 0.],\n",
       "         [0., 0., 0., 0.],\n",
       "         [0., 0., 0., 0.]]])"
      ]
     },
     "execution_count": 31,
     "metadata": {},
     "output_type": "execute_result"
    }
   ],
   "execution_count": 31
  },
  {
   "metadata": {
    "ExecuteTime": {
     "end_time": "2025-01-31T05:02:44.876282Z",
     "start_time": "2025-01-31T05:02:44.864241Z"
    }
   },
   "cell_type": "code",
   "source": [
    "zeros = torch.zeros(size=(3, 4))\n",
    "\n",
    "zeros * random_tensor"
   ],
   "id": "1fd820cef156f8e7",
   "outputs": [
    {
     "data": {
      "text/plain": [
       "tensor([[0., 0., 0., 0.],\n",
       "        [0., 0., 0., 0.],\n",
       "        [0., 0., 0., 0.]])"
      ]
     },
     "execution_count": 32,
     "metadata": {},
     "output_type": "execute_result"
    }
   ],
   "execution_count": 32
  },
  {
   "metadata": {
    "ExecuteTime": {
     "end_time": "2025-01-31T05:02:45.001045Z",
     "start_time": "2025-01-31T05:02:44.987913Z"
    }
   },
   "cell_type": "code",
   "source": [
    "ones = torch.ones(size=(3, 4))\n",
    "ones\n"
   ],
   "id": "471f6360cb7152a3",
   "outputs": [
    {
     "data": {
      "text/plain": [
       "tensor([[1., 1., 1., 1.],\n",
       "        [1., 1., 1., 1.],\n",
       "        [1., 1., 1., 1.]])"
      ]
     },
     "execution_count": 33,
     "metadata": {},
     "output_type": "execute_result"
    }
   ],
   "execution_count": 33
  },
  {
   "metadata": {
    "ExecuteTime": {
     "end_time": "2025-01-31T05:02:45.234591Z",
     "start_time": "2025-01-31T05:02:45.226067Z"
    }
   },
   "cell_type": "code",
   "source": [
    "#default data type for tensors\n",
    "ones.dtype"
   ],
   "id": "736da6584783d238",
   "outputs": [
    {
     "data": {
      "text/plain": [
       "torch.float32"
      ]
     },
     "execution_count": 34,
     "metadata": {},
     "output_type": "execute_result"
    }
   ],
   "execution_count": 34
  },
  {
   "metadata": {},
   "cell_type": "markdown",
   "source": "### Creating a range of tensors and tensors-like",
   "id": "6de47f888f610906"
  },
  {
   "metadata": {
    "ExecuteTime": {
     "end_time": "2025-01-31T05:02:45.436377Z",
     "start_time": "2025-01-31T05:02:45.421691Z"
    }
   },
   "cell_type": "code",
   "source": [
    "# Use torch.range\n",
    "\n",
    "two_to_20 = torch.arange(2, 21)\n",
    "\n",
    "two_to_20"
   ],
   "id": "5528d651e3671963",
   "outputs": [
    {
     "data": {
      "text/plain": [
       "tensor([ 2,  3,  4,  5,  6,  7,  8,  9, 10, 11, 12, 13, 14, 15, 16, 17, 18, 19,\n",
       "        20])"
      ]
     },
     "execution_count": 35,
     "metadata": {},
     "output_type": "execute_result"
    }
   ],
   "execution_count": 35
  },
  {
   "metadata": {
    "ExecuteTime": {
     "end_time": "2025-01-31T05:02:45.623441Z",
     "start_time": "2025-01-31T05:02:45.605495Z"
    }
   },
   "cell_type": "code",
   "source": "torch.arange(start=0, end=100, step=2)",
   "id": "4a72216a6e16c08c",
   "outputs": [
    {
     "data": {
      "text/plain": [
       "tensor([ 0,  2,  4,  6,  8, 10, 12, 14, 16, 18, 20, 22, 24, 26, 28, 30, 32, 34,\n",
       "        36, 38, 40, 42, 44, 46, 48, 50, 52, 54, 56, 58, 60, 62, 64, 66, 68, 70,\n",
       "        72, 74, 76, 78, 80, 82, 84, 86, 88, 90, 92, 94, 96, 98])"
      ]
     },
     "execution_count": 36,
     "metadata": {},
     "output_type": "execute_result"
    }
   ],
   "execution_count": 36
  },
  {
   "metadata": {
    "ExecuteTime": {
     "end_time": "2025-01-31T05:02:45.822459Z",
     "start_time": "2025-01-31T05:02:45.807227Z"
    }
   },
   "cell_type": "code",
   "source": "torch.arange(start=0, end=102, step=2)",
   "id": "d365dc09dfbc170d",
   "outputs": [
    {
     "data": {
      "text/plain": [
       "tensor([  0,   2,   4,   6,   8,  10,  12,  14,  16,  18,  20,  22,  24,  26,\n",
       "         28,  30,  32,  34,  36,  38,  40,  42,  44,  46,  48,  50,  52,  54,\n",
       "         56,  58,  60,  62,  64,  66,  68,  70,  72,  74,  76,  78,  80,  82,\n",
       "         84,  86,  88,  90,  92,  94,  96,  98, 100])"
      ]
     },
     "execution_count": 37,
     "metadata": {},
     "output_type": "execute_result"
    }
   ],
   "execution_count": 37
  },
  {
   "metadata": {},
   "cell_type": "markdown",
   "source": "### Creating tensors like",
   "id": "2d8887f2462c35dc"
  },
  {
   "metadata": {
    "ExecuteTime": {
     "end_time": "2025-01-31T05:02:45.930356Z",
     "start_time": "2025-01-31T05:02:45.912641Z"
    }
   },
   "cell_type": "code",
   "source": [
    "# Creating a tensor like the shape of another tensor\n",
    "\n",
    "tensor_like_twenty = torch.zeros_like(input=two_to_20)\n",
    "\n",
    "tensor_like_twenty"
   ],
   "id": "2660d66b40eed829",
   "outputs": [
    {
     "data": {
      "text/plain": [
       "tensor([0, 0, 0, 0, 0, 0, 0, 0, 0, 0, 0, 0, 0, 0, 0, 0, 0, 0, 0])"
      ]
     },
     "execution_count": 38,
     "metadata": {},
     "output_type": "execute_result"
    }
   ],
   "execution_count": 38
  },
  {
   "metadata": {
    "ExecuteTime": {
     "end_time": "2025-01-31T05:02:46.024784Z",
     "start_time": "2025-01-31T05:02:46.014044Z"
    }
   },
   "cell_type": "code",
   "source": [
    "tensor_like_3d_random = torch.rand_like(input=random_tensor)\n",
    "\n",
    "tensor_like_3d_random"
   ],
   "id": "b044dbd65c8a83ea",
   "outputs": [
    {
     "data": {
      "text/plain": [
       "tensor([[0.8708, 0.2961, 0.0451, 0.2847],\n",
       "        [0.4701, 0.1214, 0.6153, 0.7859],\n",
       "        [0.1516, 0.7099, 0.7018, 0.6816]])"
      ]
     },
     "execution_count": 39,
     "metadata": {},
     "output_type": "execute_result"
    }
   ],
   "execution_count": 39
  },
  {
   "metadata": {
    "ExecuteTime": {
     "end_time": "2025-01-31T05:02:46.101274Z",
     "start_time": "2025-01-31T05:02:46.092626Z"
    }
   },
   "cell_type": "code",
   "source": [
    "#doesnt work because rand requires float not int\n",
    "# torch.rand_like(input=TENSOR_2)\n",
    "\n",
    "torch.ones_like(input=TENSOR_2)\n"
   ],
   "id": "4fa4a4a97b95e17b",
   "outputs": [
    {
     "data": {
      "text/plain": [
       "tensor([[[1, 1, 1],\n",
       "         [1, 1, 1],\n",
       "         [1, 1, 1],\n",
       "         [1, 1, 1]],\n",
       "\n",
       "        [[1, 1, 1],\n",
       "         [1, 1, 1],\n",
       "         [1, 1, 1],\n",
       "         [1, 1, 1]]])"
      ]
     },
     "execution_count": 40,
     "metadata": {},
     "output_type": "execute_result"
    }
   ],
   "execution_count": 40
  },
  {
   "metadata": {},
   "cell_type": "markdown",
   "source": [
    "## Tensor Datatypes\n",
    "\n",
    "**Note:** Dtype is one 3 common errors when running PyTorch for DL\n",
    "1. Tensor is not right dtype\n",
    "2. Tensor not right shape\n",
    "3. Tensor not on right device "
   ],
   "id": "5bd670461a67d01d"
  },
  {
   "metadata": {
    "ExecuteTime": {
     "end_time": "2025-01-31T05:02:46.271598Z",
     "start_time": "2025-01-31T05:02:46.257585Z"
    }
   },
   "cell_type": "code",
   "source": [
    "float_32_tensor = torch.tensor([3.0, 6.0], dtype=None)\n",
    "\n",
    "float_32_tensor"
   ],
   "id": "878786c4dd872370",
   "outputs": [
    {
     "data": {
      "text/plain": [
       "tensor([3., 6.])"
      ]
     },
     "execution_count": 41,
     "metadata": {},
     "output_type": "execute_result"
    }
   ],
   "execution_count": 41
  },
  {
   "metadata": {
    "ExecuteTime": {
     "end_time": "2025-01-31T05:02:46.426099Z",
     "start_time": "2025-01-31T05:02:46.410683Z"
    }
   },
   "cell_type": "code",
   "source": [
    "\n",
    "#Still shows dtype as float because its the default dtype in torch\n",
    "float_32_tensor.dtype"
   ],
   "id": "be9078a29c51c1c5",
   "outputs": [
    {
     "data": {
      "text/plain": [
       "torch.float32"
      ]
     },
     "execution_count": 42,
     "metadata": {},
     "output_type": "execute_result"
    }
   ],
   "execution_count": 42
  },
  {
   "metadata": {
    "ExecuteTime": {
     "end_time": "2025-01-31T05:02:46.518743Z",
     "start_time": "2025-01-31T05:02:46.513406Z"
    }
   },
   "cell_type": "code",
   "source": [
    "all_param_tensor = torch.tensor([\n",
    "    [6, 7],\n",
    "    [8, 9]\n",
    "], dtype=None,  # datatype of data in the tensor\n",
    "    device=None,  # default is cpu,could be changed to cuda\n",
    "    requires_grad=False  # If you want the tensor to track gradients when the values are updated\n",
    ")"
   ],
   "id": "1b3d362c680961e",
   "outputs": [],
   "execution_count": 43
  },
  {
   "metadata": {
    "ExecuteTime": {
     "end_time": "2025-01-31T05:02:46.580610Z",
     "start_time": "2025-01-31T05:02:46.571032Z"
    }
   },
   "cell_type": "code",
   "source": [
    "float_16_tensor = float_32_tensor.type(torch.half)\n",
    "# or\n",
    "# float_16_tensor = float_32_tensor.type(torch.float16)\n",
    "float_16_tensor"
   ],
   "id": "81fdfc68984fb5ef",
   "outputs": [
    {
     "data": {
      "text/plain": [
       "tensor([3., 6.], dtype=torch.float16)"
      ]
     },
     "execution_count": 44,
     "metadata": {},
     "output_type": "execute_result"
    }
   ],
   "execution_count": 44
  },
  {
   "metadata": {
    "ExecuteTime": {
     "end_time": "2025-01-31T05:02:46.657813Z",
     "start_time": "2025-01-31T05:02:46.650883Z"
    }
   },
   "cell_type": "code",
   "source": [
    "#type casted to higher capacity dtype\n",
    "(float_32_tensor * float_16_tensor).dtype"
   ],
   "id": "43f745f815332d1d",
   "outputs": [
    {
     "data": {
      "text/plain": [
       "torch.float32"
      ]
     },
     "execution_count": 45,
     "metadata": {},
     "output_type": "execute_result"
    }
   ],
   "execution_count": 45
  },
  {
   "metadata": {
    "ExecuteTime": {
     "end_time": "2025-01-31T05:02:46.906641Z",
     "start_time": "2025-01-31T05:02:46.885863Z"
    }
   },
   "cell_type": "code",
   "source": [
    "int_32_tensor = torch.tensor([3, 6], dtype=torch.int32)\n",
    "int_32_tensor"
   ],
   "id": "f14c1f3b7bb2656a",
   "outputs": [
    {
     "data": {
      "text/plain": [
       "tensor([3, 6], dtype=torch.int32)"
      ]
     },
     "execution_count": 46,
     "metadata": {},
     "output_type": "execute_result"
    }
   ],
   "execution_count": 46
  },
  {
   "metadata": {
    "ExecuteTime": {
     "end_time": "2025-01-31T05:02:46.999653Z",
     "start_time": "2025-01-31T05:02:46.983668Z"
    }
   },
   "cell_type": "code",
   "source": "float_32_tensor * int_32_tensor",
   "id": "4dde2a322cc71130",
   "outputs": [
    {
     "data": {
      "text/plain": [
       "tensor([ 9., 36.])"
      ]
     },
     "execution_count": 47,
     "metadata": {},
     "output_type": "execute_result"
    }
   ],
   "execution_count": 47
  },
  {
   "metadata": {
    "ExecuteTime": {
     "end_time": "2025-01-31T05:02:47.107692Z",
     "start_time": "2025-01-31T05:02:47.096775Z"
    }
   },
   "cell_type": "code",
   "source": [
    "long_tensor = torch.tensor(data=([3, 6]), dtype=torch.long)\n",
    "long_tensor"
   ],
   "id": "dfbfc525d7a881a9",
   "outputs": [
    {
     "data": {
      "text/plain": [
       "tensor([3, 6])"
      ]
     },
     "execution_count": 48,
     "metadata": {},
     "output_type": "execute_result"
    }
   ],
   "execution_count": 48
  },
  {
   "metadata": {
    "ExecuteTime": {
     "end_time": "2025-01-31T05:02:47.218274Z",
     "start_time": "2025-01-31T05:02:47.204505Z"
    }
   },
   "cell_type": "code",
   "source": "float_32_tensor * long_tensor",
   "id": "6abbed4ba47274c2",
   "outputs": [
    {
     "data": {
      "text/plain": [
       "tensor([ 9., 36.])"
      ]
     },
     "execution_count": 49,
     "metadata": {},
     "output_type": "execute_result"
    }
   ],
   "execution_count": 49
  },
  {
   "metadata": {},
   "cell_type": "markdown",
   "source": [
    "### Getting info from tensor\n",
    "\n",
    "1. Tensor is not right dtype - to get dtype from a tensor - use `tensor.dtype` \n",
    "2. Tensor not right shape - to get shape, use `tensor.shape`\n",
    "3. Tensor not on right device - to get which device tensor is on, use `tensor.device` "
   ],
   "id": "f43b022246038b14"
  },
  {
   "metadata": {
    "ExecuteTime": {
     "end_time": "2025-01-31T05:02:47.297432Z",
     "start_time": "2025-01-31T05:02:47.276965Z"
    }
   },
   "cell_type": "code",
   "source": [
    "some_tensor = torch.rand(3, 4)\n",
    "some_tensor"
   ],
   "id": "a4e5aeb55e06818d",
   "outputs": [
    {
     "data": {
      "text/plain": [
       "tensor([[0.3731, 0.8716, 0.3473, 0.7439],\n",
       "        [0.9673, 0.1994, 0.7434, 0.9422],\n",
       "        [0.5207, 0.4518, 0.2280, 0.1446]])"
      ]
     },
     "execution_count": 50,
     "metadata": {},
     "output_type": "execute_result"
    }
   ],
   "execution_count": 50
  },
  {
   "metadata": {
    "ExecuteTime": {
     "end_time": "2025-01-31T05:02:47.405751Z",
     "start_time": "2025-01-31T05:02:47.391351Z"
    }
   },
   "cell_type": "code",
   "source": [
    "print(some_tensor)\n",
    "print(f\"Datatype of tensor: {some_tensor.dtype}\")\n",
    "print(f\"Shape of tensor: {some_tensor.shape}\")\n",
    "print(f\"Device of tensor: {some_tensor.device}\")"
   ],
   "id": "272faf323ed211c4",
   "outputs": [
    {
     "name": "stdout",
     "output_type": "stream",
     "text": [
      "tensor([[0.3731, 0.8716, 0.3473, 0.7439],\n",
      "        [0.9673, 0.1994, 0.7434, 0.9422],\n",
      "        [0.5207, 0.4518, 0.2280, 0.1446]])\n",
      "Datatype of tensor: torch.float32\n",
      "Shape of tensor: torch.Size([3, 4])\n",
      "Device of tensor: cpu\n"
     ]
    }
   ],
   "execution_count": 51
  },
  {
   "metadata": {
    "ExecuteTime": {
     "end_time": "2025-01-31T05:02:47.608779Z",
     "start_time": "2025-01-31T05:02:47.595889Z"
    }
   },
   "cell_type": "code",
   "source": [
    "#Note tensor shape and size are the same\n",
    "#Size is just a func, while shape is an attribute\n",
    "\n",
    "some_tensor.shape, some_tensor.size()"
   ],
   "id": "af6d8116098d78a7",
   "outputs": [
    {
     "data": {
      "text/plain": [
       "(torch.Size([3, 4]), torch.Size([3, 4]))"
      ]
     },
     "execution_count": 52,
     "metadata": {},
     "output_type": "execute_result"
    }
   ],
   "execution_count": 52
  },
  {
   "metadata": {
    "ExecuteTime": {
     "end_time": "2025-01-31T05:02:48.507633Z",
     "start_time": "2025-01-31T05:02:47.703920Z"
    }
   },
   "cell_type": "code",
   "source": "gpu_tensor = torch.rand(3, 4, device=torch.device('cuda'))\n",
   "id": "412c0fdd150d0f14",
   "outputs": [],
   "execution_count": 53
  },
  {
   "metadata": {},
   "cell_type": "markdown",
   "source": [
    "\n",
    "## Manipulating Tensors (Tensor Operations)\n",
    "\n",
    "Ops include:\n",
    "* Addition\n",
    "* Subtraction\n",
    "* Element-wise multiplication\n",
    "* Matrix multiplication\n",
    "* Division"
   ],
   "id": "2f133ef958b8d522"
  },
  {
   "metadata": {
    "ExecuteTime": {
     "end_time": "2025-01-31T05:02:48.678782Z",
     "start_time": "2025-01-31T05:02:48.663784Z"
    }
   },
   "cell_type": "code",
   "source": [
    "test_tensor = torch.tensor(data=([1, 2, 3]))\n",
    "test_tensor + 10"
   ],
   "id": "385a55850a245cc4",
   "outputs": [
    {
     "data": {
      "text/plain": [
       "tensor([11, 12, 13])"
      ]
     },
     "execution_count": 54,
     "metadata": {},
     "output_type": "execute_result"
    }
   ],
   "execution_count": 54
  },
  {
   "metadata": {
    "ExecuteTime": {
     "end_time": "2025-01-31T05:02:48.724304Z",
     "start_time": "2025-01-31T05:02:48.712789Z"
    }
   },
   "cell_type": "code",
   "source": "test_tensor - 10",
   "id": "9728efd7b12f2af",
   "outputs": [
    {
     "data": {
      "text/plain": [
       "tensor([-9, -8, -7])"
      ]
     },
     "execution_count": 55,
     "metadata": {},
     "output_type": "execute_result"
    }
   ],
   "execution_count": 55
  },
  {
   "metadata": {
    "ExecuteTime": {
     "end_time": "2025-01-31T05:02:48.755303Z",
     "start_time": "2025-01-31T05:02:48.749309Z"
    }
   },
   "cell_type": "code",
   "source": "test_tensor * 10",
   "id": "98c87773ba0141dc",
   "outputs": [
    {
     "data": {
      "text/plain": [
       "tensor([10, 20, 30])"
      ]
     },
     "execution_count": 56,
     "metadata": {},
     "output_type": "execute_result"
    }
   ],
   "execution_count": 56
  },
  {
   "metadata": {
    "ExecuteTime": {
     "end_time": "2025-01-31T05:02:48.817347Z",
     "start_time": "2025-01-31T05:02:48.803322Z"
    }
   },
   "cell_type": "code",
   "source": "test_tensor / 10",
   "id": "cadc38e8db4ea9d8",
   "outputs": [
    {
     "data": {
      "text/plain": [
       "tensor([0.1000, 0.2000, 0.3000])"
      ]
     },
     "execution_count": 57,
     "metadata": {},
     "output_type": "execute_result"
    }
   ],
   "execution_count": 57
  },
  {
   "metadata": {
    "ExecuteTime": {
     "end_time": "2025-01-31T05:02:48.864452Z",
     "start_time": "2025-01-31T05:02:48.846453Z"
    }
   },
   "cell_type": "code",
   "source": "test_tensor // 10",
   "id": "7b11195f0c648d66",
   "outputs": [
    {
     "data": {
      "text/plain": [
       "tensor([0, 0, 0])"
      ]
     },
     "execution_count": 58,
     "metadata": {},
     "output_type": "execute_result"
    }
   ],
   "execution_count": 58
  },
  {
   "metadata": {
    "ExecuteTime": {
     "end_time": "2025-01-31T05:02:48.925987Z",
     "start_time": "2025-01-31T05:02:48.906432Z"
    }
   },
   "cell_type": "code",
   "source": "torch.multiply(test_tensor, 10)",
   "id": "e4c46c52b8596823",
   "outputs": [
    {
     "data": {
      "text/plain": [
       "tensor([10, 20, 30])"
      ]
     },
     "execution_count": 59,
     "metadata": {},
     "output_type": "execute_result"
    }
   ],
   "execution_count": 59
  },
  {
   "metadata": {},
   "cell_type": "markdown",
   "source": [
    "### Matrix multiplication\n",
    "\n",
    "Two main ways of multiplication:\n",
    "1. Element-wise multiplication (e.g. matrix * scalar)\n",
    "2. Matrix multiplication (dot product => a . b)\n",
    "\n",
    "Matrix multiplication rules\n",
    "1. The **inner dimensions** must match: \n",
    "* `(3,2) @ (3,2)` wont work\n",
    "* `(3,2) @ (2,3)` will work\n",
    "* `(2,3) @ (3,2)` will work\n",
    "2. The resulting matrix will have the shape of the **outer dimensions**:\n",
    "* `(3,2) @ (2,3)` -> `(3,3)`\n",
    "* `(2,3) @ (3,2)` -> `(2,2)`\n",
    "\n",
    "Generalizing:\n",
    "**mxn.nxp = mxp**\n",
    "\n",
    "cols of first matrix = rows of second matrix\n",
    "Result will have rows of first and cols of second"
   ],
   "id": "7fd0928370f5275e"
  },
  {
   "metadata": {
    "ExecuteTime": {
     "end_time": "2025-01-31T05:02:48.972991Z",
     "start_time": "2025-01-31T05:02:48.953992Z"
    }
   },
   "cell_type": "code",
   "source": [
    "mul_tensor = torch.tensor(data=(\n",
    "    [1, 2, 3],\n",
    "    [4, 5, 6])\n",
    ")\n",
    "\n",
    "mul_tensor_2 = torch.tensor(data=(\n",
    "    [7, 8],\n",
    "    [10, 11],\n",
    "    [13, 14])\n",
    ")"
   ],
   "id": "cecf4d07de7c909",
   "outputs": [],
   "execution_count": 60
  },
  {
   "metadata": {
    "ExecuteTime": {
     "end_time": "2025-01-31T05:02:49.019932Z",
     "start_time": "2025-01-31T05:02:49.002992Z"
    }
   },
   "cell_type": "code",
   "source": [
    "#Element-wise multiplication\n",
    "print(mul_tensor, \"*\", mul_tensor)\n",
    "print(f\"Equals: {mul_tensor * mul_tensor}\")\n",
    "\n",
    "# Cant multiply element-wise because shape mismatch\n",
    "# print(f\"Equals: {mul_tensor * mul_tensor_2}\")"
   ],
   "id": "d7b9cbe2c9e6a695",
   "outputs": [
    {
     "name": "stdout",
     "output_type": "stream",
     "text": [
      "tensor([[1, 2, 3],\n",
      "        [4, 5, 6]]) * tensor([[1, 2, 3],\n",
      "        [4, 5, 6]])\n",
      "Equals: tensor([[ 1,  4,  9],\n",
      "        [16, 25, 36]])\n"
     ]
    }
   ],
   "execution_count": 61
  },
  {
   "metadata": {
    "ExecuteTime": {
     "end_time": "2025-01-31T05:02:49.081043Z",
     "start_time": "2025-01-31T05:02:49.066043Z"
    }
   },
   "cell_type": "code",
   "source": [
    "#Matrix multiplication\n",
    "torch.matmul(input=mul_tensor, other=mul_tensor_2)"
   ],
   "id": "43abe24ccdd6cce3",
   "outputs": [
    {
     "data": {
      "text/plain": [
       "tensor([[ 66,  72],\n",
       "        [156, 171]])"
      ]
     },
     "execution_count": 62,
     "metadata": {},
     "output_type": "execute_result"
    }
   ],
   "execution_count": 62
  },
  {
   "metadata": {
    "ExecuteTime": {
     "end_time": "2025-01-31T05:02:49.159624Z",
     "start_time": "2025-01-31T05:02:49.145621Z"
    }
   },
   "cell_type": "code",
   "source": "torch.matmul(input=mul_tensor_2, other=mul_tensor)",
   "id": "f332f796e007d21c",
   "outputs": [
    {
     "data": {
      "text/plain": [
       "tensor([[ 39,  54,  69],\n",
       "        [ 54,  75,  96],\n",
       "        [ 69,  96, 123]])"
      ]
     },
     "execution_count": 63,
     "metadata": {},
     "output_type": "execute_result"
    }
   ],
   "execution_count": 63
  },
  {
   "metadata": {
    "ExecuteTime": {
     "end_time": "2025-01-31T05:02:49.268142Z",
     "start_time": "2025-01-31T05:02:49.252148Z"
    }
   },
   "cell_type": "code",
   "source": [
    "tensor_sca_1 = torch.tensor(data=([1, 2, 3]))\n",
    "\n"
   ],
   "id": "e1998b363afc5000",
   "outputs": [],
   "execution_count": 64
  },
  {
   "metadata": {
    "ExecuteTime": {
     "end_time": "2025-01-31T05:02:49.376884Z",
     "start_time": "2025-01-31T05:02:49.363214Z"
    }
   },
   "cell_type": "code",
   "source": [
    "%%time\n",
    "#Doesnt show it here but this is way faster for big tensor multiplications than a for loop\n",
    "torch.matmul(tensor_sca_1, tensor_sca_1)"
   ],
   "id": "2adca4e327fad62c",
   "outputs": [
    {
     "name": "stdout",
     "output_type": "stream",
     "text": [
      "CPU times: total: 0 ns\n",
      "Wall time: 2.22 ms\n"
     ]
    },
    {
     "data": {
      "text/plain": [
       "tensor(14)"
      ]
     },
     "execution_count": 65,
     "metadata": {},
     "output_type": "execute_result"
    }
   ],
   "execution_count": 65
  },
  {
   "metadata": {
    "ExecuteTime": {
     "end_time": "2025-01-31T05:02:49.484474Z",
     "start_time": "2025-01-31T05:02:49.476643Z"
    }
   },
   "cell_type": "code",
   "source": [
    "%%time \n",
    "#Has to be first thing in cell\n",
    "# The above cell is basically only doing a dot product between 2 vectors\n",
    "sum = 0\n",
    "for i in tensor_sca_1:\n",
    "    sum += i * i\n",
    "sum\n",
    "\n",
    "# 1*1 + 2*2 + 3*3 "
   ],
   "id": "2c9e38c4aa03726f",
   "outputs": [
    {
     "name": "stdout",
     "output_type": "stream",
     "text": [
      "CPU times: total: 0 ns\n",
      "Wall time: 1.47 ms\n"
     ]
    },
    {
     "data": {
      "text/plain": [
       "tensor(14)"
      ]
     },
     "execution_count": 66,
     "metadata": {},
     "output_type": "execute_result"
    }
   ],
   "execution_count": 66
  },
  {
   "metadata": {
    "ExecuteTime": {
     "end_time": "2025-01-31T05:02:49.686570Z",
     "start_time": "2025-01-31T05:02:49.675573Z"
    }
   },
   "cell_type": "code",
   "source": [
    "# Another way of saying mat mul\n",
    "tensor_sca_1 @ tensor_sca_1"
   ],
   "id": "e55d61fca5cc57cd",
   "outputs": [
    {
     "data": {
      "text/plain": [
       "tensor(14)"
      ]
     },
     "execution_count": 67,
     "metadata": {},
     "output_type": "execute_result"
    }
   ],
   "execution_count": 67
  },
  {
   "metadata": {
    "ExecuteTime": {
     "end_time": "2025-01-31T05:02:49.733659Z",
     "start_time": "2025-01-31T05:02:49.727657Z"
    }
   },
   "cell_type": "code",
   "source": [
    "#This is working because it is being treated as a vector instead of a matrix\n",
    "# If it considered it as a matrix of 1,3 then it would give an error\n",
    "tensor_sca_1.shape"
   ],
   "id": "eaafe8e26bd77c89",
   "outputs": [
    {
     "data": {
      "text/plain": [
       "torch.Size([3])"
      ]
     },
     "execution_count": 68,
     "metadata": {},
     "output_type": "execute_result"
    }
   ],
   "execution_count": 68
  },
  {
   "metadata": {
    "ExecuteTime": {
     "end_time": "2025-01-31T05:02:49.811664Z",
     "start_time": "2025-01-31T05:02:49.796662Z"
    }
   },
   "cell_type": "code",
   "source": [
    "shape_2_vector = torch.tensor(data=[[1, 2, 3]])\n",
    "shape_2_vector.shape"
   ],
   "id": "98d4363c3f487381",
   "outputs": [
    {
     "data": {
      "text/plain": [
       "torch.Size([1, 3])"
      ]
     },
     "execution_count": 69,
     "metadata": {},
     "output_type": "execute_result"
    }
   ],
   "execution_count": 69
  },
  {
   "metadata": {
    "ExecuteTime": {
     "end_time": "2025-01-31T05:02:49.889712Z",
     "start_time": "2025-01-31T05:02:49.883712Z"
    }
   },
   "cell_type": "code",
   "source": [
    "# RuntimeError: mat1 and mat2 shapes cannot be multiplied (1x3 and 1x3)\n",
    "# torch.matmul(shape_2_vector, shape_2_vector)"
   ],
   "id": "84337837981b13eb",
   "outputs": [],
   "execution_count": 70
  },
  {
   "metadata": {
    "ExecuteTime": {
     "end_time": "2025-01-31T05:02:49.921720Z",
     "start_time": "2025-01-31T05:02:49.913719Z"
    }
   },
   "cell_type": "code",
   "source": [
    "# This works because it transposed the second vector making it 3x1\n",
    "torch.matmul(shape_2_vector, shape_2_vector.T)"
   ],
   "id": "e7c7f866eb7187c4",
   "outputs": [
    {
     "data": {
      "text/plain": [
       "tensor([[14]])"
      ]
     },
     "execution_count": 71,
     "metadata": {},
     "output_type": "execute_result"
    }
   ],
   "execution_count": 71
  },
  {
   "metadata": {},
   "cell_type": "markdown",
   "source": "#### One of the most common errors in DL : Shape errors",
   "id": "1226a55ac1e7bcce"
  },
  {
   "metadata": {
    "ExecuteTime": {
     "end_time": "2025-01-31T05:02:50.108564Z",
     "start_time": "2025-01-31T05:02:50.094553Z"
    }
   },
   "cell_type": "code",
   "source": [
    "# Shapes for Matrix multiplication\n",
    "Tensor_A = torch.tensor(data=[[1, 2, ],\n",
    "                              [4, 5, ],\n",
    "                              [7, 8, ]])\n",
    "\n",
    "Tensor_B = torch.tensor(data=[[1, 2, ],\n",
    "                              [3, 4, ],\n",
    "                              [5, 6, ]])"
   ],
   "id": "5b6c6e8b0963c519",
   "outputs": [],
   "execution_count": 72
  },
  {
   "metadata": {
    "ExecuteTime": {
     "end_time": "2025-01-31T05:02:50.154584Z",
     "start_time": "2025-01-31T05:02:50.140602Z"
    }
   },
   "cell_type": "code",
   "source": "Tensor_A.shape, Tensor_B.shape",
   "id": "30116b7708ffdc05",
   "outputs": [
    {
     "data": {
      "text/plain": [
       "(torch.Size([3, 2]), torch.Size([3, 2]))"
      ]
     },
     "execution_count": 73,
     "metadata": {},
     "output_type": "execute_result"
    }
   ],
   "execution_count": 73
  },
  {
   "metadata": {},
   "cell_type": "markdown",
   "source": [
    "Inner dimensions are different so cant multiply \n",
    "\n",
    "To fix our issue, we can **transpose** one of our matrices\n",
    "\n",
    "A **transpose** switches the dimensions of our matrix"
   ],
   "id": "39b60116a717aac2"
  },
  {
   "metadata": {
    "ExecuteTime": {
     "end_time": "2025-01-31T05:02:50.248251Z",
     "start_time": "2025-01-31T05:02:50.243014Z"
    }
   },
   "cell_type": "code",
   "source": "Tensor_B.T",
   "id": "cf1824d1cb493df3",
   "outputs": [
    {
     "data": {
      "text/plain": [
       "tensor([[1, 3, 5],\n",
       "        [2, 4, 6]])"
      ]
     },
     "execution_count": 74,
     "metadata": {},
     "output_type": "execute_result"
    }
   ],
   "execution_count": 74
  },
  {
   "metadata": {
    "ExecuteTime": {
     "end_time": "2025-01-31T05:02:50.342130Z",
     "start_time": "2025-01-31T05:02:50.327144Z"
    }
   },
   "cell_type": "code",
   "source": "Tensor_B",
   "id": "df3b59e96f0f67df",
   "outputs": [
    {
     "data": {
      "text/plain": [
       "tensor([[1, 2],\n",
       "        [3, 4],\n",
       "        [5, 6]])"
      ]
     },
     "execution_count": 75,
     "metadata": {},
     "output_type": "execute_result"
    }
   ],
   "execution_count": 75
  },
  {
   "metadata": {
    "ExecuteTime": {
     "end_time": "2025-01-31T05:02:50.484017Z",
     "start_time": "2025-01-31T05:02:50.463472Z"
    }
   },
   "cell_type": "code",
   "source": "Tensor_B.shape, Tensor_B.T.shape",
   "id": "f985faae8e5e40f2",
   "outputs": [
    {
     "data": {
      "text/plain": [
       "(torch.Size([3, 2]), torch.Size([2, 3]))"
      ]
     },
     "execution_count": 76,
     "metadata": {},
     "output_type": "execute_result"
    }
   ],
   "execution_count": 76
  },
  {
   "metadata": {
    "ExecuteTime": {
     "end_time": "2025-01-31T05:02:50.578388Z",
     "start_time": "2025-01-31T05:02:50.564663Z"
    }
   },
   "cell_type": "code",
   "source": "torch.matmul(Tensor_A, Tensor_B.T)",
   "id": "9799d585556f26c3",
   "outputs": [
    {
     "data": {
      "text/plain": [
       "tensor([[ 5, 11, 17],\n",
       "        [14, 32, 50],\n",
       "        [23, 53, 83]])"
      ]
     },
     "execution_count": 77,
     "metadata": {},
     "output_type": "execute_result"
    }
   ],
   "execution_count": 77
  },
  {
   "metadata": {
    "ExecuteTime": {
     "end_time": "2025-01-31T05:02:50.686761Z",
     "start_time": "2025-01-31T05:02:50.677987Z"
    }
   },
   "cell_type": "code",
   "source": "torch.matmul(Tensor_A, Tensor_B.T).shape",
   "id": "e90a9551dbcb5ce9",
   "outputs": [
    {
     "data": {
      "text/plain": [
       "torch.Size([3, 3])"
      ]
     },
     "execution_count": 78,
     "metadata": {},
     "output_type": "execute_result"
    }
   ],
   "execution_count": 78
  },
  {
   "metadata": {},
   "cell_type": "markdown",
   "source": [
    "## Tensor Aggregation\n",
    "\n",
    "Finding min, max, sum, etc.\n",
    "\n"
   ],
   "id": "9915f94b686b09d2"
  },
  {
   "metadata": {
    "ExecuteTime": {
     "end_time": "2025-01-31T05:09:12.593720Z",
     "start_time": "2025-01-31T05:09:12.583711Z"
    }
   },
   "cell_type": "code",
   "source": [
    "#Stacking 2 tensors to make a new tensor\n",
    "tensor_agg = torch.stack([\n",
    "    torch.arange(1, 6, 2),\n",
    "    torch.arange(6, 11, 2)\n",
    "])\n",
    "\n",
    "tensor_agg"
   ],
   "id": "afe7684c6280351d",
   "outputs": [
    {
     "data": {
      "text/plain": [
       "tensor([[ 1,  3,  5],\n",
       "        [ 6,  8, 10]])"
      ]
     },
     "execution_count": 81,
     "metadata": {},
     "output_type": "execute_result"
    }
   ],
   "execution_count": 81
  },
  {
   "metadata": {
    "ExecuteTime": {
     "end_time": "2025-01-31T05:15:04.873052Z",
     "start_time": "2025-01-31T05:15:04.867704Z"
    }
   },
   "cell_type": "code",
   "source": "tensor_agg.shape",
   "id": "ffa115951ce33d10",
   "outputs": [
    {
     "data": {
      "text/plain": [
       "torch.Size([2, 3])"
      ]
     },
     "execution_count": 82,
     "metadata": {},
     "output_type": "execute_result"
    }
   ],
   "execution_count": 82
  },
  {
   "metadata": {
    "ExecuteTime": {
     "end_time": "2025-01-31T05:15:31.166867Z",
     "start_time": "2025-01-31T05:15:31.158125Z"
    }
   },
   "cell_type": "code",
   "source": "tensor_agg.min()",
   "id": "c7465d0c16c1a5ae",
   "outputs": [
    {
     "data": {
      "text/plain": [
       "tensor(1)"
      ]
     },
     "execution_count": 83,
     "metadata": {},
     "output_type": "execute_result"
    }
   ],
   "execution_count": 83
  },
  {
   "metadata": {
    "ExecuteTime": {
     "end_time": "2025-01-31T05:15:36.902312Z",
     "start_time": "2025-01-31T05:15:36.885472Z"
    }
   },
   "cell_type": "code",
   "source": "tensor_agg.max()",
   "id": "fcd742901840d6f2",
   "outputs": [
    {
     "data": {
      "text/plain": [
       "tensor(10)"
      ]
     },
     "execution_count": 84,
     "metadata": {},
     "output_type": "execute_result"
    }
   ],
   "execution_count": 84
  },
  {
   "metadata": {
    "ExecuteTime": {
     "end_time": "2025-01-31T05:15:52.534049Z",
     "start_time": "2025-01-31T05:15:52.491788Z"
    }
   },
   "cell_type": "code",
   "source": [
    "#Doesnt work because mean requires float dtype\n",
    "# tensor_agg.mean()"
   ],
   "id": "e4eb53d9086036c1",
   "outputs": [
    {
     "ename": "RuntimeError",
     "evalue": "mean(): could not infer output dtype. Input dtype must be either a floating point or complex dtype. Got: Long",
     "output_type": "error",
     "traceback": [
      "\u001B[1;31m---------------------------------------------------------------------------\u001B[0m",
      "\u001B[1;31mRuntimeError\u001B[0m                              Traceback (most recent call last)",
      "Cell \u001B[1;32mIn[85], line 1\u001B[0m\n\u001B[1;32m----> 1\u001B[0m \u001B[43mtensor_agg\u001B[49m\u001B[38;5;241;43m.\u001B[39;49m\u001B[43mmean\u001B[49m\u001B[43m(\u001B[49m\u001B[43m)\u001B[49m\n",
      "\u001B[1;31mRuntimeError\u001B[0m: mean(): could not infer output dtype. Input dtype must be either a floating point or complex dtype. Got: Long"
     ]
    }
   ],
   "execution_count": 85
  },
  {
   "metadata": {
    "ExecuteTime": {
     "end_time": "2025-01-31T05:18:07.665054Z",
     "start_time": "2025-01-31T05:18:07.643031Z"
    }
   },
   "cell_type": "code",
   "source": "torch.mean(tensor_agg.type(torch.float32))",
   "id": "6f492f26626312ac",
   "outputs": [
    {
     "data": {
      "text/plain": [
       "tensor(5.5000)"
      ]
     },
     "execution_count": 86,
     "metadata": {},
     "output_type": "execute_result"
    }
   ],
   "execution_count": 86
  },
  {
   "metadata": {
    "ExecuteTime": {
     "end_time": "2025-01-31T05:19:15.798148Z",
     "start_time": "2025-01-31T05:19:15.790767Z"
    }
   },
   "cell_type": "code",
   "source": [
    "#The above created a copy of the tensor in float, the original tensor still exists in int64 type (long)\n",
    "tensor_agg.dtype"
   ],
   "id": "5cb32ecd7a3a826",
   "outputs": [
    {
     "data": {
      "text/plain": [
       "torch.int64"
      ]
     },
     "execution_count": 88,
     "metadata": {},
     "output_type": "execute_result"
    }
   ],
   "execution_count": 88
  },
  {
   "metadata": {
    "ExecuteTime": {
     "end_time": "2025-01-31T05:20:06.407665Z",
     "start_time": "2025-01-31T05:20:06.391605Z"
    }
   },
   "cell_type": "code",
   "source": "tensor_agg.sum()",
   "id": "7b0959ad41f73d13",
   "outputs": [
    {
     "data": {
      "text/plain": [
       "tensor(33)"
      ]
     },
     "execution_count": 89,
     "metadata": {},
     "output_type": "execute_result"
    }
   ],
   "execution_count": 89
  },
  {
   "metadata": {},
   "cell_type": "markdown",
   "source": "### Finding the index of max or min (Positional max or min)",
   "id": "870cd015af0bbdb6"
  },
  {
   "metadata": {
    "ExecuteTime": {
     "end_time": "2025-01-31T05:21:48.633169Z",
     "start_time": "2025-01-31T05:21:48.615651Z"
    }
   },
   "cell_type": "code",
   "source": [
    "#Index of min is 0\n",
    "tensor_agg.argmin()"
   ],
   "id": "cc9869794632b932",
   "outputs": [
    {
     "data": {
      "text/plain": [
       "tensor(0)"
      ]
     },
     "execution_count": 90,
     "metadata": {},
     "output_type": "execute_result"
    }
   ],
   "execution_count": 90
  },
  {
   "metadata": {
    "ExecuteTime": {
     "end_time": "2025-01-31T05:21:52.501848Z",
     "start_time": "2025-01-31T05:21:52.480910Z"
    }
   },
   "cell_type": "code",
   "source": [
    "# tensor_agg.argmax() gives 5, meaning the maximum value is at the 5th position in a flattened version of the tensor.\n",
    "tensor_agg.argmax()"
   ],
   "id": "f7c071461615d1ec",
   "outputs": [
    {
     "data": {
      "text/plain": [
       "tensor(5)"
      ]
     },
     "execution_count": 91,
     "metadata": {},
     "output_type": "execute_result"
    }
   ],
   "execution_count": 91
  },
  {
   "metadata": {
    "ExecuteTime": {
     "end_time": "2025-01-31T05:23:57.933055Z",
     "start_time": "2025-01-31T05:23:57.202006Z"
    }
   },
   "cell_type": "code",
   "source": [
    "# torch.unravel_index(flat_index, shape) converts this flat index into a 2D coordinate (row, column)\n",
    "max_idx_flat = tensor_agg.argmax()\n",
    "torch.unravel_index(max_idx_flat, tensor_agg.shape)"
   ],
   "id": "b95f620e42ca387a",
   "outputs": [
    {
     "data": {
      "text/plain": [
       "(tensor(1), tensor(2))"
      ]
     },
     "execution_count": 95,
     "metadata": {},
     "output_type": "execute_result"
    }
   ],
   "execution_count": 95
  },
  {
   "metadata": {},
   "cell_type": "markdown",
   "source": [
    "## Reshaping, Stacking, Squeezing and unsqueezing tensors\n",
    "\n",
    "* Reshaping - Reshaping an input tensor into a defined shape\n",
    "* View - Return a view of a tensor in a certain shape but keep the original tensor unchanged. But keep in mind view shares the same memory as the original so any change in it will result in change in tensor\n",
    "* Stacking - Combine multiple tensors on top of each other (vstack) or side by side (hstack) (or stack by itself with input dim)\n",
    "* Squeeze - Removes all `1` dimensions from the tensor\n",
    "* Unsqueeze - Adds a `1` dimension to a tensor\n",
    "* Permute - Return a view of the input with dimensions permuted (swapped) in a certain way "
   ],
   "id": "bfea9e6e532a2c06"
  },
  {
   "metadata": {
    "ExecuteTime": {
     "end_time": "2025-01-31T05:51:49.932511Z",
     "start_time": "2025-01-31T05:51:49.920159Z"
    }
   },
   "cell_type": "code",
   "source": [
    "x = torch.arange(1., 10.)  #float\n",
    "\n",
    "x, x.shape"
   ],
   "id": "5011903176f156d",
   "outputs": [
    {
     "data": {
      "text/plain": [
       "(tensor([1., 2., 3., 4., 5., 6., 7., 8., 9.]), torch.Size([9]))"
      ]
     },
     "execution_count": 120,
     "metadata": {},
     "output_type": "execute_result"
    }
   ],
   "execution_count": 120
  },
  {
   "metadata": {
    "ExecuteTime": {
     "end_time": "2025-01-31T05:35:13.242147Z",
     "start_time": "2025-01-31T05:35:13.214355Z"
    }
   },
   "cell_type": "code",
   "source": [
    "#This wont work because we have 9 elements and we are trying to shape it into 1 row with 7 columns which wont fit\n",
    "# x_reshape = x.reshape(1, 7)\n",
    "# x_reshape, x_reshape.shape"
   ],
   "id": "7d5354b3737e3033",
   "outputs": [
    {
     "ename": "RuntimeError",
     "evalue": "shape '[1, 7]' is invalid for input of size 9",
     "output_type": "error",
     "traceback": [
      "\u001B[1;31m---------------------------------------------------------------------------\u001B[0m",
      "\u001B[1;31mRuntimeError\u001B[0m                              Traceback (most recent call last)",
      "Cell \u001B[1;32mIn[99], line 1\u001B[0m\n\u001B[1;32m----> 1\u001B[0m x_reshape \u001B[38;5;241m=\u001B[39m \u001B[43mx\u001B[49m\u001B[38;5;241;43m.\u001B[39;49m\u001B[43mreshape\u001B[49m\u001B[43m(\u001B[49m\u001B[38;5;241;43m1\u001B[39;49m\u001B[43m,\u001B[49m\u001B[38;5;241;43m7\u001B[39;49m\u001B[43m)\u001B[49m\n\u001B[0;32m      2\u001B[0m x_reshape,x_reshape\u001B[38;5;241m.\u001B[39mshape\n",
      "\u001B[1;31mRuntimeError\u001B[0m: shape '[1, 7]' is invalid for input of size 9"
     ]
    }
   ],
   "execution_count": 99
  },
  {
   "metadata": {
    "ExecuteTime": {
     "end_time": "2025-01-31T05:36:24.286758Z",
     "start_time": "2025-01-31T05:36:24.274743Z"
    }
   },
   "cell_type": "code",
   "source": [
    "#Notice we added a new dimension (extra []), earlier shape was only 9\n",
    "x_reshape = x.reshape(1, 9)\n",
    "x_reshape, x_reshape.shape"
   ],
   "id": "84d4e36cf618f94e",
   "outputs": [
    {
     "data": {
      "text/plain": [
       "(tensor([[1., 2., 3., 4., 5., 6., 7., 8., 9.]]), torch.Size([1, 9]))"
      ]
     },
     "execution_count": 100,
     "metadata": {},
     "output_type": "execute_result"
    }
   ],
   "execution_count": 100
  },
  {
   "metadata": {
    "ExecuteTime": {
     "end_time": "2025-01-31T05:37:21.469716Z",
     "start_time": "2025-01-31T05:37:21.448522Z"
    }
   },
   "cell_type": "code",
   "source": [
    "#Would require 18 elements to fill this\n",
    "# x_reshape = x.reshape(2, 9)\n",
    "# x_reshape, x_reshape.shape"
   ],
   "id": "2b98976f70720869",
   "outputs": [
    {
     "ename": "RuntimeError",
     "evalue": "shape '[2, 9]' is invalid for input of size 9",
     "output_type": "error",
     "traceback": [
      "\u001B[1;31m---------------------------------------------------------------------------\u001B[0m",
      "\u001B[1;31mRuntimeError\u001B[0m                              Traceback (most recent call last)",
      "Cell \u001B[1;32mIn[101], line 1\u001B[0m\n\u001B[1;32m----> 1\u001B[0m x_reshape \u001B[38;5;241m=\u001B[39m \u001B[43mx\u001B[49m\u001B[38;5;241;43m.\u001B[39;49m\u001B[43mreshape\u001B[49m\u001B[43m(\u001B[49m\u001B[38;5;241;43m2\u001B[39;49m\u001B[43m,\u001B[49m\u001B[43m \u001B[49m\u001B[38;5;241;43m9\u001B[39;49m\u001B[43m)\u001B[49m\n\u001B[0;32m      2\u001B[0m x_reshape, x_reshape\u001B[38;5;241m.\u001B[39mshape\n",
      "\u001B[1;31mRuntimeError\u001B[0m: shape '[2, 9]' is invalid for input of size 9"
     ]
    }
   ],
   "execution_count": 101
  },
  {
   "metadata": {
    "ExecuteTime": {
     "end_time": "2025-01-31T05:37:53.621871Z",
     "start_time": "2025-01-31T05:37:53.614846Z"
    }
   },
   "cell_type": "code",
   "source": [
    "#9 rows and 1 column\n",
    "x_reshape = x.reshape(9, 1)\n",
    "x_reshape, x_reshape.shape"
   ],
   "id": "a784f27b94e9a0a7",
   "outputs": [
    {
     "data": {
      "text/plain": [
       "(tensor([[1.],\n",
       "         [2.],\n",
       "         [3.],\n",
       "         [4.],\n",
       "         [5.],\n",
       "         [6.],\n",
       "         [7.],\n",
       "         [8.],\n",
       "         [9.]]),\n",
       " torch.Size([9, 1]))"
      ]
     },
     "execution_count": 103,
     "metadata": {},
     "output_type": "execute_result"
    }
   ],
   "execution_count": 103
  },
  {
   "metadata": {},
   "cell_type": "markdown",
   "source": [
    "Basically think this way, the product of dims is the number of elements that will fit\n",
    "\n",
    "so if i have shape (4,3) I have 12 elements. These can be reshaped to any dimensions as long as their product is 12. e.g. (2,6) "
   ],
   "id": "e231e44e1e214cdf"
  },
  {
   "metadata": {
    "ExecuteTime": {
     "end_time": "2025-01-31T05:41:45.553262Z",
     "start_time": "2025-01-31T05:41:45.546028Z"
    }
   },
   "cell_type": "code",
   "source": [
    "y = torch.tensor(data=([\n",
    "    [1, 2, 3],\n",
    "    [4, 5, 6],\n",
    "    [6, 7, 8],\n",
    "    [9, 10, 11]\n",
    "]))\n",
    "\n",
    "y, y.shape"
   ],
   "id": "39fbf2129b51b68d",
   "outputs": [
    {
     "data": {
      "text/plain": [
       "(tensor([[ 1,  2,  3],\n",
       "         [ 4,  5,  6],\n",
       "         [ 6,  7,  8],\n",
       "         [ 9, 10, 11]]),\n",
       " torch.Size([4, 3]))"
      ]
     },
     "execution_count": 105,
     "metadata": {},
     "output_type": "execute_result"
    }
   ],
   "execution_count": 105
  },
  {
   "metadata": {
    "ExecuteTime": {
     "end_time": "2025-01-31T05:42:16.745183Z",
     "start_time": "2025-01-31T05:42:16.728007Z"
    }
   },
   "cell_type": "code",
   "source": "y.reshape(2, 6), y.reshape(2, 6).shape",
   "id": "88bbea94abd0dac2",
   "outputs": [
    {
     "data": {
      "text/plain": [
       "(tensor([[ 1,  2,  3,  4,  5,  6],\n",
       "         [ 6,  7,  8,  9, 10, 11]]),\n",
       " torch.Size([2, 6]))"
      ]
     },
     "execution_count": 106,
     "metadata": {},
     "output_type": "execute_result"
    }
   ],
   "execution_count": 106
  },
  {
   "metadata": {
    "ExecuteTime": {
     "end_time": "2025-01-31T05:43:18.680561Z",
     "start_time": "2025-01-31T05:43:18.670995Z"
    }
   },
   "cell_type": "code",
   "source": "y.reshape(2, 1, 6), y.reshape(2, 1, 6).shape",
   "id": "c1bac0f5e3950ea9",
   "outputs": [
    {
     "data": {
      "text/plain": [
       "(tensor([[[ 1,  2,  3,  4,  5,  6]],\n",
       " \n",
       "         [[ 6,  7,  8,  9, 10, 11]]]),\n",
       " torch.Size([2, 1, 6]))"
      ]
     },
     "execution_count": 109,
     "metadata": {},
     "output_type": "execute_result"
    }
   ],
   "execution_count": 109
  },
  {
   "metadata": {
    "ExecuteTime": {
     "end_time": "2025-01-31T05:51:55.541885Z",
     "start_time": "2025-01-31T05:51:55.531877Z"
    }
   },
   "cell_type": "code",
   "source": [
    "#Change the view\n",
    "z = x.view(9, 1)\n",
    "z, z.shape"
   ],
   "id": "a29ae94a0f2884ad",
   "outputs": [
    {
     "data": {
      "text/plain": [
       "(tensor([[1.],\n",
       "         [2.],\n",
       "         [3.],\n",
       "         [4.],\n",
       "         [5.],\n",
       "         [6.],\n",
       "         [7.],\n",
       "         [8.],\n",
       "         [9.]]),\n",
       " torch.Size([9, 1]))"
      ]
     },
     "execution_count": 121,
     "metadata": {},
     "output_type": "execute_result"
    }
   ],
   "execution_count": 121
  },
  {
   "metadata": {
    "ExecuteTime": {
     "end_time": "2025-01-31T05:52:00.332361Z",
     "start_time": "2025-01-31T05:52:00.322854Z"
    }
   },
   "cell_type": "code",
   "source": "x, x.shape",
   "id": "e14dc233399af8b7",
   "outputs": [
    {
     "data": {
      "text/plain": [
       "(tensor([1., 2., 3., 4., 5., 6., 7., 8., 9.]), torch.Size([9]))"
      ]
     },
     "execution_count": 122,
     "metadata": {},
     "output_type": "execute_result"
    }
   ],
   "execution_count": 122
  },
  {
   "metadata": {
    "ExecuteTime": {
     "end_time": "2025-01-31T05:52:11.903836Z",
     "start_time": "2025-01-31T05:52:11.897288Z"
    }
   },
   "cell_type": "code",
   "source": [
    "#Changed the first 2 rows of z to 5 for all columns\n",
    "z[0:2, :] = 5"
   ],
   "id": "cb40fe09ae0528ad",
   "outputs": [],
   "execution_count": 123
  },
  {
   "metadata": {
    "ExecuteTime": {
     "end_time": "2025-01-31T05:53:20.284273Z",
     "start_time": "2025-01-31T05:53:20.263935Z"
    }
   },
   "cell_type": "code",
   "source": [
    "#Changing z changes x as well\n",
    "x, z"
   ],
   "id": "99badb3586fee862",
   "outputs": [
    {
     "data": {
      "text/plain": [
       "(tensor([5., 5., 3., 4., 5., 6., 7., 8., 9.]),\n",
       " tensor([[5.],\n",
       "         [5.],\n",
       "         [3.],\n",
       "         [4.],\n",
       "         [5.],\n",
       "         [6.],\n",
       "         [7.],\n",
       "         [8.],\n",
       "         [9.]]))"
      ]
     },
     "execution_count": 125,
     "metadata": {},
     "output_type": "execute_result"
    }
   ],
   "execution_count": 125
  },
  {
   "metadata": {
    "ExecuteTime": {
     "end_time": "2025-01-31T05:54:31.336798Z",
     "start_time": "2025-01-31T05:54:31.330069Z"
    }
   },
   "cell_type": "code",
   "source": [
    "#Stack tensors on top of each other\n",
    "x_stacked = torch.stack([x, x, x, x], dim=0)\n",
    "#Stacked vertically, as new rows\n",
    "# x\n",
    "# x\n",
    "# x\n",
    "# x\n",
    "x_stacked"
   ],
   "id": "fa4f7cfff122c4be",
   "outputs": [
    {
     "data": {
      "text/plain": [
       "tensor([[5., 5., 3., 4., 5., 6., 7., 8., 9.],\n",
       "        [5., 5., 3., 4., 5., 6., 7., 8., 9.],\n",
       "        [5., 5., 3., 4., 5., 6., 7., 8., 9.],\n",
       "        [5., 5., 3., 4., 5., 6., 7., 8., 9.]])"
      ]
     },
     "execution_count": 127,
     "metadata": {},
     "output_type": "execute_result"
    }
   ],
   "execution_count": 127
  },
  {
   "metadata": {
    "ExecuteTime": {
     "end_time": "2025-01-31T05:55:14.228840Z",
     "start_time": "2025-01-31T05:55:14.221474Z"
    }
   },
   "cell_type": "code",
   "source": [
    "x_stacked = torch.stack([x, x, x, x], dim=1)\n",
    "#Stacked horizontally, as new columns\n",
    "# x x x x\n",
    "x_stacked"
   ],
   "id": "7d46859ab5032d6c",
   "outputs": [
    {
     "data": {
      "text/plain": [
       "tensor([[5., 5., 5., 5.],\n",
       "        [5., 5., 5., 5.],\n",
       "        [3., 3., 3., 3.],\n",
       "        [4., 4., 4., 4.],\n",
       "        [5., 5., 5., 5.],\n",
       "        [6., 6., 6., 6.],\n",
       "        [7., 7., 7., 7.],\n",
       "        [8., 8., 8., 8.],\n",
       "        [9., 9., 9., 9.]])"
      ]
     },
     "execution_count": 128,
     "metadata": {},
     "output_type": "execute_result"
    }
   ],
   "execution_count": 128
  },
  {
   "metadata": {
    "ExecuteTime": {
     "end_time": "2025-01-31T05:59:23.485493Z",
     "start_time": "2025-01-31T05:59:23.473188Z"
    }
   },
   "cell_type": "code",
   "source": "x_reshape, x_reshape.shape",
   "id": "144e60c2ea9aa645",
   "outputs": [
    {
     "data": {
      "text/plain": [
       "(tensor([[5.],\n",
       "         [5.],\n",
       "         [5.],\n",
       "         [5.],\n",
       "         [5.],\n",
       "         [5.],\n",
       "         [5.],\n",
       "         [5.],\n",
       "         [5.]]),\n",
       " torch.Size([9, 1]))"
      ]
     },
     "execution_count": 134,
     "metadata": {},
     "output_type": "execute_result"
    }
   ],
   "execution_count": 134
  },
  {
   "metadata": {
    "ExecuteTime": {
     "end_time": "2025-01-31T06:00:40.814537Z",
     "start_time": "2025-01-31T06:00:40.800408Z"
    }
   },
   "cell_type": "code",
   "source": [
    "p = x_reshape.squeeze()\n",
    "p, p.shape"
   ],
   "id": "1808b687d7443ea5",
   "outputs": [
    {
     "data": {
      "text/plain": [
       "(tensor([5., 5., 5., 5., 5., 5., 5., 5., 5.]), torch.Size([9]))"
      ]
     },
     "execution_count": 135,
     "metadata": {},
     "output_type": "execute_result"
    }
   ],
   "execution_count": 135
  },
  {
   "metadata": {
    "ExecuteTime": {
     "end_time": "2025-01-31T06:01:22.358483Z",
     "start_time": "2025-01-31T06:01:22.347689Z"
    }
   },
   "cell_type": "code",
   "source": [
    "#unsqueeze adds a single dimension to a target tensor at a specific dim\n",
    "p.unsqueeze(0), p.unsqueeze(0).shape"
   ],
   "id": "2e528c8c5050b74b",
   "outputs": [
    {
     "data": {
      "text/plain": [
       "(tensor([[5., 5., 5., 5., 5., 5., 5., 5., 5.]]), torch.Size([1, 9]))"
      ]
     },
     "execution_count": 137,
     "metadata": {},
     "output_type": "execute_result"
    }
   ],
   "execution_count": 137
  },
  {
   "metadata": {
    "ExecuteTime": {
     "end_time": "2025-01-31T06:01:30.131210Z",
     "start_time": "2025-01-31T06:01:30.111312Z"
    }
   },
   "cell_type": "code",
   "source": [
    "#unsqueeze adds a single dimension to a target tensor at a specific dim\n",
    "p.unsqueeze(1), p.unsqueeze(1).shape"
   ],
   "id": "e7233e6f6be2860e",
   "outputs": [
    {
     "data": {
      "text/plain": [
       "(tensor([[5.],\n",
       "         [5.],\n",
       "         [5.],\n",
       "         [5.],\n",
       "         [5.],\n",
       "         [5.],\n",
       "         [5.],\n",
       "         [5.],\n",
       "         [5.]]),\n",
       " torch.Size([9, 1]))"
      ]
     },
     "execution_count": 138,
     "metadata": {},
     "output_type": "execute_result"
    }
   ],
   "execution_count": 138
  },
  {
   "metadata": {
    "ExecuteTime": {
     "end_time": "2025-01-31T06:01:46.096430Z",
     "start_time": "2025-01-31T06:01:46.086558Z"
    }
   },
   "cell_type": "code",
   "source": "p.unsqueeze(0).unsqueeze(0), p.unsqueeze(0).unsqueeze(0).shape",
   "id": "3a8c7aaeedd120d9",
   "outputs": [
    {
     "data": {
      "text/plain": [
       "(tensor([[[5., 5., 5., 5., 5., 5., 5., 5., 5.]]]), torch.Size([1, 1, 9]))"
      ]
     },
     "execution_count": 139,
     "metadata": {},
     "output_type": "execute_result"
    }
   ],
   "execution_count": 139
  },
  {
   "metadata": {
    "ExecuteTime": {
     "end_time": "2025-01-31T06:02:07.487078Z",
     "start_time": "2025-01-31T06:02:07.469076Z"
    }
   },
   "cell_type": "code",
   "source": "p.unsqueeze(1).unsqueeze(1), p.unsqueeze(1).unsqueeze(1).shape",
   "id": "552608591ce84a96",
   "outputs": [
    {
     "data": {
      "text/plain": [
       "(tensor([[[5.]],\n",
       " \n",
       "         [[5.]],\n",
       " \n",
       "         [[5.]],\n",
       " \n",
       "         [[5.]],\n",
       " \n",
       "         [[5.]],\n",
       " \n",
       "         [[5.]],\n",
       " \n",
       "         [[5.]],\n",
       " \n",
       "         [[5.]],\n",
       " \n",
       "         [[5.]]]),\n",
       " torch.Size([9, 1, 1]))"
      ]
     },
     "execution_count": 140,
     "metadata": {},
     "output_type": "execute_result"
    }
   ],
   "execution_count": 140
  },
  {
   "metadata": {
    "ExecuteTime": {
     "end_time": "2025-01-31T06:04:49.381142Z",
     "start_time": "2025-01-31T06:04:49.364235Z"
    }
   },
   "cell_type": "code",
   "source": [
    "#permute - Rearranges dims of a target tensor in a specified order\n",
    "r = torch.rand(2, 3, 5)\n",
    "\n",
    "r, r.shape"
   ],
   "id": "b3f555644b6936dd",
   "outputs": [
    {
     "data": {
      "text/plain": [
       "(tensor([[[0.2454, 0.1908, 0.9584, 0.4823, 0.8042],\n",
       "          [0.5790, 0.1932, 0.0434, 0.2104, 0.5642],\n",
       "          [0.4390, 0.9931, 0.9911, 0.3098, 0.8201]],\n",
       " \n",
       "         [[0.7406, 0.2177, 0.7380, 0.0642, 0.5780],\n",
       "          [0.9615, 0.4086, 0.3770, 0.8813, 0.1554],\n",
       "          [0.6191, 0.1818, 0.0098, 0.3255, 0.8279]]]),\n",
       " torch.Size([2, 3, 5]))"
      ]
     },
     "execution_count": 142,
     "metadata": {},
     "output_type": "execute_result"
    }
   ],
   "execution_count": 142
  },
  {
   "metadata": {
    "ExecuteTime": {
     "end_time": "2025-01-31T06:05:16.426439Z",
     "start_time": "2025-01-31T06:05:16.419970Z"
    }
   },
   "cell_type": "code",
   "source": [
    "# dim of index 2 (5) is at 0\n",
    "# dim of index 0 (2) is at 1\n",
    "# dim of index 1 (3) is at 2\n",
    "torch.permute(r, (2, 0, 1)).shape"
   ],
   "id": "6114d5f8ff9de1db",
   "outputs": [
    {
     "data": {
      "text/plain": [
       "torch.Size([5, 2, 3])"
      ]
     },
     "execution_count": 144,
     "metadata": {},
     "output_type": "execute_result"
    }
   ],
   "execution_count": 144
  },
  {
   "metadata": {},
   "cell_type": "markdown",
   "source": [
    "### Indexing (selecting data from tensors)\n",
    "\n",
    "Indexing with Pytorch is similar to NumPy"
   ],
   "id": "774b5b35915e21fa"
  },
  {
   "metadata": {
    "ExecuteTime": {
     "end_time": "2025-01-31T06:21:42.264781Z",
     "start_time": "2025-01-31T06:21:42.258521Z"
    }
   },
   "cell_type": "code",
   "source": [
    "i = torch.arange(1, 10).reshape(1, 3, 3)\n",
    "\n",
    "i, i.shape"
   ],
   "id": "21e6f93d1e482599",
   "outputs": [
    {
     "data": {
      "text/plain": [
       "(tensor([[[1, 2, 3],\n",
       "          [4, 5, 6],\n",
       "          [7, 8, 9]]]),\n",
       " torch.Size([1, 3, 3]))"
      ]
     },
     "execution_count": 146,
     "metadata": {},
     "output_type": "execute_result"
    }
   ],
   "execution_count": 146
  },
  {
   "metadata": {
    "ExecuteTime": {
     "end_time": "2025-01-31T06:22:53.547113Z",
     "start_time": "2025-01-31T06:22:53.526224Z"
    }
   },
   "cell_type": "code",
   "source": "i[0]",
   "id": "19a94f50e4d8b40b",
   "outputs": [
    {
     "data": {
      "text/plain": [
       "tensor([[1, 2, 3],\n",
       "        [4, 5, 6],\n",
       "        [7, 8, 9]])"
      ]
     },
     "execution_count": 149,
     "metadata": {},
     "output_type": "execute_result"
    }
   ],
   "execution_count": 149
  },
  {
   "metadata": {
    "ExecuteTime": {
     "end_time": "2025-01-31T06:23:30.830512Z",
     "start_time": "2025-01-31T06:23:30.812157Z"
    }
   },
   "cell_type": "code",
   "source": [
    "#Both are the same thing\n",
    "i[0][0], i[0, 0]"
   ],
   "id": "632568bcdc44fe26",
   "outputs": [
    {
     "data": {
      "text/plain": [
       "(tensor([1, 2, 3]), tensor([1, 2, 3]))"
      ]
     },
     "execution_count": 151,
     "metadata": {},
     "output_type": "execute_result"
    }
   ],
   "execution_count": 151
  },
  {
   "metadata": {
    "ExecuteTime": {
     "end_time": "2025-01-31T06:24:19.822164Z",
     "start_time": "2025-01-31T06:24:19.802095Z"
    }
   },
   "cell_type": "code",
   "source": "i[0][0][0], i[0, 0, 0]",
   "id": "248ebee4701e095e",
   "outputs": [
    {
     "data": {
      "text/plain": [
       "(tensor(1), tensor(1))"
      ]
     },
     "execution_count": 152,
     "metadata": {},
     "output_type": "execute_result"
    }
   ],
   "execution_count": 152
  },
  {
   "metadata": {
    "ExecuteTime": {
     "end_time": "2025-01-31T06:26:26.955023Z",
     "start_time": "2025-01-31T06:26:26.938243Z"
    }
   },
   "cell_type": "code",
   "source": [
    "# You can use \":\" to select  \"all\" of a target dimension\n",
    "#from all the matrices, from all  the rows, select the 0th column\n",
    "i[:, :, 0]"
   ],
   "id": "edfc144e2af47b2f",
   "outputs": [
    {
     "data": {
      "text/plain": [
       "tensor([[1, 4, 7]])"
      ]
     },
     "execution_count": 153,
     "metadata": {},
     "output_type": "execute_result"
    }
   ],
   "execution_count": 153
  },
  {
   "metadata": {
    "ExecuteTime": {
     "end_time": "2025-01-31T06:27:42.833583Z",
     "start_time": "2025-01-31T06:27:42.824439Z"
    }
   },
   "cell_type": "code",
   "source": [
    "#from all the matrices, from th e rows 0 to 1, select the 0th column\n",
    "i[:, 0:2, 0]"
   ],
   "id": "5e8841d129565bf3",
   "outputs": [
    {
     "data": {
      "text/plain": [
       "tensor([[1, 4]])"
      ]
     },
     "execution_count": 154,
     "metadata": {},
     "output_type": "execute_result"
    }
   ],
   "execution_count": 154
  },
  {
   "metadata": {
    "ExecuteTime": {
     "end_time": "2025-01-31T06:28:56.134390Z",
     "start_time": "2025-01-31T06:28:56.118993Z"
    }
   },
   "cell_type": "code",
   "source": [
    "#Get all values of 0 dim, but only the 1 index value of 1st and 2nd dim\n",
    "i[:, 1, 1]"
   ],
   "id": "bad39e5769cff312",
   "outputs": [
    {
     "data": {
      "text/plain": [
       "tensor([5])"
      ]
     },
     "execution_count": 155,
     "metadata": {},
     "output_type": "execute_result"
    }
   ],
   "execution_count": 155
  },
  {
   "metadata": {
    "ExecuteTime": {
     "end_time": "2025-01-31T06:30:14.526727Z",
     "start_time": "2025-01-31T06:30:14.508196Z"
    }
   },
   "cell_type": "code",
   "source": [
    "#Get index 0 of 0th and 1st dimension and all values of 2nd dimension\n",
    "i[0, 0, :]"
   ],
   "id": "fd709121ee82a91f",
   "outputs": [
    {
     "data": {
      "text/plain": [
       "tensor([1, 2, 3])"
      ]
     },
     "execution_count": 156,
     "metadata": {},
     "output_type": "execute_result"
    }
   ],
   "execution_count": 156
  },
  {
   "metadata": {},
   "cell_type": "markdown",
   "source": [
    "### PyTorch tensors and NumPy\n",
    "\n",
    "* Data in NumPy array, but want it in Pytorch tensor -> `torch.from_numpy(ndarray)`\n",
    "* Tensor to Numpy -> `torch.Tensor.numpy()`"
   ],
   "id": "8b26cd23c07ddbbb"
  },
  {
   "metadata": {
    "ExecuteTime": {
     "end_time": "2025-01-31T06:34:16.548199Z",
     "start_time": "2025-01-31T06:34:16.532193Z"
    }
   },
   "cell_type": "code",
   "source": [
    "npArray = np.arange(1., 8.)\n",
    "npArray"
   ],
   "id": "c07b5c6db7615844",
   "outputs": [
    {
     "data": {
      "text/plain": [
       "array([1., 2., 3., 4., 5., 6., 7.])"
      ]
     },
     "execution_count": 158,
     "metadata": {},
     "output_type": "execute_result"
    }
   ],
   "execution_count": 158
  },
  {
   "metadata": {
    "ExecuteTime": {
     "end_time": "2025-01-31T06:34:43.878422Z",
     "start_time": "2025-01-31T06:34:43.874011Z"
    }
   },
   "cell_type": "code",
   "source": [
    "torchTensor = torch.from_numpy(npArray)\n",
    "\n",
    "torchTensor"
   ],
   "id": "a9c37b1b1056f26e",
   "outputs": [
    {
     "data": {
      "text/plain": [
       "tensor([1., 2., 3., 4., 5., 6., 7.], dtype=torch.float64)"
      ]
     },
     "execution_count": 160,
     "metadata": {},
     "output_type": "execute_result"
    }
   ],
   "execution_count": 160
  },
  {
   "metadata": {
    "ExecuteTime": {
     "end_time": "2025-01-31T06:38:09.528321Z",
     "start_time": "2025-01-31T06:38:09.509097Z"
    }
   },
   "cell_type": "code",
   "source": [
    "#Note that torch's default float is float32, but np is 64 so to prevent lossy conversion it keeps it 64. We can change it explicitly though\n",
    "\n",
    "torchTensor32 = torch.from_numpy(npArray).type(torch.float32)\n",
    "torchTensor32, torchTensor32.dtype"
   ],
   "id": "3164884fca2e866e",
   "outputs": [
    {
     "data": {
      "text/plain": [
       "(tensor([1., 2., 3., 4., 5., 6., 7.]), torch.float32)"
      ]
     },
     "execution_count": 167,
     "metadata": {},
     "output_type": "execute_result"
    }
   ],
   "execution_count": 167
  },
  {
   "metadata": {
    "ExecuteTime": {
     "end_time": "2025-01-31T06:39:28.331706Z",
     "start_time": "2025-01-31T06:39:28.319495Z"
    }
   },
   "cell_type": "code",
   "source": [
    "#Deep copy, tensor is a new memory space\n",
    "npArray = npArray+1\n",
    "npArray,torchTensor"
   ],
   "id": "bad21932f76c0f9f",
   "outputs": [
    {
     "data": {
      "text/plain": [
       "(array([2., 3., 4., 5., 6., 7., 8.]),\n",
       " tensor([1., 2., 3., 4., 5., 6., 7.], dtype=torch.float64))"
      ]
     },
     "execution_count": 168,
     "metadata": {},
     "output_type": "execute_result"
    }
   ],
   "execution_count": 168
  },
  {
   "metadata": {
    "ExecuteTime": {
     "end_time": "2025-01-31T06:40:47.834051Z",
     "start_time": "2025-01-31T06:40:47.827842Z"
    }
   },
   "cell_type": "code",
   "source": [
    "ttensor = torch.ones(7)\n",
    "npTensor = torch.Tensor.numpy(ttensor)\n",
    "\n",
    "ttensor,npTensor"
   ],
   "id": "c9baf6e0098a46ee",
   "outputs": [
    {
     "data": {
      "text/plain": [
       "(tensor([1., 1., 1., 1., 1., 1., 1.]),\n",
       " array([1., 1., 1., 1., 1., 1., 1.], dtype=float32))"
      ]
     },
     "execution_count": 170,
     "metadata": {},
     "output_type": "execute_result"
    }
   ],
   "execution_count": 170
  },
  {
   "metadata": {
    "ExecuteTime": {
     "end_time": "2025-01-31T06:41:42.314384Z",
     "start_time": "2025-01-31T06:41:42.307485Z"
    }
   },
   "cell_type": "code",
   "source": [
    "#Deep copy this way as well, ndarray is a new memory space\n",
    "ttensor = ttensor+1\n",
    "npTensor,ttensor"
   ],
   "id": "3c283c704f9cd9af",
   "outputs": [
    {
     "data": {
      "text/plain": [
       "(array([1., 1., 1., 1., 1., 1., 1.], dtype=float32),\n",
       " tensor([2., 2., 2., 2., 2., 2., 2.]))"
      ]
     },
     "execution_count": 171,
     "metadata": {},
     "output_type": "execute_result"
    }
   ],
   "execution_count": 171
  },
  {
   "metadata": {},
   "cell_type": "markdown",
   "source": [
    "## Reproducability (trying to take the random out of random)\n",
    "\n",
    "In short NN learn by:\n",
    "\n",
    "`start with random numbers -> perform tensor ops -> Update random numbers to represent certain features or patterns ->again ->again...`\n",
    "\n",
    "To reduce the randomness, we can use the **random seed**\n",
    "\n",
    "Essentially what it does is it gives a starting point or deterministic parameter for the random number generating algorithm ensuring that it always spits out the same numbers in the same sequence\n",
    "\n",
    "Extra resources:\n",
    "* https://pytorch.org/docs/stable/notes/randomness.html\n",
    "* https://en.wikipedia.org/wiki/Random_seed\n"
   ],
   "id": "73a91fb7b14034a6"
  },
  {
   "metadata": {
    "ExecuteTime": {
     "end_time": "2025-01-31T06:44:45.082992Z",
     "start_time": "2025-01-31T06:44:45.072540Z"
    }
   },
   "cell_type": "code",
   "source": [
    "#Will give different random numbers everytime we run\n",
    "torch.rand(3,3)"
   ],
   "id": "bcf234c8d1533594",
   "outputs": [
    {
     "data": {
      "text/plain": [
       "tensor([[0.5958, 0.9546, 0.8020],\n",
       "        [0.4885, 0.7304, 0.6836],\n",
       "        [0.5653, 0.9082, 0.7298]])"
      ]
     },
     "execution_count": 174,
     "metadata": {},
     "output_type": "execute_result"
    }
   ],
   "execution_count": 174
  },
  {
   "metadata": {
    "ExecuteTime": {
     "end_time": "2025-01-31T06:47:49.701209Z",
     "start_time": "2025-01-31T06:47:49.692286Z"
    }
   },
   "cell_type": "code",
   "source": [
    "r1 = torch.rand(3,4)\n",
    "r2 = torch.rand(3,4)\n",
    "\n",
    "print(r1)\n",
    "print(r2)\n",
    "print(r1==r2)"
   ],
   "id": "65c27a904f501bd3",
   "outputs": [
    {
     "name": "stdout",
     "output_type": "stream",
     "text": [
      "tensor([[9.6083e-01, 6.5658e-01, 4.5299e-02, 7.8406e-01],\n",
      "        [1.6308e-04, 9.6005e-01, 3.2690e-01, 5.5247e-02],\n",
      "        [9.1119e-01, 8.8046e-01, 7.7628e-01, 5.6449e-01]])\n",
      "tensor([[0.7427, 0.5554, 0.8484, 0.0341],\n",
      "        [0.9879, 0.8145, 0.1475, 0.9693],\n",
      "        [0.2131, 0.3344, 0.7464, 0.1872]])\n",
      "tensor([[False, False, False, False],\n",
      "        [False, False, False, False],\n",
      "        [False, False, False, False]])\n"
     ]
    }
   ],
   "execution_count": 192
  },
  {
   "metadata": {
    "ExecuteTime": {
     "end_time": "2025-01-31T06:51:08.870203Z",
     "start_time": "2025-01-31T06:51:08.861105Z"
    }
   },
   "cell_type": "code",
   "source": [
    "RANDOM_SEED = 42\n",
    "torch.manual_seed(RANDOM_SEED)\n",
    "r1 = torch.rand(3,4)\n",
    "r1"
   ],
   "id": "71e9e4435afafe28",
   "outputs": [
    {
     "data": {
      "text/plain": [
       "tensor([[0.8823, 0.9150, 0.3829, 0.9593],\n",
       "        [0.3904, 0.6009, 0.2566, 0.7936],\n",
       "        [0.9408, 0.1332, 0.9346, 0.5936]])"
      ]
     },
     "execution_count": 201,
     "metadata": {},
     "output_type": "execute_result"
    }
   ],
   "execution_count": 201
  },
  {
   "metadata": {
    "ExecuteTime": {
     "end_time": "2025-01-31T06:51:10.573982Z",
     "start_time": "2025-01-31T06:51:10.555313Z"
    }
   },
   "cell_type": "code",
   "source": [
    "#Think of it this way once we set the random seed it generates a list of numbers its going to output like 0.8,0.9,0.6..... So once we set it we will get those numbers anytime we want something random. Setting the seed again to the same value resets us to the beginning of the list, so we will generate the number at index 0 again\n",
    "torch.manual_seed(RANDOM_SEED)\n",
    "\n",
    "r2 = torch.rand(3,4)\n",
    "r2"
   ],
   "id": "6a6c186dd06a522f",
   "outputs": [
    {
     "data": {
      "text/plain": [
       "tensor([[0.8823, 0.9150, 0.3829, 0.9593],\n",
       "        [0.3904, 0.6009, 0.2566, 0.7936],\n",
       "        [0.9408, 0.1332, 0.9346, 0.5936]])"
      ]
     },
     "execution_count": 202,
     "metadata": {},
     "output_type": "execute_result"
    }
   ],
   "execution_count": 202
  },
  {
   "metadata": {
    "ExecuteTime": {
     "end_time": "2025-01-31T06:51:12.404176Z",
     "start_time": "2025-01-31T06:51:12.397270Z"
    }
   },
   "cell_type": "code",
   "source": "print(r1==r2)",
   "id": "75ad038b8282a6b2",
   "outputs": [
    {
     "name": "stdout",
     "output_type": "stream",
     "text": [
      "tensor([[True, True, True, True],\n",
      "        [True, True, True, True],\n",
      "        [True, True, True, True]])\n"
     ]
    }
   ],
   "execution_count": 203
  },
  {
   "metadata": {},
   "cell_type": "markdown",
   "source": [
    "### Running tensors or general PyTorch objects in GPUs\n",
    "\n"
   ],
   "id": "63c3eb06347deabc"
  },
  {
   "metadata": {
    "ExecuteTime": {
     "end_time": "2025-01-31T07:05:07.515646Z",
     "start_time": "2025-01-31T07:05:07.497434Z"
    }
   },
   "cell_type": "code",
   "source": [
    "print(torch.__version__)\n",
    "print(torch.cuda.is_available())"
   ],
   "id": "91abcdcda7d87b8d",
   "outputs": [
    {
     "name": "stdout",
     "output_type": "stream",
     "text": [
      "2.4.1\n",
      "True\n"
     ]
    }
   ],
   "execution_count": 204
  },
  {
   "metadata": {
    "ExecuteTime": {
     "end_time": "2025-01-31T07:06:11.941523Z",
     "start_time": "2025-01-31T07:06:11.934300Z"
    }
   },
   "cell_type": "code",
   "source": [
    "#Setup Device agnostic code to run on gpu if available or cpu\n",
    "device = \"cuda\" if torch.cuda.is_available() else \"cpu\"\n",
    "device"
   ],
   "id": "3fd99dac2cc37c53",
   "outputs": [
    {
     "data": {
      "text/plain": [
       "'cuda'"
      ]
     },
     "execution_count": 205,
     "metadata": {},
     "output_type": "execute_result"
    }
   ],
   "execution_count": 205
  },
  {
   "metadata": {
    "ExecuteTime": {
     "end_time": "2025-01-31T07:08:01.793372Z",
     "start_time": "2025-01-31T07:08:01.776793Z"
    }
   },
   "cell_type": "code",
   "source": [
    "#Count number of devices\n",
    "print(torch.cuda.device_count())\n",
    "print(torch.cuda.get_device_name())\n"
   ],
   "id": "84381af0a927ef91",
   "outputs": [
    {
     "name": "stdout",
     "output_type": "stream",
     "text": [
      "1\n",
      "NVIDIA GeForce RTX 4070 Laptop GPU\n"
     ]
    }
   ],
   "execution_count": 211
  },
  {
   "metadata": {},
   "cell_type": "markdown",
   "source": [
    "### Putting tensors and models on the GPU\n",
    "\n",
    "\n"
   ],
   "id": "d8f045e47188c223"
  },
  {
   "metadata": {
    "ExecuteTime": {
     "end_time": "2025-01-31T07:11:17.952293Z",
     "start_time": "2025-01-31T07:11:17.944755Z"
    }
   },
   "cell_type": "code",
   "source": [
    "#Default tensor is on cpu\n",
    "cpu_tensor = torch.rand(3, 4)\n",
    "print(cpu_tensor.device)"
   ],
   "id": "85c672557183851d",
   "outputs": [
    {
     "name": "stdout",
     "output_type": "stream",
     "text": [
      "cpu\n"
     ]
    }
   ],
   "execution_count": 212
  },
  {
   "metadata": {
    "ExecuteTime": {
     "end_time": "2025-01-31T07:11:36.057885Z",
     "start_time": "2025-01-31T07:11:36.051669Z"
    }
   },
   "cell_type": "code",
   "source": [
    "gpu_tensor = torch.rand(3, 4,device=device)\n",
    "print(gpu_tensor.device)"
   ],
   "id": "23ed9bc790b710d8",
   "outputs": [
    {
     "name": "stdout",
     "output_type": "stream",
     "text": [
      "cuda:0\n"
     ]
    }
   ],
   "execution_count": 214
  },
  {
   "metadata": {
    "ExecuteTime": {
     "end_time": "2025-01-31T07:13:01.530830Z",
     "start_time": "2025-01-31T07:13:01.520634Z"
    }
   },
   "cell_type": "code",
   "source": [
    "#We can also move a tensor to the gpu\n",
    "tensor_on_gpu = cpu_tensor.to(device)\n",
    "print(tensor_on_gpu,tensor_on_gpu.device)"
   ],
   "id": "6826bde82dd489e2",
   "outputs": [
    {
     "name": "stdout",
     "output_type": "stream",
     "text": [
      "tensor([[0.8694, 0.5677, 0.7411, 0.4294],\n",
      "        [0.8854, 0.5739, 0.2666, 0.6274],\n",
      "        [0.2696, 0.4414, 0.2969, 0.8317]], device='cuda:0') cuda:0\n"
     ]
    }
   ],
   "execution_count": 215
  },
  {
   "metadata": {
    "ExecuteTime": {
     "end_time": "2025-01-31T07:13:29.467656Z",
     "start_time": "2025-01-31T07:13:29.459351Z"
    }
   },
   "cell_type": "code",
   "source": [
    "#This still exists though, it created a copy of it on the gpu \n",
    "cpu_tensor,cpu_tensor.device"
   ],
   "id": "6c7274260ce7e0e9",
   "outputs": [
    {
     "data": {
      "text/plain": [
       "(tensor([[0.8694, 0.5677, 0.7411, 0.4294],\n",
       "         [0.8854, 0.5739, 0.2666, 0.6274],\n",
       "         [0.2696, 0.4414, 0.2969, 0.8317]]),\n",
       " device(type='cpu'))"
      ]
     },
     "execution_count": 216,
     "metadata": {},
     "output_type": "execute_result"
    }
   ],
   "execution_count": 216
  },
  {
   "metadata": {
    "ExecuteTime": {
     "end_time": "2025-01-31T07:15:42.553489Z",
     "start_time": "2025-01-31T07:15:42.526813Z"
    }
   },
   "cell_type": "code",
   "source": [
    "#NumPy does not work with data on the gpu\n",
    "# tensor_on_gpu.numpy()"
   ],
   "id": "ee29572d7625a932",
   "outputs": [
    {
     "ename": "TypeError",
     "evalue": "can't convert cuda:0 device type tensor to numpy. Use Tensor.cpu() to copy the tensor to host memory first.",
     "output_type": "error",
     "traceback": [
      "\u001B[1;31m---------------------------------------------------------------------------\u001B[0m",
      "\u001B[1;31mTypeError\u001B[0m                                 Traceback (most recent call last)",
      "Cell \u001B[1;32mIn[218], line 2\u001B[0m\n\u001B[0;32m      1\u001B[0m \u001B[38;5;66;03m#NumPy does not work with data on the gpu\u001B[39;00m\n\u001B[1;32m----> 2\u001B[0m \u001B[43mtensor_on_gpu\u001B[49m\u001B[38;5;241;43m.\u001B[39;49m\u001B[43mnumpy\u001B[49m\u001B[43m(\u001B[49m\u001B[43m)\u001B[49m\n",
      "\u001B[1;31mTypeError\u001B[0m: can't convert cuda:0 device type tensor to numpy. Use Tensor.cpu() to copy the tensor to host memory first."
     ]
    }
   ],
   "execution_count": 218
  },
  {
   "metadata": {
    "ExecuteTime": {
     "end_time": "2025-01-31T07:16:23.891772Z",
     "start_time": "2025-01-31T07:16:23.887761Z"
    }
   },
   "cell_type": "code",
   "source": [
    "#Moving back to cpu\n",
    "# or tensor_on_gpu.to(\"cpu\")\n",
    "prodigal_son = tensor_on_gpu.cpu()\n",
    "prodigal_son,prodigal_son.device"
   ],
   "id": "4344bdced5cfa252",
   "outputs": [
    {
     "data": {
      "text/plain": [
       "(tensor([[0.8694, 0.5677, 0.7411, 0.4294],\n",
       "         [0.8854, 0.5739, 0.2666, 0.6274],\n",
       "         [0.2696, 0.4414, 0.2969, 0.8317]]),\n",
       " device(type='cpu'))"
      ]
     },
     "execution_count": 220,
     "metadata": {},
     "output_type": "execute_result"
    }
   ],
   "execution_count": 220
  },
  {
   "metadata": {
    "ExecuteTime": {
     "end_time": "2025-01-31T07:16:26.161654Z",
     "start_time": "2025-01-31T07:16:26.145578Z"
    }
   },
   "cell_type": "code",
   "source": "prodigal_son.numpy()",
   "id": "ff12ec8bd070787f",
   "outputs": [
    {
     "data": {
      "text/plain": [
       "array([[0.86940444, 0.5677153 , 0.74109405, 0.4294045 ],\n",
       "       [0.8854429 , 0.57390445, 0.26658005, 0.62744915],\n",
       "       [0.26963168, 0.44136357, 0.29692084, 0.8316855 ]], dtype=float32)"
      ]
     },
     "execution_count": 221,
     "metadata": {},
     "output_type": "execute_result"
    }
   ],
   "execution_count": 221
  },
  {
   "metadata": {},
   "cell_type": "code",
   "outputs": [],
   "execution_count": null,
   "source": "",
   "id": "dce9480496fc303d"
  },
  {
   "metadata": {},
   "cell_type": "code",
   "outputs": [],
   "execution_count": null,
   "source": "",
   "id": "3c190d83e59c097e"
  }
 ],
 "metadata": {
  "kernelspec": {
   "display_name": "Python 3",
   "language": "python",
   "name": "python3"
  },
  "language_info": {
   "codemirror_mode": {
    "name": "ipython",
    "version": 2
   },
   "file_extension": ".py",
   "mimetype": "text/x-python",
   "name": "python",
   "nbconvert_exporter": "python",
   "pygments_lexer": "ipython2",
   "version": "2.7.6"
  }
 },
 "nbformat": 4,
 "nbformat_minor": 5
}
