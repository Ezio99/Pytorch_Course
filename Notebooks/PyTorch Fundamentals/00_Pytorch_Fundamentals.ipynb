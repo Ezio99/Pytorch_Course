{
 "cells": [
  {
   "cell_type": "code",
   "id": "initial_id",
   "metadata": {
    "collapsed": true,
    "ExecuteTime": {
     "end_time": "2025-02-02T09:36:00.263797Z",
     "start_time": "2025-02-02T09:35:57.830609Z"
    }
   },
   "source": [
    "from sympy.codegen.ast import float32\n",
    "!nvidia-smi"
   ],
   "outputs": [
    {
     "name": "stdout",
     "output_type": "stream",
     "text": [
      "Sun Feb  2 17:36:00 2025       \n",
      "+-----------------------------------------------------------------------------------------+\n",
      "| NVIDIA-SMI 561.19                 Driver Version: 561.19         CUDA Version: 12.6     |\n",
      "|-----------------------------------------+------------------------+----------------------+\n",
      "| GPU  Name                  Driver-Model | Bus-Id          Disp.A | Volatile Uncorr. ECC |\n",
      "| Fan  Temp   Perf          Pwr:Usage/Cap |           Memory-Usage | GPU-Util  Compute M. |\n",
      "|                                         |                        |               MIG M. |\n",
      "|=========================================+========================+======================|\n",
      "|   0  NVIDIA GeForce RTX 4070 ...  WDDM  |   00000000:01:00.0 Off |                  N/A |\n",
      "| N/A   47C    P0             15W /  140W |       0MiB /   8188MiB |      0%      Default |\n",
      "|                                         |                        |                  N/A |\n",
      "+-----------------------------------------+------------------------+----------------------+\n",
      "                                                                                         \n",
      "+-----------------------------------------------------------------------------------------+\n",
      "| Processes:                                                                              |\n",
      "|  GPU   GI   CI        PID   Type   Process name                              GPU Memory |\n",
      "|        ID   ID                                                               Usage      |\n",
      "|=========================================================================================|\n",
      "|  No running processes found                                                             |\n",
      "+-----------------------------------------------------------------------------------------+\n"
     ]
    }
   ],
   "execution_count": 1
  },
  {
   "metadata": {
    "ExecuteTime": {
     "end_time": "2025-02-02T09:36:05.537258Z",
     "start_time": "2025-02-02T09:36:00.869676Z"
    }
   },
   "cell_type": "code",
   "source": [
    "import torch\n",
    "import numpy as np\n",
    "import matplotlib.pyplot as plt\n",
    "import pandas as pd\n",
    "import IPython\n",
    "\n",
    "print(torch.__version__)\n",
    "print(torch.cuda.is_available())\n",
    "print(IPython.version_info)"
   ],
   "id": "e8cc4bd0c14c475",
   "outputs": [
    {
     "name": "stdout",
     "output_type": "stream",
     "text": [
      "2.4.1\n",
      "True\n",
      "(8, 12, 2, '')\n"
     ]
    }
   ],
   "execution_count": 2
  },
  {
   "metadata": {},
   "cell_type": "markdown",
   "source": [
    "## Introduction to Tensors\n",
    "\n",
    "### Creating Tensors"
   ],
   "id": "93cd654178b86448"
  },
  {
   "metadata": {
    "ExecuteTime": {
     "end_time": "2025-02-02T09:36:05.677818Z",
     "start_time": "2025-02-02T09:36:05.646682Z"
    }
   },
   "cell_type": "code",
   "source": [
    "# scalar\n",
    "\n",
    "scalar = torch.tensor(7)\n",
    "\n",
    "scalar"
   ],
   "id": "b0ef8441faaf31",
   "outputs": [
    {
     "data": {
      "text/plain": [
       "tensor(7)"
      ]
     },
     "execution_count": 3,
     "metadata": {},
     "output_type": "execute_result"
    }
   ],
   "execution_count": 3
  },
  {
   "metadata": {
    "ExecuteTime": {
     "end_time": "2025-02-02T09:36:05.754681Z",
     "start_time": "2025-02-02T09:36:05.737651Z"
    }
   },
   "cell_type": "code",
   "source": "scalar.ndim\n",
   "id": "c68beedbc9749e6b",
   "outputs": [
    {
     "data": {
      "text/plain": [
       "0"
      ]
     },
     "execution_count": 4,
     "metadata": {},
     "output_type": "execute_result"
    }
   ],
   "execution_count": 4
  },
  {
   "metadata": {
    "ExecuteTime": {
     "end_time": "2025-02-02T09:36:05.927180Z",
     "start_time": "2025-02-02T09:36:05.908968Z"
    }
   },
   "cell_type": "code",
   "source": [
    "#Get tensor back as python integer\n",
    "\n",
    "scalar.item()"
   ],
   "id": "b3089256d05c5f87",
   "outputs": [
    {
     "data": {
      "text/plain": [
       "7"
      ]
     },
     "execution_count": 5,
     "metadata": {},
     "output_type": "execute_result"
    }
   ],
   "execution_count": 5
  },
  {
   "metadata": {
    "ExecuteTime": {
     "end_time": "2025-02-02T09:36:06.096228Z",
     "start_time": "2025-02-02T09:36:06.080419Z"
    }
   },
   "cell_type": "code",
   "source": [
    "#Vector\n",
    "\n",
    "vector = torch.tensor([7, 7])\n",
    "\n",
    "vector"
   ],
   "id": "cb8e4765b3287566",
   "outputs": [
    {
     "data": {
      "text/plain": [
       "tensor([7, 7])"
      ]
     },
     "execution_count": 6,
     "metadata": {},
     "output_type": "execute_result"
    }
   ],
   "execution_count": 6
  },
  {
   "metadata": {
    "ExecuteTime": {
     "end_time": "2025-02-02T09:36:06.267158Z",
     "start_time": "2025-02-02T09:36:06.252952Z"
    }
   },
   "cell_type": "code",
   "source": "vector.ndim  #(rank 1 tensor, think of it like the number of pairs of square brackets)",
   "id": "fe144b9dbad6cc59",
   "outputs": [
    {
     "data": {
      "text/plain": [
       "1"
      ]
     },
     "execution_count": 7,
     "metadata": {},
     "output_type": "execute_result"
    }
   ],
   "execution_count": 7
  },
  {
   "metadata": {
    "ExecuteTime": {
     "end_time": "2025-02-02T09:36:06.421567Z",
     "start_time": "2025-02-02T09:36:06.414031Z"
    }
   },
   "cell_type": "code",
   "source": "vector.shape",
   "id": "374aa06a9f5385bf",
   "outputs": [
    {
     "data": {
      "text/plain": [
       "torch.Size([2])"
      ]
     },
     "execution_count": 8,
     "metadata": {},
     "output_type": "execute_result"
    }
   ],
   "execution_count": 8
  },
  {
   "metadata": {
    "ExecuteTime": {
     "end_time": "2025-02-02T09:36:06.593283Z",
     "start_time": "2025-02-02T09:36:06.581479Z"
    }
   },
   "cell_type": "code",
   "source": [
    "#Matrix\n",
    "\n",
    "MATRIX = torch.tensor([\n",
    "    [7, 8],\n",
    "    [9, 10]\n",
    "])\n",
    "\n",
    "MATRIX"
   ],
   "id": "275aa133afc6dee2",
   "outputs": [
    {
     "data": {
      "text/plain": [
       "tensor([[ 7,  8],\n",
       "        [ 9, 10]])"
      ]
     },
     "execution_count": 9,
     "metadata": {},
     "output_type": "execute_result"
    }
   ],
   "execution_count": 9
  },
  {
   "metadata": {
    "ExecuteTime": {
     "end_time": "2025-02-02T09:36:06.826096Z",
     "start_time": "2025-02-02T09:36:06.811122Z"
    }
   },
   "cell_type": "code",
   "source": "MATRIX.ndim",
   "id": "6f26df63ac113ade",
   "outputs": [
    {
     "data": {
      "text/plain": [
       "2"
      ]
     },
     "execution_count": 10,
     "metadata": {},
     "output_type": "execute_result"
    }
   ],
   "execution_count": 10
  },
  {
   "metadata": {
    "ExecuteTime": {
     "end_time": "2025-02-02T09:36:07.247178Z",
     "start_time": "2025-02-02T09:36:07.238667Z"
    }
   },
   "cell_type": "code",
   "source": "MATRIX.shape",
   "id": "c3197c88d26d57b3",
   "outputs": [
    {
     "data": {
      "text/plain": [
       "torch.Size([2, 2])"
      ]
     },
     "execution_count": 11,
     "metadata": {},
     "output_type": "execute_result"
    }
   ],
   "execution_count": 11
  },
  {
   "metadata": {
    "ExecuteTime": {
     "end_time": "2025-02-02T09:36:07.727388Z",
     "start_time": "2025-02-02T09:36:07.716363Z"
    }
   },
   "cell_type": "code",
   "source": [
    "rectangle_matrix = torch.tensor([\n",
    "    [7, 8],\n",
    "    [9, 10],\n",
    "    [11, 12]\n",
    "])\n",
    "rectangle_matrix\n"
   ],
   "id": "878f78a7ffe3bbed",
   "outputs": [
    {
     "data": {
      "text/plain": [
       "tensor([[ 7,  8],\n",
       "        [ 9, 10],\n",
       "        [11, 12]])"
      ]
     },
     "execution_count": 12,
     "metadata": {},
     "output_type": "execute_result"
    }
   ],
   "execution_count": 12
  },
  {
   "metadata": {
    "ExecuteTime": {
     "end_time": "2025-02-02T09:36:08.097779Z",
     "start_time": "2025-02-02T09:36:08.089249Z"
    }
   },
   "cell_type": "code",
   "source": [
    "print(rectangle_matrix.ndim)\n",
    "\n",
    "# Shape = (Rows, Cols)\n",
    "print(rectangle_matrix.shape)"
   ],
   "id": "f91951b90283da1b",
   "outputs": [
    {
     "name": "stdout",
     "output_type": "stream",
     "text": [
      "2\n",
      "torch.Size([3, 2])\n"
     ]
    }
   ],
   "execution_count": 13
  },
  {
   "metadata": {
    "ExecuteTime": {
     "end_time": "2025-02-02T09:36:08.440313Z",
     "start_time": "2025-02-02T09:36:08.425245Z"
    }
   },
   "cell_type": "code",
   "source": "MATRIX[0]",
   "id": "156e372b4ac08808",
   "outputs": [
    {
     "data": {
      "text/plain": [
       "tensor([7, 8])"
      ]
     },
     "execution_count": 14,
     "metadata": {},
     "output_type": "execute_result"
    }
   ],
   "execution_count": 14
  },
  {
   "metadata": {
    "ExecuteTime": {
     "end_time": "2025-02-02T09:36:08.829823Z",
     "start_time": "2025-02-02T09:36:08.815272Z"
    }
   },
   "cell_type": "code",
   "source": [
    "#Tensor\n",
    "\n",
    "TENSOR = torch.tensor([\n",
    "    [\n",
    "        [1, 2, 3],\n",
    "        [4, 5, 6],\n",
    "        [7, 8, 9],\n",
    "        [10, 11, 12]\n",
    "    ]\n",
    "])\n",
    "\n",
    "TENSOR"
   ],
   "id": "dff8efab0dd3c1ed",
   "outputs": [
    {
     "data": {
      "text/plain": [
       "tensor([[[ 1,  2,  3],\n",
       "         [ 4,  5,  6],\n",
       "         [ 7,  8,  9],\n",
       "         [10, 11, 12]]])"
      ]
     },
     "execution_count": 15,
     "metadata": {},
     "output_type": "execute_result"
    }
   ],
   "execution_count": 15
  },
  {
   "metadata": {
    "ExecuteTime": {
     "end_time": "2025-02-02T09:36:09.092704Z",
     "start_time": "2025-02-02T09:36:09.085707Z"
    }
   },
   "cell_type": "code",
   "source": [
    "print(TENSOR.ndim)\n",
    "\n",
    "# Shape = (Number of matrices ,Rows, Cols)\n",
    "print(TENSOR.shape)"
   ],
   "id": "9604c74611f32be5",
   "outputs": [
    {
     "name": "stdout",
     "output_type": "stream",
     "text": [
      "3\n",
      "torch.Size([1, 4, 3])\n"
     ]
    }
   ],
   "execution_count": 16
  },
  {
   "metadata": {
    "ExecuteTime": {
     "end_time": "2025-02-02T09:36:09.264155Z",
     "start_time": "2025-02-02T09:36:09.250156Z"
    }
   },
   "cell_type": "code",
   "source": "TENSOR[0]",
   "id": "3a5167435a8567d9",
   "outputs": [
    {
     "data": {
      "text/plain": [
       "tensor([[ 1,  2,  3],\n",
       "        [ 4,  5,  6],\n",
       "        [ 7,  8,  9],\n",
       "        [10, 11, 12]])"
      ]
     },
     "execution_count": 17,
     "metadata": {},
     "output_type": "execute_result"
    }
   ],
   "execution_count": 17
  },
  {
   "metadata": {
    "ExecuteTime": {
     "end_time": "2025-02-02T09:36:09.434385Z",
     "start_time": "2025-02-02T09:36:09.420008Z"
    }
   },
   "cell_type": "code",
   "source": [
    "#Doesnt work because we have only 1 matrix which is at index 0\n",
    "# TENSOR[1]"
   ],
   "id": "9ded0bdf6ab8f0bf",
   "outputs": [],
   "execution_count": 18
  },
  {
   "metadata": {
    "ExecuteTime": {
     "end_time": "2025-02-02T09:36:09.868895Z",
     "start_time": "2025-02-02T09:36:09.847576Z"
    }
   },
   "cell_type": "code",
   "source": [
    "TENSOR_2 = torch.tensor([  #Contains array of matrices\n",
    "    [  # Contains array of vectors (arrays)\n",
    "        [1, 2, 3],  # Array of numbers\n",
    "        [4, 5, 6],\n",
    "        [7, 8, 9],\n",
    "        [10, 11, 12]\n",
    "    ],\n",
    "\n",
    "    [  # Contains array of vectors (arrays)\n",
    "        [13, 14, 15],\n",
    "        [16, 17, 18],\n",
    "        [19, 20, 21],\n",
    "        [22, 23, 24]\n",
    "    ]\n",
    "])\n",
    "\n",
    "# (2,4,3)\n",
    "# Basically saying we have 2 matrices with 4 rows and 3 cols\n",
    "print(TENSOR_2.shape)"
   ],
   "id": "21c57f8c398a0f22",
   "outputs": [
    {
     "name": "stdout",
     "output_type": "stream",
     "text": [
      "torch.Size([2, 4, 3])\n"
     ]
    }
   ],
   "execution_count": 19
  },
  {
   "metadata": {
    "ExecuteTime": {
     "end_time": "2025-02-02T09:36:10.070929Z",
     "start_time": "2025-02-02T09:36:10.052461Z"
    }
   },
   "cell_type": "code",
   "source": [
    "TENSOR_3 = torch.tensor(\n",
    "    [  # Contains array of tensors\n",
    "        [  #Contains array of matrices\n",
    "            [  # Contains array of vectors (arrays)\n",
    "                [1, 2, 3],  # Array of integers\n",
    "                [4, 5, 6],\n",
    "                [7, 8, 9],\n",
    "                [10, 11, 12]\n",
    "            ],\n",
    "\n",
    "            [  # Contains array of vectors (arrays)\n",
    "                [13, 14, 15],\n",
    "                [16, 17, 18],\n",
    "                [19, 20, 21],\n",
    "                [22, 23, 24]\n",
    "            ]\n",
    "        ]\n",
    "    ])\n",
    "\n",
    "print(TENSOR_3.shape)\n",
    "print(TENSOR_3[0])\n",
    "print(TENSOR_3[0][0])\n",
    "print(TENSOR_3[0][0][0])"
   ],
   "id": "c4c07719df2a09d0",
   "outputs": [
    {
     "name": "stdout",
     "output_type": "stream",
     "text": [
      "torch.Size([1, 2, 4, 3])\n",
      "tensor([[[ 1,  2,  3],\n",
      "         [ 4,  5,  6],\n",
      "         [ 7,  8,  9],\n",
      "         [10, 11, 12]],\n",
      "\n",
      "        [[13, 14, 15],\n",
      "         [16, 17, 18],\n",
      "         [19, 20, 21],\n",
      "         [22, 23, 24]]])\n",
      "tensor([[ 1,  2,  3],\n",
      "        [ 4,  5,  6],\n",
      "        [ 7,  8,  9],\n",
      "        [10, 11, 12]])\n",
      "tensor([1, 2, 3])\n"
     ]
    }
   ],
   "execution_count": 20
  },
  {
   "metadata": {
    "ExecuteTime": {
     "end_time": "2025-02-02T09:36:10.333749Z",
     "start_time": "2025-02-02T09:36:10.318523Z"
    }
   },
   "cell_type": "code",
   "source": "MATRIX",
   "id": "f0e2d8c7237615d1",
   "outputs": [
    {
     "data": {
      "text/plain": [
       "tensor([[ 7,  8],\n",
       "        [ 9, 10]])"
      ]
     },
     "execution_count": 21,
     "metadata": {},
     "output_type": "execute_result"
    }
   ],
   "execution_count": 21
  },
  {
   "metadata": {
    "ExecuteTime": {
     "end_time": "2025-02-02T09:36:10.518224Z",
     "start_time": "2025-02-02T09:36:10.511314Z"
    }
   },
   "cell_type": "code",
   "source": "MATRIX.is_cuda",
   "id": "e273b35ae64dae84",
   "outputs": [
    {
     "data": {
      "text/plain": [
       "False"
      ]
     },
     "execution_count": 22,
     "metadata": {},
     "output_type": "execute_result"
    }
   ],
   "execution_count": 22
  },
  {
   "metadata": {
    "ExecuteTime": {
     "end_time": "2025-02-02T09:36:10.892573Z",
     "start_time": "2025-02-02T09:36:10.859533Z"
    }
   },
   "cell_type": "code",
   "source": [
    "MATRIX.transpose(1, 0)\n",
    "#or \n",
    "# MATRIX.T"
   ],
   "id": "6371bae308591c61",
   "outputs": [
    {
     "data": {
      "text/plain": [
       "tensor([[ 7,  9],\n",
       "        [ 8, 10]])"
      ]
     },
     "execution_count": 23,
     "metadata": {},
     "output_type": "execute_result"
    }
   ],
   "execution_count": 23
  },
  {
   "metadata": {
    "ExecuteTime": {
     "end_time": "2025-02-02T09:36:11.234580Z",
     "start_time": "2025-02-02T09:36:11.225531Z"
    }
   },
   "cell_type": "code",
   "source": "TENSOR",
   "id": "80514482a0ef7cbc",
   "outputs": [
    {
     "data": {
      "text/plain": [
       "tensor([[[ 1,  2,  3],\n",
       "         [ 4,  5,  6],\n",
       "         [ 7,  8,  9],\n",
       "         [10, 11, 12]]])"
      ]
     },
     "execution_count": 24,
     "metadata": {},
     "output_type": "execute_result"
    }
   ],
   "execution_count": 24
  },
  {
   "metadata": {
    "ExecuteTime": {
     "end_time": "2025-02-02T09:36:11.731774Z",
     "start_time": "2025-02-02T09:36:11.718658Z"
    }
   },
   "cell_type": "code",
   "source": "TENSOR.transpose(0, 2)",
   "id": "2bcb65647d621771",
   "outputs": [
    {
     "data": {
      "text/plain": [
       "tensor([[[ 1],\n",
       "         [ 4],\n",
       "         [ 7],\n",
       "         [10]],\n",
       "\n",
       "        [[ 2],\n",
       "         [ 5],\n",
       "         [ 8],\n",
       "         [11]],\n",
       "\n",
       "        [[ 3],\n",
       "         [ 6],\n",
       "         [ 9],\n",
       "         [12]]])"
      ]
     },
     "execution_count": 25,
     "metadata": {},
     "output_type": "execute_result"
    }
   ],
   "execution_count": 25
  },
  {
   "metadata": {
    "ExecuteTime": {
     "end_time": "2025-02-02T09:36:12.008971Z",
     "start_time": "2025-02-02T09:36:11.999719Z"
    }
   },
   "cell_type": "code",
   "source": "TENSOR.transpose(0, 1)",
   "id": "cf483e2bbe5ec849",
   "outputs": [
    {
     "data": {
      "text/plain": [
       "tensor([[[ 1,  2,  3]],\n",
       "\n",
       "        [[ 4,  5,  6]],\n",
       "\n",
       "        [[ 7,  8,  9]],\n",
       "\n",
       "        [[10, 11, 12]]])"
      ]
     },
     "execution_count": 26,
     "metadata": {},
     "output_type": "execute_result"
    }
   ],
   "execution_count": 26
  },
  {
   "metadata": {},
   "cell_type": "markdown",
   "source": [
    "## Random Tensors\n",
    "\n",
    "We require random numbers because neural networks start off their learning with random weights and biases which are then adjusted to the represent the patterns/features they learn.\n",
    "\n",
    "\n",
    "Random tensors - https://pytorch.org/docs/stable/generated/torch.rand.html\n"
   ],
   "id": "2359abd22c7c0ee7"
  },
  {
   "metadata": {
    "ExecuteTime": {
     "end_time": "2025-02-02T09:36:12.301849Z",
     "start_time": "2025-02-02T09:36:12.252907Z"
    }
   },
   "cell_type": "code",
   "source": [
    "#Create a random tensor of shape (3,4)\n",
    "\n",
    "random_tensor = torch.rand(3, 4)\n",
    "\n",
    "random_tensor"
   ],
   "id": "708380ae8d6a1bbd",
   "outputs": [
    {
     "data": {
      "text/plain": [
       "tensor([[0.1262, 0.5594, 0.4882, 0.9940],\n",
       "        [0.9478, 0.6218, 0.2526, 0.0807],\n",
       "        [0.3592, 0.6128, 0.1146, 0.6191]])"
      ]
     },
     "execution_count": 27,
     "metadata": {},
     "output_type": "execute_result"
    }
   ],
   "execution_count": 27
  },
  {
   "metadata": {
    "ExecuteTime": {
     "end_time": "2025-02-02T09:36:12.472195Z",
     "start_time": "2025-02-02T09:36:12.451377Z"
    }
   },
   "cell_type": "code",
   "source": [
    "random_3d_tensor = torch.rand(2, 4, 5)\n",
    "\n",
    "print(random_3d_tensor.shape)\n",
    "\n",
    "random_3d_tensor"
   ],
   "id": "7a3e4ea963715ba8",
   "outputs": [
    {
     "name": "stdout",
     "output_type": "stream",
     "text": [
      "torch.Size([2, 4, 5])\n"
     ]
    },
    {
     "data": {
      "text/plain": [
       "tensor([[[0.7481, 0.0687, 0.5886, 0.0547, 0.2691],\n",
       "         [0.0610, 0.7809, 0.1180, 0.1236, 0.4849],\n",
       "         [0.2155, 0.2696, 0.4058, 0.3932, 0.3133],\n",
       "         [0.2729, 0.2692, 0.0378, 0.7711, 0.4437]],\n",
       "\n",
       "        [[0.5092, 0.2621, 0.6240, 0.1628, 0.8675],\n",
       "         [0.3432, 0.8376, 0.0212, 0.9844, 0.4796],\n",
       "         [0.2406, 0.2972, 0.3143, 0.7412, 0.2213],\n",
       "         [0.7249, 0.1560, 0.9083, 0.5832, 0.3325]]])"
      ]
     },
     "execution_count": 28,
     "metadata": {},
     "output_type": "execute_result"
    }
   ],
   "execution_count": 28
  },
  {
   "metadata": {
    "ExecuteTime": {
     "end_time": "2025-02-02T09:36:13.046325Z",
     "start_time": "2025-02-02T09:36:13.017324Z"
    }
   },
   "cell_type": "code",
   "source": [
    "#Create a random tensor with similar shape to an image tensor\n",
    "\n",
    "random_image_size_tensor = torch.rand(size=(3, 224, 224))  #colour channels (R, G, B), height, width \n",
    "\n",
    "print(random_image_size_tensor.shape)\n",
    "random_image_size_tensor"
   ],
   "id": "c3882d652fbd2a24",
   "outputs": [
    {
     "name": "stdout",
     "output_type": "stream",
     "text": [
      "torch.Size([3, 224, 224])\n"
     ]
    },
    {
     "data": {
      "text/plain": [
       "tensor([[[0.4868, 0.7786, 0.5586,  ..., 0.8996, 0.4391, 0.0138],\n",
       "         [0.9988, 0.2626, 0.7431,  ..., 0.4687, 0.0617, 0.8753],\n",
       "         [0.8695, 0.1486, 0.9172,  ..., 0.5138, 0.8192, 0.0521],\n",
       "         ...,\n",
       "         [0.9036, 0.6805, 0.4172,  ..., 0.7063, 0.9123, 0.4232],\n",
       "         [0.5166, 0.0974, 0.4748,  ..., 0.6025, 0.0593, 0.2498],\n",
       "         [0.5835, 0.3168, 0.5312,  ..., 0.5280, 0.8616, 0.7776]],\n",
       "\n",
       "        [[0.3088, 0.0172, 0.3750,  ..., 0.4113, 0.1544, 0.4760],\n",
       "         [0.0516, 0.0646, 0.8560,  ..., 0.2738, 0.5245, 0.2149],\n",
       "         [0.9148, 0.2588, 0.6541,  ..., 0.8069, 0.0994, 0.5665],\n",
       "         ...,\n",
       "         [0.7793, 0.9583, 0.2068,  ..., 0.0687, 0.6789, 0.2507],\n",
       "         [0.0694, 0.0988, 0.3078,  ..., 0.0676, 0.8451, 0.5112],\n",
       "         [0.3632, 0.1498, 0.1969,  ..., 0.7715, 0.1987, 0.8714]],\n",
       "\n",
       "        [[0.6492, 0.6505, 0.0771,  ..., 0.5595, 0.8986, 0.3139],\n",
       "         [0.2402, 0.4460, 0.7592,  ..., 0.7826, 0.4368, 0.5020],\n",
       "         [0.5263, 0.3718, 0.3704,  ..., 0.2278, 0.6022, 0.2477],\n",
       "         ...,\n",
       "         [0.8940, 0.7715, 0.0629,  ..., 0.9456, 0.4456, 0.5955],\n",
       "         [0.9599, 0.3686, 0.7148,  ..., 0.8933, 0.9549, 0.8586],\n",
       "         [0.7034, 0.0195, 0.0863,  ..., 0.3324, 0.0684, 0.8154]]])"
      ]
     },
     "execution_count": 29,
     "metadata": {},
     "output_type": "execute_result"
    }
   ],
   "execution_count": 29
  },
  {
   "metadata": {},
   "cell_type": "markdown",
   "source": "## Zeros and ones",
   "id": "103a1df5fafcf7f7"
  },
  {
   "metadata": {
    "ExecuteTime": {
     "end_time": "2025-02-02T09:36:13.453880Z",
     "start_time": "2025-02-02T09:36:13.436003Z"
    }
   },
   "cell_type": "code",
   "source": [
    "zeros_3d = torch.zeros(size=(3, 4, 4))\n",
    "zeros_3d"
   ],
   "id": "d0a27882c45eb48b",
   "outputs": [
    {
     "data": {
      "text/plain": [
       "tensor([[[0., 0., 0., 0.],\n",
       "         [0., 0., 0., 0.],\n",
       "         [0., 0., 0., 0.],\n",
       "         [0., 0., 0., 0.]],\n",
       "\n",
       "        [[0., 0., 0., 0.],\n",
       "         [0., 0., 0., 0.],\n",
       "         [0., 0., 0., 0.],\n",
       "         [0., 0., 0., 0.]],\n",
       "\n",
       "        [[0., 0., 0., 0.],\n",
       "         [0., 0., 0., 0.],\n",
       "         [0., 0., 0., 0.],\n",
       "         [0., 0., 0., 0.]]])"
      ]
     },
     "execution_count": 30,
     "metadata": {},
     "output_type": "execute_result"
    }
   ],
   "execution_count": 30
  },
  {
   "metadata": {
    "ExecuteTime": {
     "end_time": "2025-02-02T09:36:13.624268Z",
     "start_time": "2025-02-02T09:36:13.609313Z"
    }
   },
   "cell_type": "code",
   "source": [
    "zeros = torch.zeros(size=(3, 4))\n",
    "\n",
    "zeros * random_tensor"
   ],
   "id": "1fd820cef156f8e7",
   "outputs": [
    {
     "data": {
      "text/plain": [
       "tensor([[0., 0., 0., 0.],\n",
       "        [0., 0., 0., 0.],\n",
       "        [0., 0., 0., 0.]])"
      ]
     },
     "execution_count": 31,
     "metadata": {},
     "output_type": "execute_result"
    }
   ],
   "execution_count": 31
  },
  {
   "metadata": {
    "ExecuteTime": {
     "end_time": "2025-02-02T09:36:13.810737Z",
     "start_time": "2025-02-02T09:36:13.791834Z"
    }
   },
   "cell_type": "code",
   "source": [
    "ones = torch.ones(size=(3, 4))\n",
    "ones\n"
   ],
   "id": "471f6360cb7152a3",
   "outputs": [
    {
     "data": {
      "text/plain": [
       "tensor([[1., 1., 1., 1.],\n",
       "        [1., 1., 1., 1.],\n",
       "        [1., 1., 1., 1.]])"
      ]
     },
     "execution_count": 32,
     "metadata": {},
     "output_type": "execute_result"
    }
   ],
   "execution_count": 32
  },
  {
   "metadata": {
    "ExecuteTime": {
     "end_time": "2025-02-02T09:36:14.120472Z",
     "start_time": "2025-02-02T09:36:14.116380Z"
    }
   },
   "cell_type": "code",
   "source": [
    "#default data type for tensors\n",
    "ones.dtype"
   ],
   "id": "736da6584783d238",
   "outputs": [
    {
     "data": {
      "text/plain": [
       "torch.float32"
      ]
     },
     "execution_count": 33,
     "metadata": {},
     "output_type": "execute_result"
    }
   ],
   "execution_count": 33
  },
  {
   "metadata": {},
   "cell_type": "markdown",
   "source": "### Creating a range of tensors and tensors-like",
   "id": "6de47f888f610906"
  },
  {
   "metadata": {
    "ExecuteTime": {
     "end_time": "2025-02-02T09:36:14.536348Z",
     "start_time": "2025-02-02T09:36:14.527686Z"
    }
   },
   "cell_type": "code",
   "source": [
    "# Use torch.arange\n",
    "\n",
    "two_to_20 = torch.arange(2, 21)\n",
    "\n",
    "two_to_20"
   ],
   "id": "5528d651e3671963",
   "outputs": [
    {
     "data": {
      "text/plain": [
       "tensor([ 2,  3,  4,  5,  6,  7,  8,  9, 10, 11, 12, 13, 14, 15, 16, 17, 18, 19,\n",
       "        20])"
      ]
     },
     "execution_count": 34,
     "metadata": {},
     "output_type": "execute_result"
    }
   ],
   "execution_count": 34
  },
  {
   "metadata": {
    "ExecuteTime": {
     "end_time": "2025-02-02T09:36:15.051123Z",
     "start_time": "2025-02-02T09:36:15.031711Z"
    }
   },
   "cell_type": "code",
   "source": "torch.arange(start=0, end=100, step=2)",
   "id": "4a72216a6e16c08c",
   "outputs": [
    {
     "data": {
      "text/plain": [
       "tensor([ 0,  2,  4,  6,  8, 10, 12, 14, 16, 18, 20, 22, 24, 26, 28, 30, 32, 34,\n",
       "        36, 38, 40, 42, 44, 46, 48, 50, 52, 54, 56, 58, 60, 62, 64, 66, 68, 70,\n",
       "        72, 74, 76, 78, 80, 82, 84, 86, 88, 90, 92, 94, 96, 98])"
      ]
     },
     "execution_count": 35,
     "metadata": {},
     "output_type": "execute_result"
    }
   ],
   "execution_count": 35
  },
  {
   "metadata": {
    "ExecuteTime": {
     "end_time": "2025-02-02T09:36:15.625605Z",
     "start_time": "2025-02-02T09:36:15.614411Z"
    }
   },
   "cell_type": "code",
   "source": "torch.arange(start=0, end=102, step=2)",
   "id": "d365dc09dfbc170d",
   "outputs": [
    {
     "data": {
      "text/plain": [
       "tensor([  0,   2,   4,   6,   8,  10,  12,  14,  16,  18,  20,  22,  24,  26,\n",
       "         28,  30,  32,  34,  36,  38,  40,  42,  44,  46,  48,  50,  52,  54,\n",
       "         56,  58,  60,  62,  64,  66,  68,  70,  72,  74,  76,  78,  80,  82,\n",
       "         84,  86,  88,  90,  92,  94,  96,  98, 100])"
      ]
     },
     "execution_count": 36,
     "metadata": {},
     "output_type": "execute_result"
    }
   ],
   "execution_count": 36
  },
  {
   "metadata": {},
   "cell_type": "markdown",
   "source": "### Creating tensors like",
   "id": "2d8887f2462c35dc"
  },
  {
   "metadata": {
    "ExecuteTime": {
     "end_time": "2025-02-02T09:36:47.538482Z",
     "start_time": "2025-02-02T09:36:47.519483Z"
    }
   },
   "cell_type": "code",
   "source": [
    "# Creating a tensor like the shape of another tensor\n",
    "\n",
    "tensor_like_twenty = torch.zeros_like(input=two_to_20)\n",
    "\n",
    "print(tensor_like_twenty, two_to_20)\n",
    "print(tensor_like_twenty.shape, two_to_20.shape)"
   ],
   "id": "2660d66b40eed829",
   "outputs": [
    {
     "name": "stdout",
     "output_type": "stream",
     "text": [
      "tensor([0, 0, 0, 0, 0, 0, 0, 0, 0, 0, 0, 0, 0, 0, 0, 0, 0, 0, 0]) tensor([ 2,  3,  4,  5,  6,  7,  8,  9, 10, 11, 12, 13, 14, 15, 16, 17, 18, 19,\n",
      "        20])\n",
      "torch.Size([19]) torch.Size([19])\n"
     ]
    }
   ],
   "execution_count": 38
  },
  {
   "metadata": {
    "ExecuteTime": {
     "end_time": "2025-02-02T09:36:57.709214Z",
     "start_time": "2025-02-02T09:36:57.693594Z"
    }
   },
   "cell_type": "code",
   "source": [
    "tensor_like_3d_random = torch.rand_like(input=random_tensor)\n",
    "\n",
    "tensor_like_3d_random"
   ],
   "id": "b044dbd65c8a83ea",
   "outputs": [
    {
     "data": {
      "text/plain": [
       "tensor([[0.9088, 0.0551, 0.8231, 0.1849],\n",
       "        [0.9503, 0.3352, 0.9698, 0.8274],\n",
       "        [0.7263, 0.8415, 0.6680, 0.6830]])"
      ]
     },
     "execution_count": 39,
     "metadata": {},
     "output_type": "execute_result"
    }
   ],
   "execution_count": 39
  },
  {
   "metadata": {
    "ExecuteTime": {
     "end_time": "2025-02-02T09:37:00.180195Z",
     "start_time": "2025-02-02T09:37:00.164819Z"
    }
   },
   "cell_type": "code",
   "source": [
    "#doesnt work because rand requires float not int\n",
    "# torch.rand_like(input=TENSOR_2)\n",
    "\n",
    "torch.ones_like(input=TENSOR_2)\n"
   ],
   "id": "4fa4a4a97b95e17b",
   "outputs": [
    {
     "data": {
      "text/plain": [
       "tensor([[[1, 1, 1],\n",
       "         [1, 1, 1],\n",
       "         [1, 1, 1],\n",
       "         [1, 1, 1]],\n",
       "\n",
       "        [[1, 1, 1],\n",
       "         [1, 1, 1],\n",
       "         [1, 1, 1],\n",
       "         [1, 1, 1]]])"
      ]
     },
     "execution_count": 40,
     "metadata": {},
     "output_type": "execute_result"
    }
   ],
   "execution_count": 40
  },
  {
   "metadata": {},
   "cell_type": "markdown",
   "source": [
    "## Tensor Datatypes\n",
    "\n",
    "**Note:** Dtype is one 3 common errors when running PyTorch for DL\n",
    "1. Tensor is not right dtype\n",
    "2. Tensor not right shape\n",
    "3. Tensor not on right device "
   ],
   "id": "5bd670461a67d01d"
  },
  {
   "metadata": {
    "ExecuteTime": {
     "end_time": "2025-02-02T09:37:06.139756Z",
     "start_time": "2025-02-02T09:37:06.126405Z"
    }
   },
   "cell_type": "code",
   "source": [
    "float_32_tensor = torch.tensor([3.0, 6.0], dtype=None)\n",
    "\n",
    "float_32_tensor"
   ],
   "id": "878786c4dd872370",
   "outputs": [
    {
     "data": {
      "text/plain": [
       "tensor([3., 6.])"
      ]
     },
     "execution_count": 41,
     "metadata": {},
     "output_type": "execute_result"
    }
   ],
   "execution_count": 41
  },
  {
   "metadata": {
    "ExecuteTime": {
     "end_time": "2025-02-02T09:37:10.495801Z",
     "start_time": "2025-02-02T09:37:10.481256Z"
    }
   },
   "cell_type": "code",
   "source": [
    "\n",
    "#Still shows dtype as float because its the default dtype in torch\n",
    "float_32_tensor.dtype"
   ],
   "id": "be9078a29c51c1c5",
   "outputs": [
    {
     "data": {
      "text/plain": [
       "torch.float32"
      ]
     },
     "execution_count": 42,
     "metadata": {},
     "output_type": "execute_result"
    }
   ],
   "execution_count": 42
  },
  {
   "metadata": {
    "ExecuteTime": {
     "end_time": "2025-02-02T09:37:17.559356Z",
     "start_time": "2025-02-02T09:37:17.546485Z"
    }
   },
   "cell_type": "code",
   "source": [
    "all_param_tensor = torch.tensor([\n",
    "    [6, 7],\n",
    "    [8, 9]\n",
    "], dtype=None,  # datatype of data in the tensor\n",
    "    device=None,  # default is cpu,could be changed to cuda\n",
    "    requires_grad=False  # If you want the tensor to track gradients when the values are updated\n",
    ")"
   ],
   "id": "1b3d362c680961e",
   "outputs": [],
   "execution_count": 43
  },
  {
   "metadata": {
    "ExecuteTime": {
     "end_time": "2025-02-02T09:37:20.940104Z",
     "start_time": "2025-02-02T09:37:20.921806Z"
    }
   },
   "cell_type": "code",
   "source": [
    "float_16_tensor = float_32_tensor.type(torch.half)\n",
    "# or\n",
    "# float_16_tensor = float_32_tensor.type(torch.float16)\n",
    "float_16_tensor"
   ],
   "id": "81fdfc68984fb5ef",
   "outputs": [
    {
     "data": {
      "text/plain": [
       "tensor([3., 6.], dtype=torch.float16)"
      ]
     },
     "execution_count": 44,
     "metadata": {},
     "output_type": "execute_result"
    }
   ],
   "execution_count": 44
  },
  {
   "metadata": {
    "ExecuteTime": {
     "end_time": "2025-02-02T09:37:35.725257Z",
     "start_time": "2025-02-02T09:37:35.716815Z"
    }
   },
   "cell_type": "code",
   "source": [
    "#type casted to higher capacity dtype\n",
    "(float_32_tensor * float_16_tensor).dtype"
   ],
   "id": "43f745f815332d1d",
   "outputs": [
    {
     "data": {
      "text/plain": [
       "torch.float32"
      ]
     },
     "execution_count": 45,
     "metadata": {},
     "output_type": "execute_result"
    }
   ],
   "execution_count": 45
  },
  {
   "metadata": {
    "ExecuteTime": {
     "end_time": "2025-02-02T09:37:39.934735Z",
     "start_time": "2025-02-02T09:37:39.924728Z"
    }
   },
   "cell_type": "code",
   "source": [
    "int_32_tensor = torch.tensor([3, 6], dtype=torch.int32)\n",
    "int_32_tensor"
   ],
   "id": "f14c1f3b7bb2656a",
   "outputs": [
    {
     "data": {
      "text/plain": [
       "tensor([3, 6], dtype=torch.int32)"
      ]
     },
     "execution_count": 46,
     "metadata": {},
     "output_type": "execute_result"
    }
   ],
   "execution_count": 46
  },
  {
   "metadata": {
    "ExecuteTime": {
     "end_time": "2025-02-02T09:37:41.630778Z",
     "start_time": "2025-02-02T09:37:41.614763Z"
    }
   },
   "cell_type": "code",
   "source": "float_32_tensor * int_32_tensor",
   "id": "4dde2a322cc71130",
   "outputs": [
    {
     "data": {
      "text/plain": [
       "tensor([ 9., 36.])"
      ]
     },
     "execution_count": 47,
     "metadata": {},
     "output_type": "execute_result"
    }
   ],
   "execution_count": 47
  },
  {
   "metadata": {
    "ExecuteTime": {
     "end_time": "2025-02-02T09:37:43.658005Z",
     "start_time": "2025-02-02T09:37:43.649006Z"
    }
   },
   "cell_type": "code",
   "source": [
    "long_tensor = torch.tensor(data=([3, 6]), dtype=torch.long)\n",
    "long_tensor"
   ],
   "id": "dfbfc525d7a881a9",
   "outputs": [
    {
     "data": {
      "text/plain": [
       "tensor([3, 6])"
      ]
     },
     "execution_count": 48,
     "metadata": {},
     "output_type": "execute_result"
    }
   ],
   "execution_count": 48
  },
  {
   "metadata": {
    "ExecuteTime": {
     "end_time": "2025-02-02T09:37:46.739781Z",
     "start_time": "2025-02-02T09:37:46.731073Z"
    }
   },
   "cell_type": "code",
   "source": "float_32_tensor * long_tensor",
   "id": "6abbed4ba47274c2",
   "outputs": [
    {
     "data": {
      "text/plain": [
       "tensor([ 9., 36.])"
      ]
     },
     "execution_count": 50,
     "metadata": {},
     "output_type": "execute_result"
    }
   ],
   "execution_count": 50
  },
  {
   "metadata": {},
   "cell_type": "markdown",
   "source": [
    "### Getting info from tensor\n",
    "\n",
    "1. Tensor is not right dtype - to get dtype from a tensor - use `tensor.dtype` \n",
    "2. Tensor not right shape - to get shape, use `tensor.shape`\n",
    "3. Tensor not on right device - to get which device tensor is on, use `tensor.device` "
   ],
   "id": "f43b022246038b14"
  },
  {
   "metadata": {
    "ExecuteTime": {
     "end_time": "2025-02-02T09:38:06.967691Z",
     "start_time": "2025-02-02T09:38:06.957330Z"
    }
   },
   "cell_type": "code",
   "source": [
    "some_tensor = torch.rand(3, 4)\n",
    "some_tensor"
   ],
   "id": "a4e5aeb55e06818d",
   "outputs": [
    {
     "data": {
      "text/plain": [
       "tensor([[0.2374, 0.1248, 0.5041, 0.4262],\n",
       "        [0.2105, 0.0701, 0.5027, 0.1591],\n",
       "        [0.7522, 0.6307, 0.6122, 0.3476]])"
      ]
     },
     "execution_count": 51,
     "metadata": {},
     "output_type": "execute_result"
    }
   ],
   "execution_count": 51
  },
  {
   "metadata": {
    "ExecuteTime": {
     "end_time": "2025-02-02T09:38:08.673955Z",
     "start_time": "2025-02-02T09:38:08.656276Z"
    }
   },
   "cell_type": "code",
   "source": [
    "print(some_tensor)\n",
    "print(f\"Datatype of tensor: {some_tensor.dtype}\")\n",
    "print(f\"Shape of tensor: {some_tensor.shape}\")\n",
    "print(f\"Device of tensor: {some_tensor.device}\")"
   ],
   "id": "272faf323ed211c4",
   "outputs": [
    {
     "name": "stdout",
     "output_type": "stream",
     "text": [
      "tensor([[0.2374, 0.1248, 0.5041, 0.4262],\n",
      "        [0.2105, 0.0701, 0.5027, 0.1591],\n",
      "        [0.7522, 0.6307, 0.6122, 0.3476]])\n",
      "Datatype of tensor: torch.float32\n",
      "Shape of tensor: torch.Size([3, 4])\n",
      "Device of tensor: cpu\n"
     ]
    }
   ],
   "execution_count": 52
  },
  {
   "metadata": {
    "ExecuteTime": {
     "end_time": "2025-02-02T09:38:11.495085Z",
     "start_time": "2025-02-02T09:38:11.476649Z"
    }
   },
   "cell_type": "code",
   "source": [
    "#Note tensor shape and size are the same\n",
    "#Size is just a func, while shape is an attribute\n",
    "\n",
    "some_tensor.shape, some_tensor.size()"
   ],
   "id": "af6d8116098d78a7",
   "outputs": [
    {
     "data": {
      "text/plain": [
       "(torch.Size([3, 4]), torch.Size([3, 4]))"
      ]
     },
     "execution_count": 53,
     "metadata": {},
     "output_type": "execute_result"
    }
   ],
   "execution_count": 53
  },
  {
   "metadata": {
    "ExecuteTime": {
     "end_time": "2025-02-02T09:38:22.622590Z",
     "start_time": "2025-02-02T09:38:20.816134Z"
    }
   },
   "cell_type": "code",
   "source": "gpu_tensor = torch.rand(3, 4, device=torch.device('cuda'))\n",
   "id": "412c0fdd150d0f14",
   "outputs": [],
   "execution_count": 54
  },
  {
   "metadata": {},
   "cell_type": "markdown",
   "source": [
    "\n",
    "## Manipulating Tensors (Tensor Operations)\n",
    "\n",
    "Ops include:\n",
    "* Addition\n",
    "* Subtraction\n",
    "* Element-wise multiplication\n",
    "* Matrix multiplication\n",
    "* Division"
   ],
   "id": "2f133ef958b8d522"
  },
  {
   "metadata": {
    "ExecuteTime": {
     "end_time": "2025-02-02T09:38:25.819916Z",
     "start_time": "2025-02-02T09:38:25.812606Z"
    }
   },
   "cell_type": "code",
   "source": [
    "test_tensor = torch.tensor(data=([1, 2, 3]))\n",
    "test_tensor + 10"
   ],
   "id": "385a55850a245cc4",
   "outputs": [
    {
     "data": {
      "text/plain": [
       "tensor([11, 12, 13])"
      ]
     },
     "execution_count": 55,
     "metadata": {},
     "output_type": "execute_result"
    }
   ],
   "execution_count": 55
  },
  {
   "metadata": {
    "ExecuteTime": {
     "end_time": "2025-02-02T09:38:38.564249Z",
     "start_time": "2025-02-02T09:38:38.551113Z"
    }
   },
   "cell_type": "code",
   "source": "test_tensor - 10",
   "id": "9728efd7b12f2af",
   "outputs": [
    {
     "data": {
      "text/plain": [
       "tensor([-9, -8, -7])"
      ]
     },
     "execution_count": 56,
     "metadata": {},
     "output_type": "execute_result"
    }
   ],
   "execution_count": 56
  },
  {
   "metadata": {
    "ExecuteTime": {
     "end_time": "2025-02-02T09:38:40.066497Z",
     "start_time": "2025-02-02T09:38:40.051947Z"
    }
   },
   "cell_type": "code",
   "source": "test_tensor * 10",
   "id": "98c87773ba0141dc",
   "outputs": [
    {
     "data": {
      "text/plain": [
       "tensor([10, 20, 30])"
      ]
     },
     "execution_count": 57,
     "metadata": {},
     "output_type": "execute_result"
    }
   ],
   "execution_count": 57
  },
  {
   "metadata": {
    "ExecuteTime": {
     "end_time": "2025-02-02T09:38:41.483961Z",
     "start_time": "2025-02-02T09:38:41.464962Z"
    }
   },
   "cell_type": "code",
   "source": "test_tensor / 10",
   "id": "cadc38e8db4ea9d8",
   "outputs": [
    {
     "data": {
      "text/plain": [
       "tensor([0.1000, 0.2000, 0.3000])"
      ]
     },
     "execution_count": 58,
     "metadata": {},
     "output_type": "execute_result"
    }
   ],
   "execution_count": 58
  },
  {
   "metadata": {
    "ExecuteTime": {
     "end_time": "2025-02-02T09:38:43.514489Z",
     "start_time": "2025-02-02T09:38:43.504017Z"
    }
   },
   "cell_type": "code",
   "source": "test_tensor // 10",
   "id": "7b11195f0c648d66",
   "outputs": [
    {
     "data": {
      "text/plain": [
       "tensor([0, 0, 0])"
      ]
     },
     "execution_count": 59,
     "metadata": {},
     "output_type": "execute_result"
    }
   ],
   "execution_count": 59
  },
  {
   "metadata": {
    "ExecuteTime": {
     "end_time": "2025-02-02T09:38:45.572628Z",
     "start_time": "2025-02-02T09:38:45.560240Z"
    }
   },
   "cell_type": "code",
   "source": "torch.multiply(test_tensor, 10)",
   "id": "e4c46c52b8596823",
   "outputs": [
    {
     "data": {
      "text/plain": [
       "tensor([10, 20, 30])"
      ]
     },
     "execution_count": 60,
     "metadata": {},
     "output_type": "execute_result"
    }
   ],
   "execution_count": 60
  },
  {
   "metadata": {},
   "cell_type": "markdown",
   "source": [
    "### Matrix multiplication\n",
    "\n",
    "Two main ways of multiplication:\n",
    "1. Element-wise multiplication (e.g. matrix * scalar)\n",
    "2. Matrix multiplication (dot product => a . b)\n",
    "\n",
    "Matrix multiplication rules\n",
    "1. The **inner dimensions** must match: \n",
    "* `(3,2) @ (3,2)` wont work\n",
    "* `(3,2) @ (2,3)` will work\n",
    "* `(2,3) @ (3,2)` will work\n",
    "2. The resulting matrix will have the shape of the **outer dimensions**:\n",
    "* `(3,2) @ (2,3)` -> `(3,3)`\n",
    "* `(2,3) @ (3,2)` -> `(2,2)`\n",
    "\n",
    "Generalizing:\n",
    "**mxn.nxp = mxp**\n",
    "\n",
    "cols of first matrix = rows of second matrix\n",
    "Result will have rows of first and cols of second"
   ],
   "id": "7fd0928370f5275e"
  },
  {
   "metadata": {
    "ExecuteTime": {
     "end_time": "2025-02-02T09:38:50.623771Z",
     "start_time": "2025-02-02T09:38:50.617761Z"
    }
   },
   "cell_type": "code",
   "source": [
    "mul_tensor = torch.tensor(data=(\n",
    "    [1, 2, 3],\n",
    "    [4, 5, 6])\n",
    ")\n",
    "\n",
    "mul_tensor_2 = torch.tensor(data=(\n",
    "    [7, 8],\n",
    "    [10, 11],\n",
    "    [13, 14])\n",
    ")"
   ],
   "id": "cecf4d07de7c909",
   "outputs": [],
   "execution_count": 61
  },
  {
   "metadata": {
    "ExecuteTime": {
     "end_time": "2025-02-02T09:39:21.973207Z",
     "start_time": "2025-02-02T09:39:21.962532Z"
    }
   },
   "cell_type": "code",
   "source": [
    "#Element-wise multiplication\n",
    "print(mul_tensor, \"*\", mul_tensor)\n",
    "print(f\"Equals: {mul_tensor * mul_tensor}\")\n",
    "\n",
    "# Cant multiply element-wise because shape mismatch\n",
    "# print(f\"Equals: {mul_tensor * mul_tensor_2}\")"
   ],
   "id": "d7b9cbe2c9e6a695",
   "outputs": [
    {
     "name": "stdout",
     "output_type": "stream",
     "text": [
      "tensor([[1, 2, 3],\n",
      "        [4, 5, 6]]) * tensor([[1, 2, 3],\n",
      "        [4, 5, 6]])\n",
      "Equals: tensor([[ 1,  4,  9],\n",
      "        [16, 25, 36]])\n"
     ]
    }
   ],
   "execution_count": 62
  },
  {
   "metadata": {
    "ExecuteTime": {
     "end_time": "2025-02-02T09:39:58.539199Z",
     "start_time": "2025-02-02T09:39:58.514555Z"
    }
   },
   "cell_type": "code",
   "source": [
    "#Matrix multiplication\n",
    "torch.matmul(input=mul_tensor, other=mul_tensor_2)"
   ],
   "id": "43abe24ccdd6cce3",
   "outputs": [
    {
     "data": {
      "text/plain": [
       "tensor([[ 66,  72],\n",
       "        [156, 171]])"
      ]
     },
     "execution_count": 63,
     "metadata": {},
     "output_type": "execute_result"
    }
   ],
   "execution_count": 63
  },
  {
   "metadata": {
    "ExecuteTime": {
     "end_time": "2025-02-02T09:40:14.356611Z",
     "start_time": "2025-02-02T09:40:14.337243Z"
    }
   },
   "cell_type": "code",
   "source": "torch.matmul(input=mul_tensor_2, other=mul_tensor)",
   "id": "f332f796e007d21c",
   "outputs": [
    {
     "data": {
      "text/plain": [
       "tensor([[ 39,  54,  69],\n",
       "        [ 54,  75,  96],\n",
       "        [ 69,  96, 123]])"
      ]
     },
     "execution_count": 64,
     "metadata": {},
     "output_type": "execute_result"
    }
   ],
   "execution_count": 64
  },
  {
   "metadata": {
    "ExecuteTime": {
     "end_time": "2025-02-02T09:40:16.900852Z",
     "start_time": "2025-02-02T09:40:16.885082Z"
    }
   },
   "cell_type": "code",
   "source": [
    "tensor_sca_1 = torch.tensor(data=([1, 2, 3]))\n",
    "\n"
   ],
   "id": "e1998b363afc5000",
   "outputs": [],
   "execution_count": 65
  },
  {
   "metadata": {
    "ExecuteTime": {
     "end_time": "2025-02-02T09:40:29.941901Z",
     "start_time": "2025-02-02T09:40:29.932179Z"
    }
   },
   "cell_type": "code",
   "source": [
    "%%time\n",
    "#Doesnt show it here but this is way faster for big tensor multiplications than a for loop\n",
    "torch.matmul(tensor_sca_1, tensor_sca_1)"
   ],
   "id": "2adca4e327fad62c",
   "outputs": [
    {
     "name": "stdout",
     "output_type": "stream",
     "text": [
      "CPU times: total: 0 ns\n",
      "Wall time: 0 ns\n"
     ]
    },
    {
     "data": {
      "text/plain": [
       "tensor(14)"
      ]
     },
     "execution_count": 68,
     "metadata": {},
     "output_type": "execute_result"
    }
   ],
   "execution_count": 68
  },
  {
   "metadata": {
    "ExecuteTime": {
     "end_time": "2025-02-02T09:40:32.095085Z",
     "start_time": "2025-02-02T09:40:32.073231Z"
    }
   },
   "cell_type": "code",
   "source": [
    "%%time \n",
    "#Has to be first thing in cell\n",
    "# The above cell is basically only doing a dot product between 2 vectors\n",
    "sum = 0\n",
    "for i in tensor_sca_1:\n",
    "    sum += i * i\n",
    "sum\n",
    "\n",
    "# 1*1 + 2*2 + 3*3 "
   ],
   "id": "2c9e38c4aa03726f",
   "outputs": [
    {
     "name": "stdout",
     "output_type": "stream",
     "text": [
      "CPU times: total: 0 ns\n",
      "Wall time: 0 ns\n"
     ]
    },
    {
     "data": {
      "text/plain": [
       "tensor(14)"
      ]
     },
     "execution_count": 69,
     "metadata": {},
     "output_type": "execute_result"
    }
   ],
   "execution_count": 69
  },
  {
   "metadata": {
    "ExecuteTime": {
     "end_time": "2025-02-02T09:40:36.027582Z",
     "start_time": "2025-02-02T09:40:36.007505Z"
    }
   },
   "cell_type": "code",
   "source": [
    "# Another way of saying mat mul\n",
    "tensor_sca_1 @ tensor_sca_1"
   ],
   "id": "e55d61fca5cc57cd",
   "outputs": [
    {
     "data": {
      "text/plain": [
       "tensor(14)"
      ]
     },
     "execution_count": 70,
     "metadata": {},
     "output_type": "execute_result"
    }
   ],
   "execution_count": 70
  },
  {
   "metadata": {
    "ExecuteTime": {
     "end_time": "2025-02-02T09:40:39.788247Z",
     "start_time": "2025-02-02T09:40:39.774440Z"
    }
   },
   "cell_type": "code",
   "source": [
    "#This is working because it is being treated as a vector instead of a matrix\n",
    "# If it considered it as a matrix of 1,3 then it would give an error\n",
    "tensor_sca_1.shape"
   ],
   "id": "eaafe8e26bd77c89",
   "outputs": [
    {
     "data": {
      "text/plain": [
       "torch.Size([3])"
      ]
     },
     "execution_count": 71,
     "metadata": {},
     "output_type": "execute_result"
    }
   ],
   "execution_count": 71
  },
  {
   "metadata": {
    "ExecuteTime": {
     "end_time": "2025-02-02T09:40:56.909674Z",
     "start_time": "2025-02-02T09:40:56.901539Z"
    }
   },
   "cell_type": "code",
   "source": [
    "shape_2_vector = torch.tensor(data=[[1, 2, 3]])\n",
    "shape_2_vector.shape"
   ],
   "id": "98d4363c3f487381",
   "outputs": [
    {
     "data": {
      "text/plain": [
       "torch.Size([1, 3])"
      ]
     },
     "execution_count": 72,
     "metadata": {},
     "output_type": "execute_result"
    }
   ],
   "execution_count": 72
  },
  {
   "metadata": {
    "ExecuteTime": {
     "end_time": "2025-01-31T05:02:49.889712Z",
     "start_time": "2025-01-31T05:02:49.883712Z"
    }
   },
   "cell_type": "code",
   "source": [
    "# RuntimeError: mat1 and mat2 shapes cannot be multiplied (1x3 and 1x3)\n",
    "# torch.matmul(shape_2_vector, shape_2_vector)"
   ],
   "id": "84337837981b13eb",
   "outputs": [],
   "execution_count": 70
  },
  {
   "metadata": {
    "ExecuteTime": {
     "end_time": "2025-02-02T09:41:03.150511Z",
     "start_time": "2025-02-02T09:41:03.134316Z"
    }
   },
   "cell_type": "code",
   "source": [
    "# This works because it transposed the second vector making it 3x1\n",
    "torch.matmul(shape_2_vector, shape_2_vector.T)"
   ],
   "id": "e7c7f866eb7187c4",
   "outputs": [
    {
     "data": {
      "text/plain": [
       "tensor([[14]])"
      ]
     },
     "execution_count": 73,
     "metadata": {},
     "output_type": "execute_result"
    }
   ],
   "execution_count": 73
  },
  {
   "metadata": {},
   "cell_type": "markdown",
   "source": "#### One of the most common errors in DL : Shape errors",
   "id": "1226a55ac1e7bcce"
  },
  {
   "metadata": {
    "ExecuteTime": {
     "end_time": "2025-02-02T09:41:10.680685Z",
     "start_time": "2025-02-02T09:41:10.674674Z"
    }
   },
   "cell_type": "code",
   "source": [
    "# Shapes for Matrix multiplication\n",
    "Tensor_A = torch.tensor(data=[[1, 2, ],\n",
    "                              [4, 5, ],\n",
    "                              [7, 8, ]])\n",
    "\n",
    "Tensor_B = torch.tensor(data=[[1, 2, ],\n",
    "                              [3, 4, ],\n",
    "                              [5, 6, ]])"
   ],
   "id": "5b6c6e8b0963c519",
   "outputs": [],
   "execution_count": 74
  },
  {
   "metadata": {
    "ExecuteTime": {
     "end_time": "2025-02-02T09:41:17.118853Z",
     "start_time": "2025-02-02T09:41:17.109855Z"
    }
   },
   "cell_type": "code",
   "source": "Tensor_A.shape, Tensor_B.shape",
   "id": "30116b7708ffdc05",
   "outputs": [
    {
     "data": {
      "text/plain": [
       "(torch.Size([3, 2]), torch.Size([3, 2]))"
      ]
     },
     "execution_count": 75,
     "metadata": {},
     "output_type": "execute_result"
    }
   ],
   "execution_count": 75
  },
  {
   "metadata": {},
   "cell_type": "markdown",
   "source": [
    "Inner dimensions are different so cant multiply \n",
    "\n",
    "To fix our issue, we can **transpose** one of our matrices\n",
    "\n",
    "A **transpose** switches the dimensions of our matrix"
   ],
   "id": "39b60116a717aac2"
  },
  {
   "metadata": {
    "ExecuteTime": {
     "end_time": "2025-02-02T09:41:21.907387Z",
     "start_time": "2025-02-02T09:41:21.896201Z"
    }
   },
   "cell_type": "code",
   "source": "Tensor_B.T",
   "id": "cf1824d1cb493df3",
   "outputs": [
    {
     "data": {
      "text/plain": [
       "tensor([[1, 3, 5],\n",
       "        [2, 4, 6]])"
      ]
     },
     "execution_count": 76,
     "metadata": {},
     "output_type": "execute_result"
    }
   ],
   "execution_count": 76
  },
  {
   "metadata": {
    "ExecuteTime": {
     "end_time": "2025-02-02T09:41:23.862506Z",
     "start_time": "2025-02-02T09:41:23.841989Z"
    }
   },
   "cell_type": "code",
   "source": "Tensor_B",
   "id": "df3b59e96f0f67df",
   "outputs": [
    {
     "data": {
      "text/plain": [
       "tensor([[1, 2],\n",
       "        [3, 4],\n",
       "        [5, 6]])"
      ]
     },
     "execution_count": 77,
     "metadata": {},
     "output_type": "execute_result"
    }
   ],
   "execution_count": 77
  },
  {
   "metadata": {
    "ExecuteTime": {
     "end_time": "2025-02-02T09:41:28.984515Z",
     "start_time": "2025-02-02T09:41:28.977188Z"
    }
   },
   "cell_type": "code",
   "source": "Tensor_B.shape, Tensor_B.T.shape",
   "id": "f985faae8e5e40f2",
   "outputs": [
    {
     "data": {
      "text/plain": [
       "(torch.Size([3, 2]), torch.Size([2, 3]))"
      ]
     },
     "execution_count": 78,
     "metadata": {},
     "output_type": "execute_result"
    }
   ],
   "execution_count": 78
  },
  {
   "metadata": {
    "ExecuteTime": {
     "end_time": "2025-02-02T09:41:32.768413Z",
     "start_time": "2025-02-02T09:41:32.758025Z"
    }
   },
   "cell_type": "code",
   "source": "torch.matmul(Tensor_A, Tensor_B.T)",
   "id": "9799d585556f26c3",
   "outputs": [
    {
     "data": {
      "text/plain": [
       "tensor([[ 5, 11, 17],\n",
       "        [14, 32, 50],\n",
       "        [23, 53, 83]])"
      ]
     },
     "execution_count": 79,
     "metadata": {},
     "output_type": "execute_result"
    }
   ],
   "execution_count": 79
  },
  {
   "metadata": {
    "ExecuteTime": {
     "end_time": "2025-02-02T09:41:34.945938Z",
     "start_time": "2025-02-02T09:41:34.937747Z"
    }
   },
   "cell_type": "code",
   "source": "torch.matmul(Tensor_A, Tensor_B.T).shape",
   "id": "e90a9551dbcb5ce9",
   "outputs": [
    {
     "data": {
      "text/plain": [
       "torch.Size([3, 3])"
      ]
     },
     "execution_count": 80,
     "metadata": {},
     "output_type": "execute_result"
    }
   ],
   "execution_count": 80
  },
  {
   "metadata": {},
   "cell_type": "markdown",
   "source": [
    "## Tensor Aggregation\n",
    "\n",
    "Finding min, max, sum, etc.\n",
    "\n"
   ],
   "id": "9915f94b686b09d2"
  },
  {
   "metadata": {
    "ExecuteTime": {
     "end_time": "2025-02-02T09:41:41.832889Z",
     "start_time": "2025-02-02T09:41:41.824489Z"
    }
   },
   "cell_type": "code",
   "source": [
    "#Stacking 2 tensors to make a new tensor\n",
    "tensor_agg = torch.stack([\n",
    "    torch.arange(1, 6, 2),\n",
    "    torch.arange(6, 11, 2)\n",
    "])\n",
    "\n",
    "tensor_agg"
   ],
   "id": "afe7684c6280351d",
   "outputs": [
    {
     "data": {
      "text/plain": [
       "tensor([[ 1,  3,  5],\n",
       "        [ 6,  8, 10]])"
      ]
     },
     "execution_count": 81,
     "metadata": {},
     "output_type": "execute_result"
    }
   ],
   "execution_count": 81
  },
  {
   "metadata": {
    "ExecuteTime": {
     "end_time": "2025-02-02T09:41:45.047873Z",
     "start_time": "2025-02-02T09:41:45.041630Z"
    }
   },
   "cell_type": "code",
   "source": "tensor_agg.shape",
   "id": "ffa115951ce33d10",
   "outputs": [
    {
     "data": {
      "text/plain": [
       "torch.Size([2, 3])"
      ]
     },
     "execution_count": 82,
     "metadata": {},
     "output_type": "execute_result"
    }
   ],
   "execution_count": 82
  },
  {
   "metadata": {
    "ExecuteTime": {
     "end_time": "2025-02-02T09:41:47.628074Z",
     "start_time": "2025-02-02T09:41:47.619064Z"
    }
   },
   "cell_type": "code",
   "source": "tensor_agg.min()",
   "id": "c7465d0c16c1a5ae",
   "outputs": [
    {
     "data": {
      "text/plain": [
       "tensor(1)"
      ]
     },
     "execution_count": 83,
     "metadata": {},
     "output_type": "execute_result"
    }
   ],
   "execution_count": 83
  },
  {
   "metadata": {
    "ExecuteTime": {
     "end_time": "2025-02-02T09:41:50.120666Z",
     "start_time": "2025-02-02T09:41:50.107724Z"
    }
   },
   "cell_type": "code",
   "source": "tensor_agg.max()",
   "id": "fcd742901840d6f2",
   "outputs": [
    {
     "data": {
      "text/plain": [
       "tensor(10)"
      ]
     },
     "execution_count": 84,
     "metadata": {},
     "output_type": "execute_result"
    }
   ],
   "execution_count": 84
  },
  {
   "metadata": {
    "ExecuteTime": {
     "end_time": "2025-02-02T09:42:08.501628Z",
     "start_time": "2025-02-02T09:42:08.491629Z"
    }
   },
   "cell_type": "code",
   "source": [
    "#Doesnt work because mean requires float dtype\n",
    "# RuntimeError: mean(): could not infer output dtype. Input dtype must be either a floating point or complex dtype. Got: Long\n",
    "# tensor_agg.mean()"
   ],
   "id": "e4eb53d9086036c1",
   "outputs": [],
   "execution_count": 85
  },
  {
   "metadata": {
    "ExecuteTime": {
     "end_time": "2025-02-02T09:42:10.880845Z",
     "start_time": "2025-02-02T09:42:10.870857Z"
    }
   },
   "cell_type": "code",
   "source": [
    "# Casting to float\n",
    "torch.mean(tensor_agg.type(torch.float32))"
   ],
   "id": "6f492f26626312ac",
   "outputs": [
    {
     "data": {
      "text/plain": [
       "tensor(5.5000)"
      ]
     },
     "execution_count": 86,
     "metadata": {},
     "output_type": "execute_result"
    }
   ],
   "execution_count": 86
  },
  {
   "metadata": {
    "ExecuteTime": {
     "end_time": "2025-02-02T09:42:29.494699Z",
     "start_time": "2025-02-02T09:42:29.487420Z"
    }
   },
   "cell_type": "code",
   "source": [
    "#The above created a copy of the tensor in float, the original tensor still exists in int64 type (long)\n",
    "tensor_agg.dtype"
   ],
   "id": "5cb32ecd7a3a826",
   "outputs": [
    {
     "data": {
      "text/plain": [
       "torch.int64"
      ]
     },
     "execution_count": 87,
     "metadata": {},
     "output_type": "execute_result"
    }
   ],
   "execution_count": 87
  },
  {
   "metadata": {
    "ExecuteTime": {
     "end_time": "2025-02-02T09:42:31.388412Z",
     "start_time": "2025-02-02T09:42:31.368475Z"
    }
   },
   "cell_type": "code",
   "source": "tensor_agg.sum()",
   "id": "7b0959ad41f73d13",
   "outputs": [
    {
     "data": {
      "text/plain": [
       "tensor(33)"
      ]
     },
     "execution_count": 88,
     "metadata": {},
     "output_type": "execute_result"
    }
   ],
   "execution_count": 88
  },
  {
   "metadata": {},
   "cell_type": "markdown",
   "source": "### Finding the index of max or min (Positional max or min)",
   "id": "870cd015af0bbdb6"
  },
  {
   "metadata": {
    "ExecuteTime": {
     "end_time": "2025-02-02T09:42:35.654547Z",
     "start_time": "2025-02-02T09:42:35.638017Z"
    }
   },
   "cell_type": "code",
   "source": [
    "#Index of min is 0\n",
    "tensor_agg.argmin()"
   ],
   "id": "cc9869794632b932",
   "outputs": [
    {
     "data": {
      "text/plain": [
       "tensor(0)"
      ]
     },
     "execution_count": 89,
     "metadata": {},
     "output_type": "execute_result"
    }
   ],
   "execution_count": 89
  },
  {
   "metadata": {
    "ExecuteTime": {
     "end_time": "2025-02-02T09:42:37.218267Z",
     "start_time": "2025-02-02T09:42:37.198538Z"
    }
   },
   "cell_type": "code",
   "source": [
    "# tensor_agg.argmax() gives 5, meaning the maximum value is at the 5th position in a flattened version of the tensor.\n",
    "tensor_agg.argmax()"
   ],
   "id": "f7c071461615d1ec",
   "outputs": [
    {
     "data": {
      "text/plain": [
       "tensor(5)"
      ]
     },
     "execution_count": 90,
     "metadata": {},
     "output_type": "execute_result"
    }
   ],
   "execution_count": 90
  },
  {
   "metadata": {
    "ExecuteTime": {
     "end_time": "2025-02-02T09:42:39.258900Z",
     "start_time": "2025-02-02T09:42:39.200289Z"
    }
   },
   "cell_type": "code",
   "source": [
    "# torch.unravel_index(flat_index, shape) converts this flat index into a 2D coordinate (row, column)\n",
    "max_idx_flat = tensor_agg.argmax()\n",
    "torch.unravel_index(max_idx_flat, tensor_agg.shape)"
   ],
   "id": "b95f620e42ca387a",
   "outputs": [
    {
     "data": {
      "text/plain": [
       "(tensor(1), tensor(2))"
      ]
     },
     "execution_count": 91,
     "metadata": {},
     "output_type": "execute_result"
    }
   ],
   "execution_count": 91
  },
  {
   "metadata": {},
   "cell_type": "markdown",
   "source": [
    "## Reshaping, Stacking, Squeezing and unsqueezing tensors\n",
    "\n",
    "* Reshaping - Reshaping an input tensor into a defined shape\n",
    "* View - Return a view of a tensor in a certain shape but keep the original tensor unchanged. But keep in mind view shares the same memory as the original so any change in it will result in change in tensor\n",
    "* Stacking - Combine multiple tensors on top of each other (vstack) or side by side (hstack) (or stack by itself with input dim)\n",
    "* Squeeze - Removes all `1` dimensions from the tensor\n",
    "* Unsqueeze - Adds a `1` dimension to a tensor\n",
    "* Permute - Return a view of the input with dimensions permuted (swapped) in a certain way "
   ],
   "id": "bfea9e6e532a2c06"
  },
  {
   "metadata": {
    "ExecuteTime": {
     "end_time": "2025-02-02T09:42:59.646485Z",
     "start_time": "2025-02-02T09:42:59.634850Z"
    }
   },
   "cell_type": "code",
   "source": [
    "x = torch.arange(1., 10.)  #float\n",
    "\n",
    "x, x.shape"
   ],
   "id": "5011903176f156d",
   "outputs": [
    {
     "data": {
      "text/plain": [
       "(tensor([1., 2., 3., 4., 5., 6., 7., 8., 9.]), torch.Size([9]))"
      ]
     },
     "execution_count": 92,
     "metadata": {},
     "output_type": "execute_result"
    }
   ],
   "execution_count": 92
  },
  {
   "metadata": {
    "ExecuteTime": {
     "end_time": "2025-02-02T09:43:19.546414Z",
     "start_time": "2025-02-02T09:43:19.530083Z"
    }
   },
   "cell_type": "code",
   "source": [
    "#This wont work because we have 9 elements and we are trying to shape it into 1 row with 7 columns which wont fit\n",
    "# RuntimeError: shape '[1, 7]' is invalid for input of size 9\n",
    "# x_reshape = x.reshape(1, 7)\n",
    "# x_reshape, x_reshape.shape"
   ],
   "id": "7d5354b3737e3033",
   "outputs": [],
   "execution_count": 93
  },
  {
   "metadata": {
    "ExecuteTime": {
     "end_time": "2025-02-02T09:43:22.415432Z",
     "start_time": "2025-02-02T09:43:22.404856Z"
    }
   },
   "cell_type": "code",
   "source": [
    "#Notice we added a new dimension (extra []), earlier shape was only 9\n",
    "x_reshape = x.reshape(1, 9)\n",
    "x_reshape, x_reshape.shape"
   ],
   "id": "84d4e36cf618f94e",
   "outputs": [
    {
     "data": {
      "text/plain": [
       "(tensor([[1., 2., 3., 4., 5., 6., 7., 8., 9.]]), torch.Size([1, 9]))"
      ]
     },
     "execution_count": 94,
     "metadata": {},
     "output_type": "execute_result"
    }
   ],
   "execution_count": 94
  },
  {
   "metadata": {
    "ExecuteTime": {
     "end_time": "2025-02-02T09:43:57.900785Z",
     "start_time": "2025-02-02T09:43:57.892625Z"
    }
   },
   "cell_type": "code",
   "source": [
    "#Would require 18 elements to fill this\n",
    "# x_reshape = x.reshape(2, 9)\n",
    "# x_reshape, x_reshape.shape"
   ],
   "id": "2b98976f70720869",
   "outputs": [],
   "execution_count": 95
  },
  {
   "metadata": {
    "ExecuteTime": {
     "end_time": "2025-02-02T09:44:01.652407Z",
     "start_time": "2025-02-02T09:44:01.633327Z"
    }
   },
   "cell_type": "code",
   "source": [
    "#9 rows and 1 column\n",
    "x_reshape = x.reshape(9, 1)\n",
    "x_reshape, x_reshape.shape"
   ],
   "id": "a784f27b94e9a0a7",
   "outputs": [
    {
     "data": {
      "text/plain": [
       "(tensor([[1.],\n",
       "         [2.],\n",
       "         [3.],\n",
       "         [4.],\n",
       "         [5.],\n",
       "         [6.],\n",
       "         [7.],\n",
       "         [8.],\n",
       "         [9.]]),\n",
       " torch.Size([9, 1]))"
      ]
     },
     "execution_count": 96,
     "metadata": {},
     "output_type": "execute_result"
    }
   ],
   "execution_count": 96
  },
  {
   "metadata": {},
   "cell_type": "markdown",
   "source": [
    "Basically think this way, the product of dims is the number of elements that will fit\n",
    "\n",
    "so if i have shape (4,3) I have 12 elements. These can be reshaped to any dimensions as long as their product is 12. e.g. (2,6) "
   ],
   "id": "e231e44e1e214cdf"
  },
  {
   "metadata": {
    "ExecuteTime": {
     "end_time": "2025-02-02T09:44:05.710073Z",
     "start_time": "2025-02-02T09:44:05.700925Z"
    }
   },
   "cell_type": "code",
   "source": [
    "y = torch.tensor(data=([\n",
    "    [1, 2, 3],\n",
    "    [4, 5, 6],\n",
    "    [6, 7, 8],\n",
    "    [9, 10, 11]\n",
    "]))\n",
    "\n",
    "y, y.shape"
   ],
   "id": "39fbf2129b51b68d",
   "outputs": [
    {
     "data": {
      "text/plain": [
       "(tensor([[ 1,  2,  3],\n",
       "         [ 4,  5,  6],\n",
       "         [ 6,  7,  8],\n",
       "         [ 9, 10, 11]]),\n",
       " torch.Size([4, 3]))"
      ]
     },
     "execution_count": 97,
     "metadata": {},
     "output_type": "execute_result"
    }
   ],
   "execution_count": 97
  },
  {
   "metadata": {
    "ExecuteTime": {
     "end_time": "2025-02-02T09:44:14.111204Z",
     "start_time": "2025-02-02T09:44:14.100182Z"
    }
   },
   "cell_type": "code",
   "source": "y.reshape(2, 6), y.reshape(2, 6).shape",
   "id": "88bbea94abd0dac2",
   "outputs": [
    {
     "data": {
      "text/plain": [
       "(tensor([[ 1,  2,  3,  4,  5,  6],\n",
       "         [ 6,  7,  8,  9, 10, 11]]),\n",
       " torch.Size([2, 6]))"
      ]
     },
     "execution_count": 98,
     "metadata": {},
     "output_type": "execute_result"
    }
   ],
   "execution_count": 98
  },
  {
   "metadata": {
    "ExecuteTime": {
     "end_time": "2025-02-02T09:44:21.834549Z",
     "start_time": "2025-02-02T09:44:21.823339Z"
    }
   },
   "cell_type": "code",
   "source": "y.reshape(2, 1, 6), y.reshape(2, 1, 6).shape",
   "id": "c1bac0f5e3950ea9",
   "outputs": [
    {
     "data": {
      "text/plain": [
       "(tensor([[[ 1,  2,  3,  4,  5,  6]],\n",
       " \n",
       "         [[ 6,  7,  8,  9, 10, 11]]]),\n",
       " torch.Size([2, 1, 6]))"
      ]
     },
     "execution_count": 99,
     "metadata": {},
     "output_type": "execute_result"
    }
   ],
   "execution_count": 99
  },
  {
   "metadata": {
    "ExecuteTime": {
     "end_time": "2025-02-02T09:45:05.587554Z",
     "start_time": "2025-02-02T09:45:05.573963Z"
    }
   },
   "cell_type": "code",
   "source": "x",
   "id": "85503a2e34d97741",
   "outputs": [
    {
     "data": {
      "text/plain": [
       "tensor([1., 2., 3., 4., 5., 6., 7., 8., 9.])"
      ]
     },
     "execution_count": 102,
     "metadata": {},
     "output_type": "execute_result"
    }
   ],
   "execution_count": 102
  },
  {
   "metadata": {
    "ExecuteTime": {
     "end_time": "2025-02-02T09:44:30.036146Z",
     "start_time": "2025-02-02T09:44:30.024139Z"
    }
   },
   "cell_type": "code",
   "source": [
    "#Change the view\n",
    "z = x.view(9, 1)\n",
    "z, z.shape"
   ],
   "id": "a29ae94a0f2884ad",
   "outputs": [
    {
     "data": {
      "text/plain": [
       "(tensor([[1.],\n",
       "         [2.],\n",
       "         [3.],\n",
       "         [4.],\n",
       "         [5.],\n",
       "         [6.],\n",
       "         [7.],\n",
       "         [8.],\n",
       "         [9.]]),\n",
       " torch.Size([9, 1]))"
      ]
     },
     "execution_count": 100,
     "metadata": {},
     "output_type": "execute_result"
    }
   ],
   "execution_count": 100
  },
  {
   "metadata": {
    "ExecuteTime": {
     "end_time": "2025-02-02T09:44:33.515593Z",
     "start_time": "2025-02-02T09:44:33.503392Z"
    }
   },
   "cell_type": "code",
   "source": "x, x.shape",
   "id": "e14dc233399af8b7",
   "outputs": [
    {
     "data": {
      "text/plain": [
       "(tensor([1., 2., 3., 4., 5., 6., 7., 8., 9.]), torch.Size([9]))"
      ]
     },
     "execution_count": 101,
     "metadata": {},
     "output_type": "execute_result"
    }
   ],
   "execution_count": 101
  },
  {
   "metadata": {
    "ExecuteTime": {
     "end_time": "2025-02-02T09:45:14.238133Z",
     "start_time": "2025-02-02T09:45:14.175030Z"
    }
   },
   "cell_type": "code",
   "source": [
    "#Changed the first 2 rows of z to 5 for all columns\n",
    "z[0:2, :] = 5"
   ],
   "id": "cb40fe09ae0528ad",
   "outputs": [],
   "execution_count": 103
  },
  {
   "metadata": {
    "ExecuteTime": {
     "end_time": "2025-02-02T09:45:22.075923Z",
     "start_time": "2025-02-02T09:45:22.056691Z"
    }
   },
   "cell_type": "code",
   "source": [
    "#Changing z changes x as well\n",
    "x, z"
   ],
   "id": "99badb3586fee862",
   "outputs": [
    {
     "data": {
      "text/plain": [
       "(tensor([5., 5., 3., 4., 5., 6., 7., 8., 9.]),\n",
       " tensor([[5.],\n",
       "         [5.],\n",
       "         [3.],\n",
       "         [4.],\n",
       "         [5.],\n",
       "         [6.],\n",
       "         [7.],\n",
       "         [8.],\n",
       "         [9.]]))"
      ]
     },
     "execution_count": 104,
     "metadata": {},
     "output_type": "execute_result"
    }
   ],
   "execution_count": 104
  },
  {
   "metadata": {
    "ExecuteTime": {
     "end_time": "2025-02-02T09:45:41.388610Z",
     "start_time": "2025-02-02T09:45:41.370114Z"
    }
   },
   "cell_type": "code",
   "source": [
    "#Stack tensors on top of each other\n",
    "x_stacked = torch.stack([x, x, x, x], dim=0)\n",
    "#Stacked vertically, as new rows\n",
    "# x\n",
    "# x\n",
    "# x\n",
    "# x\n",
    "x_stacked"
   ],
   "id": "fa4f7cfff122c4be",
   "outputs": [
    {
     "data": {
      "text/plain": [
       "tensor([[5., 5., 3., 4., 5., 6., 7., 8., 9.],\n",
       "        [5., 5., 3., 4., 5., 6., 7., 8., 9.],\n",
       "        [5., 5., 3., 4., 5., 6., 7., 8., 9.],\n",
       "        [5., 5., 3., 4., 5., 6., 7., 8., 9.]])"
      ]
     },
     "execution_count": 105,
     "metadata": {},
     "output_type": "execute_result"
    }
   ],
   "execution_count": 105
  },
  {
   "metadata": {
    "ExecuteTime": {
     "end_time": "2025-02-02T09:45:53.446546Z",
     "start_time": "2025-02-02T09:45:53.431244Z"
    }
   },
   "cell_type": "code",
   "source": [
    "x_stacked = torch.stack([x, x, x, x], dim=1)\n",
    "#Stacked horizontally, as new columns\n",
    "# x x x x\n",
    "x_stacked"
   ],
   "id": "7d46859ab5032d6c",
   "outputs": [
    {
     "data": {
      "text/plain": [
       "tensor([[5., 5., 5., 5.],\n",
       "        [5., 5., 5., 5.],\n",
       "        [3., 3., 3., 3.],\n",
       "        [4., 4., 4., 4.],\n",
       "        [5., 5., 5., 5.],\n",
       "        [6., 6., 6., 6.],\n",
       "        [7., 7., 7., 7.],\n",
       "        [8., 8., 8., 8.],\n",
       "        [9., 9., 9., 9.]])"
      ]
     },
     "execution_count": 106,
     "metadata": {},
     "output_type": "execute_result"
    }
   ],
   "execution_count": 106
  },
  {
   "metadata": {
    "ExecuteTime": {
     "end_time": "2025-02-02T09:45:58.807983Z",
     "start_time": "2025-02-02T09:45:58.793271Z"
    }
   },
   "cell_type": "code",
   "source": "x_reshape, x_reshape.shape",
   "id": "144e60c2ea9aa645",
   "outputs": [
    {
     "data": {
      "text/plain": [
       "(tensor([[5.],\n",
       "         [5.],\n",
       "         [3.],\n",
       "         [4.],\n",
       "         [5.],\n",
       "         [6.],\n",
       "         [7.],\n",
       "         [8.],\n",
       "         [9.]]),\n",
       " torch.Size([9, 1]))"
      ]
     },
     "execution_count": 107,
     "metadata": {},
     "output_type": "execute_result"
    }
   ],
   "execution_count": 107
  },
  {
   "metadata": {
    "ExecuteTime": {
     "end_time": "2025-02-02T09:46:03.726091Z",
     "start_time": "2025-02-02T09:46:03.714010Z"
    }
   },
   "cell_type": "code",
   "source": [
    "p = x_reshape.squeeze()\n",
    "p, p.shape"
   ],
   "id": "1808b687d7443ea5",
   "outputs": [
    {
     "data": {
      "text/plain": [
       "(tensor([5., 5., 3., 4., 5., 6., 7., 8., 9.]), torch.Size([9]))"
      ]
     },
     "execution_count": 108,
     "metadata": {},
     "output_type": "execute_result"
    }
   ],
   "execution_count": 108
  },
  {
   "metadata": {
    "ExecuteTime": {
     "end_time": "2025-02-02T09:46:24.972091Z",
     "start_time": "2025-02-02T09:46:24.960048Z"
    }
   },
   "cell_type": "code",
   "source": [
    "#unsqueeze adds a single dimension to a target tensor at a specific dim\n",
    "p.unsqueeze(0), p.unsqueeze(0).shape"
   ],
   "id": "2e528c8c5050b74b",
   "outputs": [
    {
     "data": {
      "text/plain": [
       "(tensor([[5., 5., 3., 4., 5., 6., 7., 8., 9.]]), torch.Size([1, 9]))"
      ]
     },
     "execution_count": 109,
     "metadata": {},
     "output_type": "execute_result"
    }
   ],
   "execution_count": 109
  },
  {
   "metadata": {
    "ExecuteTime": {
     "end_time": "2025-02-02T09:46:27.587008Z",
     "start_time": "2025-02-02T09:46:27.568044Z"
    }
   },
   "cell_type": "code",
   "source": [
    "#unsqueeze adds a single dimension to a target tensor at a specific dim\n",
    "p.unsqueeze(1), p.unsqueeze(1).shape"
   ],
   "id": "e7233e6f6be2860e",
   "outputs": [
    {
     "data": {
      "text/plain": [
       "(tensor([[5.],\n",
       "         [5.],\n",
       "         [3.],\n",
       "         [4.],\n",
       "         [5.],\n",
       "         [6.],\n",
       "         [7.],\n",
       "         [8.],\n",
       "         [9.]]),\n",
       " torch.Size([9, 1]))"
      ]
     },
     "execution_count": 110,
     "metadata": {},
     "output_type": "execute_result"
    }
   ],
   "execution_count": 110
  },
  {
   "metadata": {
    "ExecuteTime": {
     "end_time": "2025-02-02T09:46:39.688180Z",
     "start_time": "2025-02-02T09:46:39.677594Z"
    }
   },
   "cell_type": "code",
   "source": "p.unsqueeze(0).unsqueeze(0), p.unsqueeze(0).unsqueeze(0).shape",
   "id": "3a8c7aaeedd120d9",
   "outputs": [
    {
     "data": {
      "text/plain": [
       "(tensor([[[5., 5., 3., 4., 5., 6., 7., 8., 9.]]]), torch.Size([1, 1, 9]))"
      ]
     },
     "execution_count": 111,
     "metadata": {},
     "output_type": "execute_result"
    }
   ],
   "execution_count": 111
  },
  {
   "metadata": {
    "ExecuteTime": {
     "end_time": "2025-02-02T09:46:41.436861Z",
     "start_time": "2025-02-02T09:46:41.427533Z"
    }
   },
   "cell_type": "code",
   "source": "p.unsqueeze(1).unsqueeze(1), p.unsqueeze(1).unsqueeze(1).shape",
   "id": "552608591ce84a96",
   "outputs": [
    {
     "data": {
      "text/plain": [
       "(tensor([[[5.]],\n",
       " \n",
       "         [[5.]],\n",
       " \n",
       "         [[3.]],\n",
       " \n",
       "         [[4.]],\n",
       " \n",
       "         [[5.]],\n",
       " \n",
       "         [[6.]],\n",
       " \n",
       "         [[7.]],\n",
       " \n",
       "         [[8.]],\n",
       " \n",
       "         [[9.]]]),\n",
       " torch.Size([9, 1, 1]))"
      ]
     },
     "execution_count": 112,
     "metadata": {},
     "output_type": "execute_result"
    }
   ],
   "execution_count": 112
  },
  {
   "metadata": {
    "ExecuteTime": {
     "end_time": "2025-02-02T09:47:13.748085Z",
     "start_time": "2025-02-02T09:47:13.737890Z"
    }
   },
   "cell_type": "code",
   "source": [
    "#permute - Rearranges dims of a target tensor in a specified order\n",
    "r = torch.rand(2, 3, 5)\n",
    "\n",
    "r, r.shape"
   ],
   "id": "b3f555644b6936dd",
   "outputs": [
    {
     "data": {
      "text/plain": [
       "(tensor([[[0.2921, 0.3050, 0.7808, 0.4285, 0.8915],\n",
       "          [0.7997, 0.9382, 0.0353, 0.5236, 0.4428],\n",
       "          [0.1606, 0.7584, 0.8411, 0.7951, 0.5940]],\n",
       " \n",
       "         [[0.1697, 0.9809, 0.9486, 0.9412, 0.9448],\n",
       "          [0.9546, 0.3136, 0.5852, 0.6117, 0.5614],\n",
       "          [0.8168, 0.4850, 0.8992, 0.8340, 0.4454]]]),\n",
       " torch.Size([2, 3, 5]))"
      ]
     },
     "execution_count": 113,
     "metadata": {},
     "output_type": "execute_result"
    }
   ],
   "execution_count": 113
  },
  {
   "metadata": {
    "ExecuteTime": {
     "end_time": "2025-02-02T09:47:19.379491Z",
     "start_time": "2025-02-02T09:47:19.364515Z"
    }
   },
   "cell_type": "code",
   "source": [
    "# dim of index 2 (5) is at 0\n",
    "# dim of index 0 (2) is at 1\n",
    "# dim of index 1 (3) is at 2\n",
    "torch.permute(r, (2, 0, 1)).shape"
   ],
   "id": "6114d5f8ff9de1db",
   "outputs": [
    {
     "data": {
      "text/plain": [
       "torch.Size([5, 2, 3])"
      ]
     },
     "execution_count": 114,
     "metadata": {},
     "output_type": "execute_result"
    }
   ],
   "execution_count": 114
  },
  {
   "metadata": {},
   "cell_type": "markdown",
   "source": [
    "### Indexing (selecting data from tensors)\n",
    "\n",
    "Indexing with Pytorch is similar to NumPy"
   ],
   "id": "774b5b35915e21fa"
  },
  {
   "metadata": {
    "ExecuteTime": {
     "end_time": "2025-02-02T09:47:28.812979Z",
     "start_time": "2025-02-02T09:47:28.794524Z"
    }
   },
   "cell_type": "code",
   "source": [
    "i = torch.arange(1, 10).reshape(1, 3, 3)\n",
    "\n",
    "i, i.shape"
   ],
   "id": "21e6f93d1e482599",
   "outputs": [
    {
     "data": {
      "text/plain": [
       "(tensor([[[1, 2, 3],\n",
       "          [4, 5, 6],\n",
       "          [7, 8, 9]]]),\n",
       " torch.Size([1, 3, 3]))"
      ]
     },
     "execution_count": 115,
     "metadata": {},
     "output_type": "execute_result"
    }
   ],
   "execution_count": 115
  },
  {
   "metadata": {
    "ExecuteTime": {
     "end_time": "2025-02-02T09:47:34.970705Z",
     "start_time": "2025-02-02T09:47:34.965832Z"
    }
   },
   "cell_type": "code",
   "source": "i[0]",
   "id": "19a94f50e4d8b40b",
   "outputs": [
    {
     "data": {
      "text/plain": [
       "tensor([[1, 2, 3],\n",
       "        [4, 5, 6],\n",
       "        [7, 8, 9]])"
      ]
     },
     "execution_count": 116,
     "metadata": {},
     "output_type": "execute_result"
    }
   ],
   "execution_count": 116
  },
  {
   "metadata": {
    "ExecuteTime": {
     "end_time": "2025-02-02T09:47:37.009337Z",
     "start_time": "2025-02-02T09:47:37.000337Z"
    }
   },
   "cell_type": "code",
   "source": [
    "#Both are the same thing\n",
    "i[0][0], i[0, 0]"
   ],
   "id": "632568bcdc44fe26",
   "outputs": [
    {
     "data": {
      "text/plain": [
       "(tensor([1, 2, 3]), tensor([1, 2, 3]))"
      ]
     },
     "execution_count": 117,
     "metadata": {},
     "output_type": "execute_result"
    }
   ],
   "execution_count": 117
  },
  {
   "metadata": {
    "ExecuteTime": {
     "end_time": "2025-02-02T09:47:42.499285Z",
     "start_time": "2025-02-02T09:47:42.483214Z"
    }
   },
   "cell_type": "code",
   "source": "i[0][0][0], i[0, 0, 0]",
   "id": "248ebee4701e095e",
   "outputs": [
    {
     "data": {
      "text/plain": [
       "(tensor(1), tensor(1))"
      ]
     },
     "execution_count": 118,
     "metadata": {},
     "output_type": "execute_result"
    }
   ],
   "execution_count": 118
  },
  {
   "metadata": {
    "ExecuteTime": {
     "end_time": "2025-02-02T09:47:44.729167Z",
     "start_time": "2025-02-02T09:47:44.707428Z"
    }
   },
   "cell_type": "code",
   "source": [
    "# You can use \":\" to select  \"all\" of a target dimension\n",
    "#from all the matrices, from all  the rows, select the 0th column\n",
    "i[:, :, 0]"
   ],
   "id": "edfc144e2af47b2f",
   "outputs": [
    {
     "data": {
      "text/plain": [
       "tensor([[1, 4, 7]])"
      ]
     },
     "execution_count": 119,
     "metadata": {},
     "output_type": "execute_result"
    }
   ],
   "execution_count": 119
  },
  {
   "metadata": {
    "ExecuteTime": {
     "end_time": "2025-02-02T09:47:51.658351Z",
     "start_time": "2025-02-02T09:47:51.654348Z"
    }
   },
   "cell_type": "code",
   "source": [
    "#from all the matrices, from the rows 0 to 1, select the 0th column\n",
    "i[:, 0:2, 0]"
   ],
   "id": "5e8841d129565bf3",
   "outputs": [
    {
     "data": {
      "text/plain": [
       "tensor([[1, 4]])"
      ]
     },
     "execution_count": 120,
     "metadata": {},
     "output_type": "execute_result"
    }
   ],
   "execution_count": 120
  },
  {
   "metadata": {
    "ExecuteTime": {
     "end_time": "2025-02-02T09:47:53.964629Z",
     "start_time": "2025-02-02T09:47:53.958459Z"
    }
   },
   "cell_type": "code",
   "source": [
    "#Get all values of 0 dim, but only the 1 index value of 1st and 2nd dim\n",
    "i[:, 1, 1]"
   ],
   "id": "bad39e5769cff312",
   "outputs": [
    {
     "data": {
      "text/plain": [
       "tensor([5])"
      ]
     },
     "execution_count": 121,
     "metadata": {},
     "output_type": "execute_result"
    }
   ],
   "execution_count": 121
  },
  {
   "metadata": {
    "ExecuteTime": {
     "end_time": "2025-02-02T09:48:06.924589Z",
     "start_time": "2025-02-02T09:48:06.906172Z"
    }
   },
   "cell_type": "code",
   "source": [
    "#Get index 0 of 0th and 1st dimension and all values of 2nd dimension\n",
    "i[0, 0, :]"
   ],
   "id": "fd709121ee82a91f",
   "outputs": [
    {
     "data": {
      "text/plain": [
       "tensor([1, 2, 3])"
      ]
     },
     "execution_count": 122,
     "metadata": {},
     "output_type": "execute_result"
    }
   ],
   "execution_count": 122
  },
  {
   "metadata": {},
   "cell_type": "markdown",
   "source": [
    "### PyTorch tensors and NumPy\n",
    "\n",
    "* Data in NumPy array, but want it in Pytorch tensor -> `torch.from_numpy(ndarray)`\n",
    "* Tensor to Numpy -> `torch.Tensor.numpy()`"
   ],
   "id": "8b26cd23c07ddbbb"
  },
  {
   "metadata": {
    "ExecuteTime": {
     "end_time": "2025-02-02T09:48:28.359173Z",
     "start_time": "2025-02-02T09:48:28.349441Z"
    }
   },
   "cell_type": "code",
   "source": [
    "npArray = np.arange(1., 8.)\n",
    "npArray"
   ],
   "id": "c07b5c6db7615844",
   "outputs": [
    {
     "data": {
      "text/plain": [
       "array([1., 2., 3., 4., 5., 6., 7.])"
      ]
     },
     "execution_count": 123,
     "metadata": {},
     "output_type": "execute_result"
    }
   ],
   "execution_count": 123
  },
  {
   "metadata": {
    "ExecuteTime": {
     "end_time": "2025-02-02T09:48:32.626833Z",
     "start_time": "2025-02-02T09:48:32.615563Z"
    }
   },
   "cell_type": "code",
   "source": [
    "torchTensor = torch.from_numpy(npArray)\n",
    "\n",
    "torchTensor"
   ],
   "id": "a9c37b1b1056f26e",
   "outputs": [
    {
     "data": {
      "text/plain": [
       "tensor([1., 2., 3., 4., 5., 6., 7.], dtype=torch.float64)"
      ]
     },
     "execution_count": 124,
     "metadata": {},
     "output_type": "execute_result"
    }
   ],
   "execution_count": 124
  },
  {
   "metadata": {
    "ExecuteTime": {
     "end_time": "2025-02-02T09:48:36.664500Z",
     "start_time": "2025-02-02T09:48:36.646011Z"
    }
   },
   "cell_type": "code",
   "source": [
    "#Note that torch's default float is float32, but np is 64 so to prevent lossy conversion it keeps it 64. We can change it explicitly though\n",
    "\n",
    "torchTensor32 = torch.from_numpy(npArray).type(torch.float32)\n",
    "torchTensor32, torchTensor32.dtype"
   ],
   "id": "3164884fca2e866e",
   "outputs": [
    {
     "data": {
      "text/plain": [
       "(tensor([1., 2., 3., 4., 5., 6., 7.]), torch.float32)"
      ]
     },
     "execution_count": 125,
     "metadata": {},
     "output_type": "execute_result"
    }
   ],
   "execution_count": 125
  },
  {
   "metadata": {
    "ExecuteTime": {
     "end_time": "2025-02-02T09:48:44.106075Z",
     "start_time": "2025-02-02T09:48:44.085532Z"
    }
   },
   "cell_type": "code",
   "source": [
    "#Deep copy, tensor is a new memory space\n",
    "npArray = npArray+1\n",
    "npArray,torchTensor"
   ],
   "id": "bad21932f76c0f9f",
   "outputs": [
    {
     "data": {
      "text/plain": [
       "(array([2., 3., 4., 5., 6., 7., 8.]),\n",
       " tensor([1., 2., 3., 4., 5., 6., 7.], dtype=torch.float64))"
      ]
     },
     "execution_count": 126,
     "metadata": {},
     "output_type": "execute_result"
    }
   ],
   "execution_count": 126
  },
  {
   "metadata": {
    "ExecuteTime": {
     "end_time": "2025-02-02T09:49:02.901029Z",
     "start_time": "2025-02-02T09:49:02.889331Z"
    }
   },
   "cell_type": "code",
   "source": [
    "ttensor = torch.ones(7)\n",
    "npTensor = torch.Tensor.numpy(ttensor)\n",
    "\n",
    "ttensor,npTensor"
   ],
   "id": "c9baf6e0098a46ee",
   "outputs": [
    {
     "data": {
      "text/plain": [
       "(tensor([1., 1., 1., 1., 1., 1., 1.]),\n",
       " array([1., 1., 1., 1., 1., 1., 1.], dtype=float32))"
      ]
     },
     "execution_count": 127,
     "metadata": {},
     "output_type": "execute_result"
    }
   ],
   "execution_count": 127
  },
  {
   "metadata": {
    "ExecuteTime": {
     "end_time": "2025-02-02T09:49:07.921177Z",
     "start_time": "2025-02-02T09:49:07.911180Z"
    }
   },
   "cell_type": "code",
   "source": [
    "#Deep copy this way as well, ndarray is a new memory space\n",
    "ttensor = ttensor+1\n",
    "npTensor,ttensor"
   ],
   "id": "3c283c704f9cd9af",
   "outputs": [
    {
     "data": {
      "text/plain": [
       "(array([1., 1., 1., 1., 1., 1., 1.], dtype=float32),\n",
       " tensor([2., 2., 2., 2., 2., 2., 2.]))"
      ]
     },
     "execution_count": 128,
     "metadata": {},
     "output_type": "execute_result"
    }
   ],
   "execution_count": 128
  },
  {
   "metadata": {},
   "cell_type": "markdown",
   "source": [
    "## Reproducability (trying to take the random out of random)\n",
    "\n",
    "In short NN learn by:\n",
    "\n",
    "`start with random numbers -> perform tensor ops -> Update random numbers to represent certain features or patterns ->again ->again...`\n",
    "\n",
    "To reduce the randomness, we can use the **random seed**\n",
    "\n",
    "Essentially what it does is it gives a starting point or deterministic parameter for the random number generating algorithm ensuring that it always spits out the same numbers in the same sequence\n",
    "\n",
    "Extra resources:\n",
    "* https://pytorch.org/docs/stable/notes/randomness.html\n",
    "* https://en.wikipedia.org/wiki/Random_seed\n"
   ],
   "id": "73a91fb7b14034a6"
  },
  {
   "metadata": {
    "ExecuteTime": {
     "end_time": "2025-02-02T09:49:15.513354Z",
     "start_time": "2025-02-02T09:49:15.503030Z"
    }
   },
   "cell_type": "code",
   "source": [
    "#Will give different random numbers everytime we run\n",
    "torch.rand(3,3)"
   ],
   "id": "bcf234c8d1533594",
   "outputs": [
    {
     "data": {
      "text/plain": [
       "tensor([[0.5899, 0.3246, 0.0792],\n",
       "        [0.1633, 0.6366, 0.0396],\n",
       "        [0.8985, 0.2918, 0.0361]])"
      ]
     },
     "execution_count": 129,
     "metadata": {},
     "output_type": "execute_result"
    }
   ],
   "execution_count": 129
  },
  {
   "metadata": {
    "ExecuteTime": {
     "end_time": "2025-02-02T09:49:23.207753Z",
     "start_time": "2025-02-02T09:49:23.188152Z"
    }
   },
   "cell_type": "code",
   "source": [
    "r1 = torch.rand(3,4)\n",
    "r2 = torch.rand(3,4)\n",
    "\n",
    "print(r1)\n",
    "print(r2)\n",
    "print(r1==r2)"
   ],
   "id": "65c27a904f501bd3",
   "outputs": [
    {
     "name": "stdout",
     "output_type": "stream",
     "text": [
      "tensor([[0.8082, 0.1802, 0.1524, 0.3983],\n",
      "        [0.1224, 0.0216, 0.2620, 0.7261],\n",
      "        [0.6738, 0.6583, 0.6564, 0.4666]])\n",
      "tensor([[0.2146, 0.4153, 0.5353, 0.7437],\n",
      "        [0.0439, 0.7868, 0.6788, 0.8725],\n",
      "        [0.2907, 0.9328, 0.5436, 0.5492]])\n",
      "tensor([[False, False, False, False],\n",
      "        [False, False, False, False],\n",
      "        [False, False, False, False]])\n"
     ]
    }
   ],
   "execution_count": 130
  },
  {
   "metadata": {
    "ExecuteTime": {
     "end_time": "2025-02-02T09:49:30.287194Z",
     "start_time": "2025-02-02T09:49:30.269065Z"
    }
   },
   "cell_type": "code",
   "source": [
    "RANDOM_SEED = 42\n",
    "torch.manual_seed(RANDOM_SEED)\n",
    "r1 = torch.rand(3,4)\n",
    "r1"
   ],
   "id": "71e9e4435afafe28",
   "outputs": [
    {
     "data": {
      "text/plain": [
       "tensor([[0.8823, 0.9150, 0.3829, 0.9593],\n",
       "        [0.3904, 0.6009, 0.2566, 0.7936],\n",
       "        [0.9408, 0.1332, 0.9346, 0.5936]])"
      ]
     },
     "execution_count": 131,
     "metadata": {},
     "output_type": "execute_result"
    }
   ],
   "execution_count": 131
  },
  {
   "metadata": {
    "ExecuteTime": {
     "end_time": "2025-02-02T09:49:33.838106Z",
     "start_time": "2025-02-02T09:49:33.827926Z"
    }
   },
   "cell_type": "code",
   "source": [
    "#Think of it this way once we set the random seed it generates a list of numbers its going to output like 0.8,0.9,0.6..... So once we set it we will get those numbers anytime we want something random. Setting the seed again to the same value resets us to the beginning of the list, so we will generate the number at index 0 again\n",
    "torch.manual_seed(RANDOM_SEED)\n",
    "\n",
    "r2 = torch.rand(3,4)\n",
    "r2"
   ],
   "id": "6a6c186dd06a522f",
   "outputs": [
    {
     "data": {
      "text/plain": [
       "tensor([[0.8823, 0.9150, 0.3829, 0.9593],\n",
       "        [0.3904, 0.6009, 0.2566, 0.7936],\n",
       "        [0.9408, 0.1332, 0.9346, 0.5936]])"
      ]
     },
     "execution_count": 132,
     "metadata": {},
     "output_type": "execute_result"
    }
   ],
   "execution_count": 132
  },
  {
   "metadata": {
    "ExecuteTime": {
     "end_time": "2025-02-02T09:49:36.024097Z",
     "start_time": "2025-02-02T09:49:36.018402Z"
    }
   },
   "cell_type": "code",
   "source": "print(r1==r2)",
   "id": "75ad038b8282a6b2",
   "outputs": [
    {
     "name": "stdout",
     "output_type": "stream",
     "text": [
      "tensor([[True, True, True, True],\n",
      "        [True, True, True, True],\n",
      "        [True, True, True, True]])\n"
     ]
    }
   ],
   "execution_count": 133
  },
  {
   "metadata": {},
   "cell_type": "markdown",
   "source": [
    "### Running tensors or general PyTorch objects in GPUs\n",
    "\n"
   ],
   "id": "63c3eb06347deabc"
  },
  {
   "metadata": {
    "ExecuteTime": {
     "end_time": "2025-01-31T07:05:07.515646Z",
     "start_time": "2025-01-31T07:05:07.497434Z"
    }
   },
   "cell_type": "code",
   "source": [
    "print(torch.__version__)\n",
    "print(torch.cuda.is_available())"
   ],
   "id": "91abcdcda7d87b8d",
   "outputs": [
    {
     "name": "stdout",
     "output_type": "stream",
     "text": [
      "2.4.1\n",
      "True\n"
     ]
    }
   ],
   "execution_count": 204
  },
  {
   "metadata": {
    "ExecuteTime": {
     "end_time": "2025-01-31T07:06:11.941523Z",
     "start_time": "2025-01-31T07:06:11.934300Z"
    }
   },
   "cell_type": "code",
   "source": [
    "#Setup Device agnostic code to run on gpu if available or cpu\n",
    "device = \"cuda\" if torch.cuda.is_available() else \"cpu\"\n",
    "device"
   ],
   "id": "3fd99dac2cc37c53",
   "outputs": [
    {
     "data": {
      "text/plain": [
       "'cuda'"
      ]
     },
     "execution_count": 205,
     "metadata": {},
     "output_type": "execute_result"
    }
   ],
   "execution_count": 205
  },
  {
   "metadata": {
    "ExecuteTime": {
     "end_time": "2025-01-31T07:08:01.793372Z",
     "start_time": "2025-01-31T07:08:01.776793Z"
    }
   },
   "cell_type": "code",
   "source": [
    "#Count number of devices\n",
    "print(torch.cuda.device_count())\n",
    "print(torch.cuda.get_device_name())\n"
   ],
   "id": "84381af0a927ef91",
   "outputs": [
    {
     "name": "stdout",
     "output_type": "stream",
     "text": [
      "1\n",
      "NVIDIA GeForce RTX 4070 Laptop GPU\n"
     ]
    }
   ],
   "execution_count": 211
  },
  {
   "metadata": {},
   "cell_type": "markdown",
   "source": [
    "### Putting tensors and models on the GPU\n",
    "\n",
    "\n"
   ],
   "id": "d8f045e47188c223"
  },
  {
   "metadata": {
    "ExecuteTime": {
     "end_time": "2025-01-31T07:11:17.952293Z",
     "start_time": "2025-01-31T07:11:17.944755Z"
    }
   },
   "cell_type": "code",
   "source": [
    "#Default tensor is on cpu\n",
    "cpu_tensor = torch.rand(3, 4)\n",
    "print(cpu_tensor.device)"
   ],
   "id": "85c672557183851d",
   "outputs": [
    {
     "name": "stdout",
     "output_type": "stream",
     "text": [
      "cpu\n"
     ]
    }
   ],
   "execution_count": 212
  },
  {
   "metadata": {
    "ExecuteTime": {
     "end_time": "2025-01-31T07:11:36.057885Z",
     "start_time": "2025-01-31T07:11:36.051669Z"
    }
   },
   "cell_type": "code",
   "source": [
    "gpu_tensor = torch.rand(3, 4,device=device)\n",
    "print(gpu_tensor.device)"
   ],
   "id": "23ed9bc790b710d8",
   "outputs": [
    {
     "name": "stdout",
     "output_type": "stream",
     "text": [
      "cuda:0\n"
     ]
    }
   ],
   "execution_count": 214
  },
  {
   "metadata": {
    "ExecuteTime": {
     "end_time": "2025-01-31T07:13:01.530830Z",
     "start_time": "2025-01-31T07:13:01.520634Z"
    }
   },
   "cell_type": "code",
   "source": [
    "#We can also move a tensor to the gpu\n",
    "tensor_on_gpu = cpu_tensor.to(device)\n",
    "print(tensor_on_gpu,tensor_on_gpu.device)"
   ],
   "id": "6826bde82dd489e2",
   "outputs": [
    {
     "name": "stdout",
     "output_type": "stream",
     "text": [
      "tensor([[0.8694, 0.5677, 0.7411, 0.4294],\n",
      "        [0.8854, 0.5739, 0.2666, 0.6274],\n",
      "        [0.2696, 0.4414, 0.2969, 0.8317]], device='cuda:0') cuda:0\n"
     ]
    }
   ],
   "execution_count": 215
  },
  {
   "metadata": {
    "ExecuteTime": {
     "end_time": "2025-01-31T07:13:29.467656Z",
     "start_time": "2025-01-31T07:13:29.459351Z"
    }
   },
   "cell_type": "code",
   "source": [
    "#This still exists though, it created a copy of it on the gpu \n",
    "cpu_tensor,cpu_tensor.device"
   ],
   "id": "6c7274260ce7e0e9",
   "outputs": [
    {
     "data": {
      "text/plain": [
       "(tensor([[0.8694, 0.5677, 0.7411, 0.4294],\n",
       "         [0.8854, 0.5739, 0.2666, 0.6274],\n",
       "         [0.2696, 0.4414, 0.2969, 0.8317]]),\n",
       " device(type='cpu'))"
      ]
     },
     "execution_count": 216,
     "metadata": {},
     "output_type": "execute_result"
    }
   ],
   "execution_count": 216
  },
  {
   "metadata": {
    "ExecuteTime": {
     "end_time": "2025-01-31T07:15:42.553489Z",
     "start_time": "2025-01-31T07:15:42.526813Z"
    }
   },
   "cell_type": "code",
   "source": [
    "#NumPy does not work with data on the gpu\n",
    "# tensor_on_gpu.numpy()"
   ],
   "id": "ee29572d7625a932",
   "outputs": [
    {
     "ename": "TypeError",
     "evalue": "can't convert cuda:0 device type tensor to numpy. Use Tensor.cpu() to copy the tensor to host memory first.",
     "output_type": "error",
     "traceback": [
      "\u001B[1;31m---------------------------------------------------------------------------\u001B[0m",
      "\u001B[1;31mTypeError\u001B[0m                                 Traceback (most recent call last)",
      "Cell \u001B[1;32mIn[218], line 2\u001B[0m\n\u001B[0;32m      1\u001B[0m \u001B[38;5;66;03m#NumPy does not work with data on the gpu\u001B[39;00m\n\u001B[1;32m----> 2\u001B[0m \u001B[43mtensor_on_gpu\u001B[49m\u001B[38;5;241;43m.\u001B[39;49m\u001B[43mnumpy\u001B[49m\u001B[43m(\u001B[49m\u001B[43m)\u001B[49m\n",
      "\u001B[1;31mTypeError\u001B[0m: can't convert cuda:0 device type tensor to numpy. Use Tensor.cpu() to copy the tensor to host memory first."
     ]
    }
   ],
   "execution_count": 218
  },
  {
   "metadata": {
    "ExecuteTime": {
     "end_time": "2025-01-31T07:16:23.891772Z",
     "start_time": "2025-01-31T07:16:23.887761Z"
    }
   },
   "cell_type": "code",
   "source": [
    "#Moving back to cpu\n",
    "# or tensor_on_gpu.to(\"cpu\")\n",
    "prodigal_son = tensor_on_gpu.cpu()\n",
    "prodigal_son,prodigal_son.device"
   ],
   "id": "4344bdced5cfa252",
   "outputs": [
    {
     "data": {
      "text/plain": [
       "(tensor([[0.8694, 0.5677, 0.7411, 0.4294],\n",
       "         [0.8854, 0.5739, 0.2666, 0.6274],\n",
       "         [0.2696, 0.4414, 0.2969, 0.8317]]),\n",
       " device(type='cpu'))"
      ]
     },
     "execution_count": 220,
     "metadata": {},
     "output_type": "execute_result"
    }
   ],
   "execution_count": 220
  },
  {
   "metadata": {
    "ExecuteTime": {
     "end_time": "2025-01-31T07:16:26.161654Z",
     "start_time": "2025-01-31T07:16:26.145578Z"
    }
   },
   "cell_type": "code",
   "source": "prodigal_son.numpy()",
   "id": "ff12ec8bd070787f",
   "outputs": [
    {
     "data": {
      "text/plain": [
       "array([[0.86940444, 0.5677153 , 0.74109405, 0.4294045 ],\n",
       "       [0.8854429 , 0.57390445, 0.26658005, 0.62744915],\n",
       "       [0.26963168, 0.44136357, 0.29692084, 0.8316855 ]], dtype=float32)"
      ]
     },
     "execution_count": 221,
     "metadata": {},
     "output_type": "execute_result"
    }
   ],
   "execution_count": 221
  },
  {
   "metadata": {},
   "cell_type": "code",
   "outputs": [],
   "execution_count": null,
   "source": "",
   "id": "dce9480496fc303d"
  },
  {
   "metadata": {},
   "cell_type": "code",
   "outputs": [],
   "execution_count": null,
   "source": "",
   "id": "3c190d83e59c097e"
  }
 ],
 "metadata": {
  "kernelspec": {
   "display_name": "Python 3",
   "language": "python",
   "name": "python3"
  },
  "language_info": {
   "codemirror_mode": {
    "name": "ipython",
    "version": 2
   },
   "file_extension": ".py",
   "mimetype": "text/x-python",
   "name": "python",
   "nbconvert_exporter": "python",
   "pygments_lexer": "ipython2",
   "version": "2.7.6"
  }
 },
 "nbformat": 4,
 "nbformat_minor": 5
}
