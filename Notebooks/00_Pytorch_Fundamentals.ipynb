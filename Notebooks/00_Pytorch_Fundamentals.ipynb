{
 "cells": [
  {
   "cell_type": "code",
   "id": "initial_id",
   "metadata": {
    "collapsed": true,
    "ExecuteTime": {
     "end_time": "2025-01-30T06:28:14.265035Z",
     "start_time": "2025-01-30T06:28:12.485859Z"
    }
   },
   "source": "!nvidia-smi",
   "outputs": [
    {
     "name": "stdout",
     "output_type": "stream",
     "text": [
      "Thu Jan 30 14:28:14 2025       \n",
      "+-----------------------------------------------------------------------------------------+\n",
      "| NVIDIA-SMI 561.19                 Driver Version: 561.19         CUDA Version: 12.6     |\n",
      "|-----------------------------------------+------------------------+----------------------+\n",
      "| GPU  Name                  Driver-Model | Bus-Id          Disp.A | Volatile Uncorr. ECC |\n",
      "| Fan  Temp   Perf          Pwr:Usage/Cap |           Memory-Usage | GPU-Util  Compute M. |\n",
      "|                                         |                        |               MIG M. |\n",
      "|=========================================+========================+======================|\n",
      "|   0  NVIDIA GeForce RTX 4070 ...  WDDM  |   00000000:01:00.0 Off |                  N/A |\n",
      "| N/A   45C    P0             14W /  140W |       0MiB /   8188MiB |      0%      Default |\n",
      "|                                         |                        |                  N/A |\n",
      "+-----------------------------------------+------------------------+----------------------+\n",
      "                                                                                         \n",
      "+-----------------------------------------------------------------------------------------+\n",
      "| Processes:                                                                              |\n",
      "|  GPU   GI   CI        PID   Type   Process name                              GPU Memory |\n",
      "|        ID   ID                                                               Usage      |\n",
      "|=========================================================================================|\n",
      "|  No running processes found                                                             |\n",
      "+-----------------------------------------------------------------------------------------+\n"
     ]
    }
   ],
   "execution_count": 4
  },
  {
   "metadata": {
    "ExecuteTime": {
     "end_time": "2025-01-30T06:57:39.760358Z",
     "start_time": "2025-01-30T06:57:39.752005Z"
    }
   },
   "cell_type": "code",
   "source": [
    "import torch\n",
    "import numpy as np\n",
    "import matplotlib.pyplot as plt\n",
    "import pandas as pd\n",
    "import IPython\n",
    "\n",
    "print(torch.__version__)\n",
    "print(torch.cuda.is_available())\n",
    "print(IPython.version_info)"
   ],
   "id": "e8cc4bd0c14c475",
   "outputs": [
    {
     "name": "stdout",
     "output_type": "stream",
     "text": [
      "2.4.1\n",
      "True\n",
      "(8, 12, 2, '')\n"
     ]
    }
   ],
   "execution_count": 86
  },
  {
   "metadata": {},
   "cell_type": "markdown",
   "source": [
    "## Introduction to Tensors\n",
    "\n",
    "### Creating Tensors"
   ],
   "id": "93cd654178b86448"
  },
  {
   "metadata": {
    "ExecuteTime": {
     "end_time": "2025-01-30T06:28:14.434160Z",
     "start_time": "2025-01-30T06:28:14.415457Z"
    }
   },
   "cell_type": "code",
   "source": [
    "# scalar\n",
    "\n",
    "scalar = torch.tensor(7)\n",
    "\n",
    "scalar"
   ],
   "id": "b0ef8441faaf31",
   "outputs": [
    {
     "data": {
      "text/plain": [
       "tensor(7)"
      ]
     },
     "execution_count": 6,
     "metadata": {},
     "output_type": "execute_result"
    }
   ],
   "execution_count": 6
  },
  {
   "metadata": {
    "ExecuteTime": {
     "end_time": "2025-01-30T06:28:14.496813Z",
     "start_time": "2025-01-30T06:28:14.479525Z"
    }
   },
   "cell_type": "code",
   "source": "scalar.ndim\n",
   "id": "c68beedbc9749e6b",
   "outputs": [
    {
     "data": {
      "text/plain": [
       "0"
      ]
     },
     "execution_count": 7,
     "metadata": {},
     "output_type": "execute_result"
    }
   ],
   "execution_count": 7
  },
  {
   "metadata": {
    "ExecuteTime": {
     "end_time": "2025-01-30T06:28:14.559119Z",
     "start_time": "2025-01-30T06:28:14.549607Z"
    }
   },
   "cell_type": "code",
   "source": [
    "#Get tensor back as python integer\n",
    "\n",
    "scalar.item()"
   ],
   "id": "b3089256d05c5f87",
   "outputs": [
    {
     "data": {
      "text/plain": [
       "7"
      ]
     },
     "execution_count": 8,
     "metadata": {},
     "output_type": "execute_result"
    }
   ],
   "execution_count": 8
  },
  {
   "metadata": {
    "ExecuteTime": {
     "end_time": "2025-01-30T06:28:14.636236Z",
     "start_time": "2025-01-30T06:28:14.626236Z"
    }
   },
   "cell_type": "code",
   "source": [
    "#Vector\n",
    "\n",
    "vector = torch.tensor([7, 7])\n",
    "\n",
    "vector"
   ],
   "id": "cb8e4765b3287566",
   "outputs": [
    {
     "data": {
      "text/plain": [
       "tensor([7, 7])"
      ]
     },
     "execution_count": 9,
     "metadata": {},
     "output_type": "execute_result"
    }
   ],
   "execution_count": 9
  },
  {
   "metadata": {
    "ExecuteTime": {
     "end_time": "2025-01-30T06:28:14.714046Z",
     "start_time": "2025-01-30T06:28:14.698898Z"
    }
   },
   "cell_type": "code",
   "source": "vector.ndim  #(rank 1 tensor, think of it like the number of pairs of square brackets)",
   "id": "fe144b9dbad6cc59",
   "outputs": [
    {
     "data": {
      "text/plain": [
       "1"
      ]
     },
     "execution_count": 10,
     "metadata": {},
     "output_type": "execute_result"
    }
   ],
   "execution_count": 10
  },
  {
   "metadata": {
    "ExecuteTime": {
     "end_time": "2025-01-30T06:28:14.775891Z",
     "start_time": "2025-01-30T06:28:14.759265Z"
    }
   },
   "cell_type": "code",
   "source": "vector.shape",
   "id": "374aa06a9f5385bf",
   "outputs": [
    {
     "data": {
      "text/plain": [
       "torch.Size([2])"
      ]
     },
     "execution_count": 11,
     "metadata": {},
     "output_type": "execute_result"
    }
   ],
   "execution_count": 11
  },
  {
   "metadata": {
    "ExecuteTime": {
     "end_time": "2025-01-30T06:28:14.853477Z",
     "start_time": "2025-01-30T06:28:14.838703Z"
    }
   },
   "cell_type": "code",
   "source": [
    "#Matrix\n",
    "\n",
    "MATRIX = torch.tensor([\n",
    "    [7, 8],\n",
    "    [9, 10]\n",
    "])\n",
    "\n",
    "MATRIX"
   ],
   "id": "275aa133afc6dee2",
   "outputs": [
    {
     "data": {
      "text/plain": [
       "tensor([[ 7,  8],\n",
       "        [ 9, 10]])"
      ]
     },
     "execution_count": 12,
     "metadata": {},
     "output_type": "execute_result"
    }
   ],
   "execution_count": 12
  },
  {
   "metadata": {
    "ExecuteTime": {
     "end_time": "2025-01-30T06:28:14.930705Z",
     "start_time": "2025-01-30T06:28:14.924376Z"
    }
   },
   "cell_type": "code",
   "source": "MATRIX.ndim",
   "id": "6f26df63ac113ade",
   "outputs": [
    {
     "data": {
      "text/plain": [
       "2"
      ]
     },
     "execution_count": 13,
     "metadata": {},
     "output_type": "execute_result"
    }
   ],
   "execution_count": 13
  },
  {
   "metadata": {
    "ExecuteTime": {
     "end_time": "2025-01-30T06:28:15.040047Z",
     "start_time": "2025-01-30T06:28:15.035429Z"
    }
   },
   "cell_type": "code",
   "source": "MATRIX.shape",
   "id": "c3197c88d26d57b3",
   "outputs": [
    {
     "data": {
      "text/plain": [
       "torch.Size([2, 2])"
      ]
     },
     "execution_count": 14,
     "metadata": {},
     "output_type": "execute_result"
    }
   ],
   "execution_count": 14
  },
  {
   "metadata": {
    "ExecuteTime": {
     "end_time": "2025-01-30T06:28:15.287594Z",
     "start_time": "2025-01-30T06:28:15.277408Z"
    }
   },
   "cell_type": "code",
   "source": [
    "rectangle_matrix = torch.tensor([\n",
    "    [7, 8],\n",
    "    [9, 10],\n",
    "    [11, 12]\n",
    "])\n",
    "rectangle_matrix\n"
   ],
   "id": "878f78a7ffe3bbed",
   "outputs": [
    {
     "data": {
      "text/plain": [
       "tensor([[ 7,  8],\n",
       "        [ 9, 10],\n",
       "        [11, 12]])"
      ]
     },
     "execution_count": 15,
     "metadata": {},
     "output_type": "execute_result"
    }
   ],
   "execution_count": 15
  },
  {
   "metadata": {
    "ExecuteTime": {
     "end_time": "2025-01-30T06:28:15.580378Z",
     "start_time": "2025-01-30T06:28:15.570839Z"
    }
   },
   "cell_type": "code",
   "source": [
    "print(rectangle_matrix.ndim)\n",
    "\n",
    "# Shape = (Rows, Cols)\n",
    "print(rectangle_matrix.shape)"
   ],
   "id": "f91951b90283da1b",
   "outputs": [
    {
     "name": "stdout",
     "output_type": "stream",
     "text": [
      "2\n",
      "torch.Size([3, 2])\n"
     ]
    }
   ],
   "execution_count": 16
  },
  {
   "metadata": {
    "ExecuteTime": {
     "end_time": "2025-01-30T06:28:15.798620Z",
     "start_time": "2025-01-30T06:28:15.785339Z"
    }
   },
   "cell_type": "code",
   "source": "MATRIX[0]",
   "id": "156e372b4ac08808",
   "outputs": [
    {
     "data": {
      "text/plain": [
       "tensor([7, 8])"
      ]
     },
     "execution_count": 17,
     "metadata": {},
     "output_type": "execute_result"
    }
   ],
   "execution_count": 17
  },
  {
   "metadata": {
    "ExecuteTime": {
     "end_time": "2025-01-30T06:28:15.922367Z",
     "start_time": "2025-01-30T06:28:15.916815Z"
    }
   },
   "cell_type": "code",
   "source": [
    "#Tensor\n",
    "\n",
    "TENSOR = torch.tensor([\n",
    "    [\n",
    "        [1, 2, 3],\n",
    "        [4, 5, 6],\n",
    "        [7, 8, 9],\n",
    "        [10, 11, 12]\n",
    "    ]\n",
    "])\n",
    "\n",
    "TENSOR"
   ],
   "id": "dff8efab0dd3c1ed",
   "outputs": [
    {
     "data": {
      "text/plain": [
       "tensor([[[ 1,  2,  3],\n",
       "         [ 4,  5,  6],\n",
       "         [ 7,  8,  9],\n",
       "         [10, 11, 12]]])"
      ]
     },
     "execution_count": 18,
     "metadata": {},
     "output_type": "execute_result"
    }
   ],
   "execution_count": 18
  },
  {
   "metadata": {
    "ExecuteTime": {
     "end_time": "2025-01-30T06:28:16.060075Z",
     "start_time": "2025-01-30T06:28:16.045340Z"
    }
   },
   "cell_type": "code",
   "source": [
    "print(TENSOR.ndim)\n",
    "\n",
    "# Shape = (Number of matrices ,Rows, Cols)\n",
    "print(TENSOR.shape)"
   ],
   "id": "9604c74611f32be5",
   "outputs": [
    {
     "name": "stdout",
     "output_type": "stream",
     "text": [
      "3\n",
      "torch.Size([1, 4, 3])\n"
     ]
    }
   ],
   "execution_count": 19
  },
  {
   "metadata": {
    "ExecuteTime": {
     "end_time": "2025-01-30T06:28:16.169968Z",
     "start_time": "2025-01-30T06:28:16.153562Z"
    }
   },
   "cell_type": "code",
   "source": "TENSOR[0]",
   "id": "3a5167435a8567d9",
   "outputs": [
    {
     "data": {
      "text/plain": [
       "tensor([[ 1,  2,  3],\n",
       "        [ 4,  5,  6],\n",
       "        [ 7,  8,  9],\n",
       "        [10, 11, 12]])"
      ]
     },
     "execution_count": 20,
     "metadata": {},
     "output_type": "execute_result"
    }
   ],
   "execution_count": 20
  },
  {
   "metadata": {
    "ExecuteTime": {
     "end_time": "2025-01-30T06:28:16.402579Z",
     "start_time": "2025-01-30T06:28:16.389756Z"
    }
   },
   "cell_type": "code",
   "source": [
    "#Doesnt work because we have only 1 matrix which is at index 0\n",
    "# TENSOR[1]"
   ],
   "id": "9ded0bdf6ab8f0bf",
   "outputs": [],
   "execution_count": 21
  },
  {
   "metadata": {
    "ExecuteTime": {
     "end_time": "2025-01-30T06:28:16.480731Z",
     "start_time": "2025-01-30T06:28:16.467737Z"
    }
   },
   "cell_type": "code",
   "source": [
    "TENSOR_2 = torch.tensor([  #Contains array of matrices\n",
    "    [  # Contains array of vectors (arrays)\n",
    "        [1, 2, 3],  # Array of integers\n",
    "        [4, 5, 6],\n",
    "        [7, 8, 9],\n",
    "        [10, 11, 12]\n",
    "    ],\n",
    "\n",
    "    [  # Contains array of vectors (arrays)\n",
    "        [13, 14, 15],\n",
    "        [16, 17, 18],\n",
    "        [19, 20, 21],\n",
    "        [22, 23, 24]\n",
    "    ]\n",
    "])\n",
    "\n",
    "# (2,4,3)\n",
    "# Basically saying we have 2 matrices with 4 rows and 3 cols\n",
    "print(TENSOR_2.shape)"
   ],
   "id": "21c57f8c398a0f22",
   "outputs": [
    {
     "name": "stdout",
     "output_type": "stream",
     "text": [
      "torch.Size([2, 4, 3])\n"
     ]
    }
   ],
   "execution_count": 22
  },
  {
   "metadata": {
    "ExecuteTime": {
     "end_time": "2025-01-30T06:28:16.686983Z",
     "start_time": "2025-01-30T06:28:16.673140Z"
    }
   },
   "cell_type": "code",
   "source": [
    "TENSOR_3 = torch.tensor(\n",
    "    [  # Contains array of tensors\n",
    "        [  #Contains array of matrices\n",
    "            [  # Contains array of vectors (arrays)\n",
    "                [1, 2, 3],  # Array of integers\n",
    "                [4, 5, 6],\n",
    "                [7, 8, 9],\n",
    "                [10, 11, 12]\n",
    "            ],\n",
    "\n",
    "            [  # Contains array of vectors (arrays)\n",
    "                [13, 14, 15],\n",
    "                [16, 17, 18],\n",
    "                [19, 20, 21],\n",
    "                [22, 23, 24]\n",
    "            ]\n",
    "        ]\n",
    "    ])\n",
    "\n",
    "print(TENSOR_3.shape)\n",
    "print(TENSOR_3[0])\n",
    "print(TENSOR_3[0][0])\n",
    "print(TENSOR_3[0][0][0])"
   ],
   "id": "c4c07719df2a09d0",
   "outputs": [
    {
     "name": "stdout",
     "output_type": "stream",
     "text": [
      "torch.Size([1, 2, 4, 3])\n",
      "tensor([[[ 1,  2,  3],\n",
      "         [ 4,  5,  6],\n",
      "         [ 7,  8,  9],\n",
      "         [10, 11, 12]],\n",
      "\n",
      "        [[13, 14, 15],\n",
      "         [16, 17, 18],\n",
      "         [19, 20, 21],\n",
      "         [22, 23, 24]]])\n",
      "tensor([[ 1,  2,  3],\n",
      "        [ 4,  5,  6],\n",
      "        [ 7,  8,  9],\n",
      "        [10, 11, 12]])\n",
      "tensor([1, 2, 3])\n"
     ]
    }
   ],
   "execution_count": 23
  },
  {
   "metadata": {
    "ExecuteTime": {
     "end_time": "2025-01-30T06:28:16.780071Z",
     "start_time": "2025-01-30T06:28:16.765581Z"
    }
   },
   "cell_type": "code",
   "source": "MATRIX",
   "id": "f0e2d8c7237615d1",
   "outputs": [
    {
     "data": {
      "text/plain": [
       "tensor([[ 7,  8],\n",
       "        [ 9, 10]])"
      ]
     },
     "execution_count": 24,
     "metadata": {},
     "output_type": "execute_result"
    }
   ],
   "execution_count": 24
  },
  {
   "metadata": {
    "ExecuteTime": {
     "end_time": "2025-01-30T06:28:16.886497Z",
     "start_time": "2025-01-30T06:28:16.873801Z"
    }
   },
   "cell_type": "code",
   "source": "MATRIX.is_cuda",
   "id": "e273b35ae64dae84",
   "outputs": [
    {
     "data": {
      "text/plain": [
       "False"
      ]
     },
     "execution_count": 25,
     "metadata": {},
     "output_type": "execute_result"
    }
   ],
   "execution_count": 25
  },
  {
   "metadata": {
    "ExecuteTime": {
     "end_time": "2025-01-30T06:28:17.042250Z",
     "start_time": "2025-01-30T06:28:17.034096Z"
    }
   },
   "cell_type": "code",
   "source": [
    "MATRIX.transpose(1, 0)\n",
    "#or \n",
    "# MATRIX.T"
   ],
   "id": "6371bae308591c61",
   "outputs": [
    {
     "data": {
      "text/plain": [
       "tensor([[ 7,  9],\n",
       "        [ 8, 10]])"
      ]
     },
     "execution_count": 26,
     "metadata": {},
     "output_type": "execute_result"
    }
   ],
   "execution_count": 26
  },
  {
   "metadata": {
    "ExecuteTime": {
     "end_time": "2025-01-30T06:28:17.182172Z",
     "start_time": "2025-01-30T06:28:17.167077Z"
    }
   },
   "cell_type": "code",
   "source": "TENSOR",
   "id": "80514482a0ef7cbc",
   "outputs": [
    {
     "data": {
      "text/plain": [
       "tensor([[[ 1,  2,  3],\n",
       "         [ 4,  5,  6],\n",
       "         [ 7,  8,  9],\n",
       "         [10, 11, 12]]])"
      ]
     },
     "execution_count": 27,
     "metadata": {},
     "output_type": "execute_result"
    }
   ],
   "execution_count": 27
  },
  {
   "metadata": {
    "ExecuteTime": {
     "end_time": "2025-01-30T06:28:17.306115Z",
     "start_time": "2025-01-30T06:28:17.292926Z"
    }
   },
   "cell_type": "code",
   "source": "TENSOR.transpose(0, 2)",
   "id": "2bcb65647d621771",
   "outputs": [
    {
     "data": {
      "text/plain": [
       "tensor([[[ 1],\n",
       "         [ 4],\n",
       "         [ 7],\n",
       "         [10]],\n",
       "\n",
       "        [[ 2],\n",
       "         [ 5],\n",
       "         [ 8],\n",
       "         [11]],\n",
       "\n",
       "        [[ 3],\n",
       "         [ 6],\n",
       "         [ 9],\n",
       "         [12]]])"
      ]
     },
     "execution_count": 28,
     "metadata": {},
     "output_type": "execute_result"
    }
   ],
   "execution_count": 28
  },
  {
   "metadata": {
    "ExecuteTime": {
     "end_time": "2025-01-30T06:28:17.459710Z",
     "start_time": "2025-01-30T06:28:17.449197Z"
    }
   },
   "cell_type": "code",
   "source": "TENSOR.transpose(0, 1)",
   "id": "cf483e2bbe5ec849",
   "outputs": [
    {
     "data": {
      "text/plain": [
       "tensor([[[ 1,  2,  3]],\n",
       "\n",
       "        [[ 4,  5,  6]],\n",
       "\n",
       "        [[ 7,  8,  9]],\n",
       "\n",
       "        [[10, 11, 12]]])"
      ]
     },
     "execution_count": 29,
     "metadata": {},
     "output_type": "execute_result"
    }
   ],
   "execution_count": 29
  },
  {
   "metadata": {},
   "cell_type": "markdown",
   "source": [
    "## Random Tensors\n",
    "\n",
    "We require random numbers because neural networks start off their learning with random weights and biases which are then adjusted to the represent the patterns/features they learn.\n",
    "\n",
    "\n",
    "Random tensors - https://pytorch.org/docs/stable/generated/torch.rand.html\n"
   ],
   "id": "2359abd22c7c0ee7"
  },
  {
   "metadata": {
    "ExecuteTime": {
     "end_time": "2025-01-30T06:28:17.569337Z",
     "start_time": "2025-01-30T06:28:17.557967Z"
    }
   },
   "cell_type": "code",
   "source": [
    "#Create a random tensor of shape (3,4)\n",
    "\n",
    "random_tensor = torch.rand(3, 4)\n",
    "\n",
    "random_tensor"
   ],
   "id": "708380ae8d6a1bbd",
   "outputs": [
    {
     "data": {
      "text/plain": [
       "tensor([[0.8810, 0.5530, 0.5595, 0.4021],\n",
       "        [0.4754, 0.4634, 0.2049, 0.7497],\n",
       "        [0.5093, 0.9752, 0.7562, 0.9195]])"
      ]
     },
     "execution_count": 30,
     "metadata": {},
     "output_type": "execute_result"
    }
   ],
   "execution_count": 30
  },
  {
   "metadata": {
    "ExecuteTime": {
     "end_time": "2025-01-30T06:28:17.738702Z",
     "start_time": "2025-01-30T06:28:17.715630Z"
    }
   },
   "cell_type": "code",
   "source": [
    "random_3d_tensor = torch.rand(2, 4, 5)\n",
    "\n",
    "print(random_3d_tensor.shape)\n",
    "\n",
    "random_3d_tensor"
   ],
   "id": "7a3e4ea963715ba8",
   "outputs": [
    {
     "name": "stdout",
     "output_type": "stream",
     "text": [
      "torch.Size([2, 4, 5])\n"
     ]
    },
    {
     "data": {
      "text/plain": [
       "tensor([[[0.9488, 0.3734, 0.0991, 0.4139, 0.3502],\n",
       "         [0.0233, 0.3716, 0.5439, 0.9627, 0.7889],\n",
       "         [0.8625, 0.9489, 0.8616, 0.4490, 0.8687],\n",
       "         [0.0756, 0.1656, 0.1596, 0.8637, 0.6813]],\n",
       "\n",
       "        [[0.4718, 0.3087, 0.9513, 0.8136, 0.7543],\n",
       "         [0.6521, 0.7340, 0.2453, 0.9773, 0.2707],\n",
       "         [0.7087, 0.0648, 0.6371, 0.6141, 0.5238],\n",
       "         [0.6217, 0.7977, 0.6362, 0.0059, 0.2956]]])"
      ]
     },
     "execution_count": 31,
     "metadata": {},
     "output_type": "execute_result"
    }
   ],
   "execution_count": 31
  },
  {
   "metadata": {
    "ExecuteTime": {
     "end_time": "2025-01-30T06:28:17.909417Z",
     "start_time": "2025-01-30T06:28:17.888417Z"
    }
   },
   "cell_type": "code",
   "source": [
    "#Create a random tensor with similar shape to an image tensor\n",
    "\n",
    "random_image_size_tensor = torch.rand(size=(3, 224, 224))  #colour channels (R, G, B), height, width \n",
    "\n",
    "print(random_image_size_tensor.shape)\n",
    "random_image_size_tensor"
   ],
   "id": "c3882d652fbd2a24",
   "outputs": [
    {
     "name": "stdout",
     "output_type": "stream",
     "text": [
      "torch.Size([3, 224, 224])\n"
     ]
    },
    {
     "data": {
      "text/plain": [
       "tensor([[[0.2250, 0.0295, 0.3316,  ..., 0.5254, 0.5097, 0.9568],\n",
       "         [0.5764, 0.5374, 0.8838,  ..., 0.6957, 0.5328, 0.2971],\n",
       "         [0.4096, 0.0825, 0.4375,  ..., 0.9112, 0.1718, 0.7059],\n",
       "         ...,\n",
       "         [0.7249, 0.0223, 0.5283,  ..., 0.0585, 0.9576, 0.6809],\n",
       "         [0.8274, 0.6341, 0.9565,  ..., 0.1247, 0.0313, 0.4002],\n",
       "         [0.1264, 0.9702, 0.9987,  ..., 0.4841, 0.8373, 0.6516]],\n",
       "\n",
       "        [[0.7373, 0.9817, 0.1425,  ..., 0.3842, 0.8528, 0.3282],\n",
       "         [0.5515, 0.6865, 0.2116,  ..., 0.7440, 0.5108, 0.1539],\n",
       "         [0.9998, 0.8855, 0.3449,  ..., 0.0800, 0.0617, 0.0546],\n",
       "         ...,\n",
       "         [0.7363, 0.1976, 0.8504,  ..., 0.9363, 0.2381, 0.4032],\n",
       "         [0.7280, 0.4368, 0.8271,  ..., 0.6575, 0.1426, 0.9611],\n",
       "         [0.1220, 0.8217, 0.0671,  ..., 0.3492, 0.4049, 0.0212]],\n",
       "\n",
       "        [[0.1575, 0.9088, 0.0489,  ..., 0.6959, 0.0596, 0.0789],\n",
       "         [0.8476, 0.5005, 0.2292,  ..., 0.2623, 0.2793, 0.7157],\n",
       "         [0.5131, 0.4688, 0.2495,  ..., 0.0819, 0.0054, 0.8434],\n",
       "         ...,\n",
       "         [0.9882, 0.9619, 0.8833,  ..., 0.9422, 0.4041, 0.1719],\n",
       "         [0.4852, 0.8892, 0.8714,  ..., 0.5745, 0.4822, 0.5872],\n",
       "         [0.8558, 0.7518, 0.6291,  ..., 0.5832, 0.8705, 0.5030]]])"
      ]
     },
     "execution_count": 32,
     "metadata": {},
     "output_type": "execute_result"
    }
   ],
   "execution_count": 32
  },
  {
   "metadata": {},
   "cell_type": "markdown",
   "source": "## Zeros and ones",
   "id": "103a1df5fafcf7f7"
  },
  {
   "metadata": {
    "ExecuteTime": {
     "end_time": "2025-01-30T06:28:18.065149Z",
     "start_time": "2025-01-30T06:28:18.051428Z"
    }
   },
   "cell_type": "code",
   "source": [
    "zeros_3d = torch.zeros(size=(3, 4, 4))\n",
    "zeros_3d"
   ],
   "id": "d0a27882c45eb48b",
   "outputs": [
    {
     "data": {
      "text/plain": [
       "tensor([[[0., 0., 0., 0.],\n",
       "         [0., 0., 0., 0.],\n",
       "         [0., 0., 0., 0.],\n",
       "         [0., 0., 0., 0.]],\n",
       "\n",
       "        [[0., 0., 0., 0.],\n",
       "         [0., 0., 0., 0.],\n",
       "         [0., 0., 0., 0.],\n",
       "         [0., 0., 0., 0.]],\n",
       "\n",
       "        [[0., 0., 0., 0.],\n",
       "         [0., 0., 0., 0.],\n",
       "         [0., 0., 0., 0.],\n",
       "         [0., 0., 0., 0.]]])"
      ]
     },
     "execution_count": 33,
     "metadata": {},
     "output_type": "execute_result"
    }
   ],
   "execution_count": 33
  },
  {
   "metadata": {
    "ExecuteTime": {
     "end_time": "2025-01-30T06:28:18.127815Z",
     "start_time": "2025-01-30T06:28:18.120741Z"
    }
   },
   "cell_type": "code",
   "source": [
    "zeros = torch.zeros(size=(3, 4))\n",
    "\n",
    "zeros * random_tensor"
   ],
   "id": "1fd820cef156f8e7",
   "outputs": [
    {
     "data": {
      "text/plain": [
       "tensor([[0., 0., 0., 0.],\n",
       "        [0., 0., 0., 0.],\n",
       "        [0., 0., 0., 0.]])"
      ]
     },
     "execution_count": 34,
     "metadata": {},
     "output_type": "execute_result"
    }
   ],
   "execution_count": 34
  },
  {
   "metadata": {
    "ExecuteTime": {
     "end_time": "2025-01-30T06:28:18.235943Z",
     "start_time": "2025-01-30T06:28:18.221627Z"
    }
   },
   "cell_type": "code",
   "source": [
    "ones = torch.ones(size=(3, 4))\n",
    "ones\n"
   ],
   "id": "471f6360cb7152a3",
   "outputs": [
    {
     "data": {
      "text/plain": [
       "tensor([[1., 1., 1., 1.],\n",
       "        [1., 1., 1., 1.],\n",
       "        [1., 1., 1., 1.]])"
      ]
     },
     "execution_count": 35,
     "metadata": {},
     "output_type": "execute_result"
    }
   ],
   "execution_count": 35
  },
  {
   "metadata": {
    "ExecuteTime": {
     "end_time": "2025-01-30T06:28:18.388562Z",
     "start_time": "2025-01-30T06:28:18.383208Z"
    }
   },
   "cell_type": "code",
   "source": [
    "#default data type for tensors\n",
    "ones.dtype"
   ],
   "id": "736da6584783d238",
   "outputs": [
    {
     "data": {
      "text/plain": [
       "torch.float32"
      ]
     },
     "execution_count": 36,
     "metadata": {},
     "output_type": "execute_result"
    }
   ],
   "execution_count": 36
  },
  {
   "metadata": {},
   "cell_type": "markdown",
   "source": "### Creating a range of tensors and tensors-like",
   "id": "6de47f888f610906"
  },
  {
   "metadata": {
    "ExecuteTime": {
     "end_time": "2025-01-30T06:28:18.542858Z",
     "start_time": "2025-01-30T06:28:18.529073Z"
    }
   },
   "cell_type": "code",
   "source": [
    "# Use torch.range\n",
    "\n",
    "two_to_20 = torch.arange(2, 21)\n",
    "\n",
    "two_to_20"
   ],
   "id": "5528d651e3671963",
   "outputs": [
    {
     "data": {
      "text/plain": [
       "tensor([ 2,  3,  4,  5,  6,  7,  8,  9, 10, 11, 12, 13, 14, 15, 16, 17, 18, 19,\n",
       "        20])"
      ]
     },
     "execution_count": 37,
     "metadata": {},
     "output_type": "execute_result"
    }
   ],
   "execution_count": 37
  },
  {
   "metadata": {
    "ExecuteTime": {
     "end_time": "2025-01-30T06:28:18.682093Z",
     "start_time": "2025-01-30T06:28:18.660637Z"
    }
   },
   "cell_type": "code",
   "source": "torch.arange(start=0, end=100, step=2)",
   "id": "4a72216a6e16c08c",
   "outputs": [
    {
     "data": {
      "text/plain": [
       "tensor([ 0,  2,  4,  6,  8, 10, 12, 14, 16, 18, 20, 22, 24, 26, 28, 30, 32, 34,\n",
       "        36, 38, 40, 42, 44, 46, 48, 50, 52, 54, 56, 58, 60, 62, 64, 66, 68, 70,\n",
       "        72, 74, 76, 78, 80, 82, 84, 86, 88, 90, 92, 94, 96, 98])"
      ]
     },
     "execution_count": 38,
     "metadata": {},
     "output_type": "execute_result"
    }
   ],
   "execution_count": 38
  },
  {
   "metadata": {
    "ExecuteTime": {
     "end_time": "2025-01-30T06:28:18.806142Z",
     "start_time": "2025-01-30T06:28:18.785984Z"
    }
   },
   "cell_type": "code",
   "source": "torch.arange(start=0, end=102, step=2)",
   "id": "d365dc09dfbc170d",
   "outputs": [
    {
     "data": {
      "text/plain": [
       "tensor([  0,   2,   4,   6,   8,  10,  12,  14,  16,  18,  20,  22,  24,  26,\n",
       "         28,  30,  32,  34,  36,  38,  40,  42,  44,  46,  48,  50,  52,  54,\n",
       "         56,  58,  60,  62,  64,  66,  68,  70,  72,  74,  76,  78,  80,  82,\n",
       "         84,  86,  88,  90,  92,  94,  96,  98, 100])"
      ]
     },
     "execution_count": 39,
     "metadata": {},
     "output_type": "execute_result"
    }
   ],
   "execution_count": 39
  },
  {
   "metadata": {},
   "cell_type": "markdown",
   "source": "### Creating tensors like",
   "id": "2d8887f2462c35dc"
  },
  {
   "metadata": {
    "ExecuteTime": {
     "end_time": "2025-01-30T06:28:18.898501Z",
     "start_time": "2025-01-30T06:28:18.881968Z"
    }
   },
   "cell_type": "code",
   "source": [
    "# Creating a tensor like the shape of another tensor\n",
    "\n",
    "tensor_like_twenty = torch.zeros_like(input=two_to_20)\n",
    "\n",
    "tensor_like_twenty"
   ],
   "id": "2660d66b40eed829",
   "outputs": [
    {
     "data": {
      "text/plain": [
       "tensor([0, 0, 0, 0, 0, 0, 0, 0, 0, 0, 0, 0, 0, 0, 0, 0, 0, 0, 0])"
      ]
     },
     "execution_count": 40,
     "metadata": {},
     "output_type": "execute_result"
    }
   ],
   "execution_count": 40
  },
  {
   "metadata": {
    "ExecuteTime": {
     "end_time": "2025-01-30T06:28:18.991222Z",
     "start_time": "2025-01-30T06:28:18.980751Z"
    }
   },
   "cell_type": "code",
   "source": [
    "tensor_like_3d_random = torch.rand_like(input=random_tensor)\n",
    "\n",
    "tensor_like_3d_random"
   ],
   "id": "b044dbd65c8a83ea",
   "outputs": [
    {
     "data": {
      "text/plain": [
       "tensor([[0.5173, 0.7379, 0.1209, 0.7032],\n",
       "        [0.1635, 0.1624, 0.3338, 0.0249],\n",
       "        [0.2138, 0.2098, 0.0867, 0.4606]])"
      ]
     },
     "execution_count": 41,
     "metadata": {},
     "output_type": "execute_result"
    }
   ],
   "execution_count": 41
  },
  {
   "metadata": {
    "ExecuteTime": {
     "end_time": "2025-01-30T06:28:19.068985Z",
     "start_time": "2025-01-30T06:28:19.055483Z"
    }
   },
   "cell_type": "code",
   "source": [
    "#doesnt work because rand requires float not int\n",
    "# torch.rand_like(input=TENSOR_2)\n",
    "\n",
    "torch.ones_like(input=TENSOR_2)\n"
   ],
   "id": "4fa4a4a97b95e17b",
   "outputs": [
    {
     "data": {
      "text/plain": [
       "tensor([[[1, 1, 1],\n",
       "         [1, 1, 1],\n",
       "         [1, 1, 1],\n",
       "         [1, 1, 1]],\n",
       "\n",
       "        [[1, 1, 1],\n",
       "         [1, 1, 1],\n",
       "         [1, 1, 1],\n",
       "         [1, 1, 1]]])"
      ]
     },
     "execution_count": 42,
     "metadata": {},
     "output_type": "execute_result"
    }
   ],
   "execution_count": 42
  },
  {
   "metadata": {},
   "cell_type": "markdown",
   "source": [
    "## Tensor Datatypes\n",
    "\n",
    "**Note:** Dtype is one 3 common errors when running PyTorch for DL\n",
    "1. Tensor is not right dtype\n",
    "2. Tensor not right shape\n",
    "3. Tensor not on right device "
   ],
   "id": "5bd670461a67d01d"
  },
  {
   "metadata": {
    "ExecuteTime": {
     "end_time": "2025-01-30T06:28:19.191779Z",
     "start_time": "2025-01-30T06:28:19.179182Z"
    }
   },
   "cell_type": "code",
   "source": [
    "float_32_tensor = torch.tensor([3.0, 6.0], dtype=None)\n",
    "\n",
    "float_32_tensor"
   ],
   "id": "878786c4dd872370",
   "outputs": [
    {
     "data": {
      "text/plain": [
       "tensor([3., 6.])"
      ]
     },
     "execution_count": 43,
     "metadata": {},
     "output_type": "execute_result"
    }
   ],
   "execution_count": 43
  },
  {
   "metadata": {
    "ExecuteTime": {
     "end_time": "2025-01-30T06:28:19.300654Z",
     "start_time": "2025-01-30T06:28:19.287664Z"
    }
   },
   "cell_type": "code",
   "source": [
    "\n",
    "#Still shows dtype as float because its the default dtype in torch\n",
    "float_32_tensor.dtype"
   ],
   "id": "be9078a29c51c1c5",
   "outputs": [
    {
     "data": {
      "text/plain": [
       "torch.float32"
      ]
     },
     "execution_count": 44,
     "metadata": {},
     "output_type": "execute_result"
    }
   ],
   "execution_count": 44
  },
  {
   "metadata": {
    "ExecuteTime": {
     "end_time": "2025-01-30T06:28:19.394469Z",
     "start_time": "2025-01-30T06:28:19.384101Z"
    }
   },
   "cell_type": "code",
   "source": [
    "all_param_tensor = torch.tensor([\n",
    "    [6, 7],\n",
    "    [8, 9]\n",
    "], dtype=None,  # datatype of data in the tensor\n",
    "    device=None,  # default is cpu,could be changed to cuda\n",
    "    requires_grad=False  # If you want the tensor to track gradients when the values are updated\n",
    ")"
   ],
   "id": "1b3d362c680961e",
   "outputs": [],
   "execution_count": 45
  },
  {
   "metadata": {
    "ExecuteTime": {
     "end_time": "2025-01-30T06:28:19.441460Z",
     "start_time": "2025-01-30T06:28:19.429098Z"
    }
   },
   "cell_type": "code",
   "source": [
    "float_16_tensor = float_32_tensor.type(torch.half)\n",
    "# or\n",
    "# float_16_tensor = float_32_tensor.type(torch.float16)\n",
    "float_16_tensor"
   ],
   "id": "81fdfc68984fb5ef",
   "outputs": [
    {
     "data": {
      "text/plain": [
       "tensor([3., 6.], dtype=torch.float16)"
      ]
     },
     "execution_count": 46,
     "metadata": {},
     "output_type": "execute_result"
    }
   ],
   "execution_count": 46
  },
  {
   "metadata": {
    "ExecuteTime": {
     "end_time": "2025-01-30T06:28:19.501918Z",
     "start_time": "2025-01-30T06:28:19.486734Z"
    }
   },
   "cell_type": "code",
   "source": [
    "#type casted to higher capacity dtype\n",
    "(float_32_tensor * float_16_tensor).dtype"
   ],
   "id": "43f745f815332d1d",
   "outputs": [
    {
     "data": {
      "text/plain": [
       "torch.float32"
      ]
     },
     "execution_count": 47,
     "metadata": {},
     "output_type": "execute_result"
    }
   ],
   "execution_count": 47
  },
  {
   "metadata": {
    "ExecuteTime": {
     "end_time": "2025-01-30T06:28:19.564394Z",
     "start_time": "2025-01-30T06:28:19.557380Z"
    }
   },
   "cell_type": "code",
   "source": [
    "int_32_tensor = torch.tensor([3, 6], dtype=torch.int32)\n",
    "int_32_tensor"
   ],
   "id": "f14c1f3b7bb2656a",
   "outputs": [
    {
     "data": {
      "text/plain": [
       "tensor([3, 6], dtype=torch.int32)"
      ]
     },
     "execution_count": 48,
     "metadata": {},
     "output_type": "execute_result"
    }
   ],
   "execution_count": 48
  },
  {
   "metadata": {
    "ExecuteTime": {
     "end_time": "2025-01-30T06:28:19.641429Z",
     "start_time": "2025-01-30T06:28:19.625456Z"
    }
   },
   "cell_type": "code",
   "source": "float_32_tensor * int_32_tensor",
   "id": "4dde2a322cc71130",
   "outputs": [
    {
     "data": {
      "text/plain": [
       "tensor([ 9., 36.])"
      ]
     },
     "execution_count": 49,
     "metadata": {},
     "output_type": "execute_result"
    }
   ],
   "execution_count": 49
  },
  {
   "metadata": {
    "ExecuteTime": {
     "end_time": "2025-01-30T06:28:19.703565Z",
     "start_time": "2025-01-30T06:28:19.694354Z"
    }
   },
   "cell_type": "code",
   "source": [
    "long_tensor = torch.tensor(data=([3, 6]), dtype=torch.long)\n",
    "long_tensor"
   ],
   "id": "dfbfc525d7a881a9",
   "outputs": [
    {
     "data": {
      "text/plain": [
       "tensor([3, 6])"
      ]
     },
     "execution_count": 50,
     "metadata": {},
     "output_type": "execute_result"
    }
   ],
   "execution_count": 50
  },
  {
   "metadata": {
    "ExecuteTime": {
     "end_time": "2025-01-30T06:28:19.781233Z",
     "start_time": "2025-01-30T06:28:19.763181Z"
    }
   },
   "cell_type": "code",
   "source": "float_32_tensor * long_tensor",
   "id": "6abbed4ba47274c2",
   "outputs": [
    {
     "data": {
      "text/plain": [
       "tensor([ 9., 36.])"
      ]
     },
     "execution_count": 51,
     "metadata": {},
     "output_type": "execute_result"
    }
   ],
   "execution_count": 51
  },
  {
   "metadata": {},
   "cell_type": "markdown",
   "source": [
    "### Getting info from tensor\n",
    "\n",
    "1. Tensor is not right dtype - to get dtype from a tensor - use `tensor.dtype` \n",
    "2. Tensor not right shape - to get shape, use `tensor.shape`\n",
    "3. Tensor not on right device - to get which device tensor is on, use `tensor.device` "
   ],
   "id": "f43b022246038b14"
  },
  {
   "metadata": {
    "ExecuteTime": {
     "end_time": "2025-01-30T06:28:19.843484Z",
     "start_time": "2025-01-30T06:28:19.823927Z"
    }
   },
   "cell_type": "code",
   "source": [
    "some_tensor = torch.rand(3, 4)\n",
    "some_tensor"
   ],
   "id": "a4e5aeb55e06818d",
   "outputs": [
    {
     "data": {
      "text/plain": [
       "tensor([[0.2825, 0.0011, 0.5270, 0.4509],\n",
       "        [0.2964, 0.9900, 0.5571, 0.0407],\n",
       "        [0.9231, 0.6536, 0.2150, 0.4606]])"
      ]
     },
     "execution_count": 52,
     "metadata": {},
     "output_type": "execute_result"
    }
   ],
   "execution_count": 52
  },
  {
   "metadata": {
    "ExecuteTime": {
     "end_time": "2025-01-30T06:28:19.939038Z",
     "start_time": "2025-01-30T06:28:19.925017Z"
    }
   },
   "cell_type": "code",
   "source": [
    "print(some_tensor)\n",
    "print(f\"Datatype of tensor: {some_tensor.dtype}\")\n",
    "print(f\"Shape of tensor: {some_tensor.shape}\")\n",
    "print(f\"Device of tensor: {some_tensor.device}\")"
   ],
   "id": "272faf323ed211c4",
   "outputs": [
    {
     "name": "stdout",
     "output_type": "stream",
     "text": [
      "tensor([[0.2825, 0.0011, 0.5270, 0.4509],\n",
      "        [0.2964, 0.9900, 0.5571, 0.0407],\n",
      "        [0.9231, 0.6536, 0.2150, 0.4606]])\n",
      "Datatype of tensor: torch.float32\n",
      "Shape of tensor: torch.Size([3, 4])\n",
      "Device of tensor: cpu\n"
     ]
    }
   ],
   "execution_count": 53
  },
  {
   "metadata": {
    "ExecuteTime": {
     "end_time": "2025-01-30T06:28:20.188117Z",
     "start_time": "2025-01-30T06:28:20.167202Z"
    }
   },
   "cell_type": "code",
   "source": [
    "#Note tensor shape and size are the same\n",
    "#Size is just a func, while shape is an attribute\n",
    "\n",
    "some_tensor.shape, some_tensor.size()"
   ],
   "id": "af6d8116098d78a7",
   "outputs": [
    {
     "data": {
      "text/plain": [
       "(torch.Size([3, 4]), torch.Size([3, 4]))"
      ]
     },
     "execution_count": 54,
     "metadata": {},
     "output_type": "execute_result"
    }
   ],
   "execution_count": 54
  },
  {
   "metadata": {
    "ExecuteTime": {
     "end_time": "2025-01-30T06:28:26.442572Z",
     "start_time": "2025-01-30T06:28:25.143093Z"
    }
   },
   "cell_type": "code",
   "source": "gpu_tensor = torch.rand(3, 4, device=torch.device('cuda'))\n",
   "id": "412c0fdd150d0f14",
   "outputs": [],
   "execution_count": 55
  },
  {
   "metadata": {},
   "cell_type": "markdown",
   "source": [
    "\n",
    "## Manipulating Tensors (Tensor Operations)\n",
    "\n",
    "Ops include:\n",
    "* Addition\n",
    "* Subtraction\n",
    "* Element-wise multiplication\n",
    "* Matrix multiplication\n",
    "* Division"
   ],
   "id": "2f133ef958b8d522"
  },
  {
   "metadata": {
    "ExecuteTime": {
     "end_time": "2025-01-30T06:31:33.828661Z",
     "start_time": "2025-01-30T06:31:33.813158Z"
    }
   },
   "cell_type": "code",
   "source": [
    "test_tensor = torch.tensor(data=([1, 2, 3]))\n",
    "test_tensor + 10"
   ],
   "id": "385a55850a245cc4",
   "outputs": [
    {
     "data": {
      "text/plain": [
       "tensor([11, 12, 13])"
      ]
     },
     "execution_count": 56,
     "metadata": {},
     "output_type": "execute_result"
    }
   ],
   "execution_count": 56
  },
  {
   "metadata": {
    "ExecuteTime": {
     "end_time": "2025-01-30T06:31:50.012148Z",
     "start_time": "2025-01-30T06:31:50.002205Z"
    }
   },
   "cell_type": "code",
   "source": "test_tensor - 10",
   "id": "9728efd7b12f2af",
   "outputs": [
    {
     "data": {
      "text/plain": [
       "tensor([-9, -8, -7])"
      ]
     },
     "execution_count": 57,
     "metadata": {},
     "output_type": "execute_result"
    }
   ],
   "execution_count": 57
  },
  {
   "metadata": {
    "ExecuteTime": {
     "end_time": "2025-01-30T06:31:57.853074Z",
     "start_time": "2025-01-30T06:31:57.842301Z"
    }
   },
   "cell_type": "code",
   "source": "test_tensor * 10",
   "id": "98c87773ba0141dc",
   "outputs": [
    {
     "data": {
      "text/plain": [
       "tensor([10, 20, 30])"
      ]
     },
     "execution_count": 58,
     "metadata": {},
     "output_type": "execute_result"
    }
   ],
   "execution_count": 58
  },
  {
   "metadata": {
    "ExecuteTime": {
     "end_time": "2025-01-30T06:32:05.640872Z",
     "start_time": "2025-01-30T06:32:05.633755Z"
    }
   },
   "cell_type": "code",
   "source": "test_tensor / 10",
   "id": "cadc38e8db4ea9d8",
   "outputs": [
    {
     "data": {
      "text/plain": [
       "tensor([0.1000, 0.2000, 0.3000])"
      ]
     },
     "execution_count": 59,
     "metadata": {},
     "output_type": "execute_result"
    }
   ],
   "execution_count": 59
  },
  {
   "metadata": {
    "ExecuteTime": {
     "end_time": "2025-01-30T06:32:17.062999Z",
     "start_time": "2025-01-30T06:32:17.058464Z"
    }
   },
   "cell_type": "code",
   "source": "test_tensor // 10",
   "id": "7b11195f0c648d66",
   "outputs": [
    {
     "data": {
      "text/plain": [
       "tensor([0, 0, 0])"
      ]
     },
     "execution_count": 60,
     "metadata": {},
     "output_type": "execute_result"
    }
   ],
   "execution_count": 60
  },
  {
   "metadata": {
    "ExecuteTime": {
     "end_time": "2025-01-30T06:32:57.080006Z",
     "start_time": "2025-01-30T06:32:57.074335Z"
    }
   },
   "cell_type": "code",
   "source": "torch.multiply(test_tensor, 10)",
   "id": "e4c46c52b8596823",
   "outputs": [
    {
     "data": {
      "text/plain": [
       "tensor([10, 20, 30])"
      ]
     },
     "execution_count": 61,
     "metadata": {},
     "output_type": "execute_result"
    }
   ],
   "execution_count": 61
  },
  {
   "metadata": {},
   "cell_type": "markdown",
   "source": [
    "### Matrix multiplication\n",
    "\n",
    "Two main ways of multiplication:\n",
    "1. Element-wise multiplication (e.g. matrix * scalar)\n",
    "2. Matrix multiplication (dot product => a . b)\n",
    "\n",
    "Matrix multiplication rules\n",
    "1. The **inner dimensions** must match: \n",
    "* `(3,2) @ (3,2)` wont work\n",
    "* `(3,2) @ (2,3)` will work\n",
    "* `(2,3) @ (3,2)` will work\n",
    "2. The resulting matrix will have the shape of the **outer dimensions**:\n",
    "* `(3,2) @ (2,3)` -> `(3,3)`\n",
    "* `(2,3) @ (3,2)` -> `(2,2)`\n",
    "\n",
    "Generalizing:\n",
    "**mxn.nxp = mxp**\n",
    "\n",
    "cols of first matrix = rows of second matrix\n",
    "Result will have rows of first and cols of second"
   ],
   "id": "7fd0928370f5275e"
  },
  {
   "metadata": {
    "ExecuteTime": {
     "end_time": "2025-01-30T06:46:06.497717Z",
     "start_time": "2025-01-30T06:46:06.492085Z"
    }
   },
   "cell_type": "code",
   "source": [
    "mul_tensor = torch.tensor(data=(\n",
    "    [1, 2, 3],\n",
    "    [4, 5, 6])\n",
    ")\n",
    "\n",
    "mul_tensor_2 = torch.tensor(data=(\n",
    "    [7, 8],\n",
    "    [10, 11],\n",
    "    [13, 14])\n",
    ")"
   ],
   "id": "cecf4d07de7c909",
   "outputs": [],
   "execution_count": 73
  },
  {
   "metadata": {
    "ExecuteTime": {
     "end_time": "2025-01-30T06:46:07.705204Z",
     "start_time": "2025-01-30T06:46:07.685928Z"
    }
   },
   "cell_type": "code",
   "source": [
    "#Element-wise multiplication\n",
    "print(mul_tensor, \"*\", mul_tensor)\n",
    "print(f\"Equals: {mul_tensor * mul_tensor}\")\n",
    "\n",
    "# Cant multiply element-wise because shape mismatch\n",
    "# print(f\"Equals: {mul_tensor * mul_tensor_2}\")"
   ],
   "id": "d7b9cbe2c9e6a695",
   "outputs": [
    {
     "name": "stdout",
     "output_type": "stream",
     "text": [
      "tensor([[1, 2, 3],\n",
      "        [4, 5, 6]]) * tensor([[1, 2, 3],\n",
      "        [4, 5, 6]])\n",
      "Equals: tensor([[ 1,  4,  9],\n",
      "        [16, 25, 36]])\n"
     ]
    }
   ],
   "execution_count": 74
  },
  {
   "metadata": {
    "ExecuteTime": {
     "end_time": "2025-01-30T06:46:09.135342Z",
     "start_time": "2025-01-30T06:46:09.115749Z"
    }
   },
   "cell_type": "code",
   "source": [
    "#Matrix multiplication\n",
    "torch.matmul(input=mul_tensor, other=mul_tensor_2)"
   ],
   "id": "43abe24ccdd6cce3",
   "outputs": [
    {
     "data": {
      "text/plain": [
       "tensor([[ 66,  72],\n",
       "        [156, 171]])"
      ]
     },
     "execution_count": 75,
     "metadata": {},
     "output_type": "execute_result"
    }
   ],
   "execution_count": 75
  },
  {
   "metadata": {
    "ExecuteTime": {
     "end_time": "2025-01-30T06:46:11.061156Z",
     "start_time": "2025-01-30T06:46:11.051245Z"
    }
   },
   "cell_type": "code",
   "source": "torch.matmul(input=mul_tensor_2, other=mul_tensor)",
   "id": "f332f796e007d21c",
   "outputs": [
    {
     "data": {
      "text/plain": [
       "tensor([[ 39,  54,  69],\n",
       "        [ 54,  75,  96],\n",
       "        [ 69,  96, 123]])"
      ]
     },
     "execution_count": 76,
     "metadata": {},
     "output_type": "execute_result"
    }
   ],
   "execution_count": 76
  },
  {
   "metadata": {
    "ExecuteTime": {
     "end_time": "2025-01-30T06:47:48.316460Z",
     "start_time": "2025-01-30T06:47:48.302374Z"
    }
   },
   "cell_type": "code",
   "source": [
    "tensor_sca_1 = torch.tensor(data=([1, 2, 3]))\n",
    "\n"
   ],
   "id": "e1998b363afc5000",
   "outputs": [
    {
     "data": {
      "text/plain": [
       "tensor(14)"
      ]
     },
     "execution_count": 77,
     "metadata": {},
     "output_type": "execute_result"
    }
   ],
   "execution_count": 77
  },
  {
   "metadata": {
    "ExecuteTime": {
     "end_time": "2025-01-30T07:02:47.229501Z",
     "start_time": "2025-01-30T07:02:47.217378Z"
    }
   },
   "cell_type": "code",
   "source": [
    "%%time\n",
    "#Doesnt show it here but this is way faster for big tensor multiplications than a for loop\n",
    "torch.matmul(tensor_sca_1, tensor_sca_1)"
   ],
   "id": "2adca4e327fad62c",
   "outputs": [
    {
     "name": "stdout",
     "output_type": "stream",
     "text": [
      "CPU times: total: 0 ns\n",
      "Wall time: 0 ns\n"
     ]
    },
    {
     "data": {
      "text/plain": [
       "tensor(14)"
      ]
     },
     "execution_count": 92,
     "metadata": {},
     "output_type": "execute_result"
    }
   ],
   "execution_count": 92
  },
  {
   "metadata": {
    "ExecuteTime": {
     "end_time": "2025-01-30T07:02:51.696965Z",
     "start_time": "2025-01-30T07:02:51.684937Z"
    }
   },
   "cell_type": "code",
   "source": [
    "%%time \n",
    "#Has to be first thing in cell\n",
    "# The above cell is basically only doing a dot product between 2 vectors\n",
    "sum = 0\n",
    "for i in tensor_sca_1:\n",
    "    sum += i * i\n",
    "sum\n",
    "\n",
    "# 1*1 + 2*2 + 3*3 "
   ],
   "id": "2c9e38c4aa03726f",
   "outputs": [
    {
     "name": "stdout",
     "output_type": "stream",
     "text": [
      "CPU times: total: 0 ns\n",
      "Wall time: 0 ns\n"
     ]
    },
    {
     "data": {
      "text/plain": [
       "tensor(14)"
      ]
     },
     "execution_count": 93,
     "metadata": {},
     "output_type": "execute_result"
    }
   ],
   "execution_count": 93
  },
  {
   "metadata": {
    "ExecuteTime": {
     "end_time": "2025-01-30T07:06:28.653611Z",
     "start_time": "2025-01-30T07:06:28.637610Z"
    }
   },
   "cell_type": "code",
   "source": [
    "# Another way of saying mat mul\n",
    "tensor_sca_1 @ tensor_sca_1"
   ],
   "id": "e55d61fca5cc57cd",
   "outputs": [
    {
     "data": {
      "text/plain": [
       "tensor(14)"
      ]
     },
     "execution_count": 94,
     "metadata": {},
     "output_type": "execute_result"
    }
   ],
   "execution_count": 94
  },
  {
   "metadata": {
    "ExecuteTime": {
     "end_time": "2025-01-30T06:49:50.599536Z",
     "start_time": "2025-01-30T06:49:50.590242Z"
    }
   },
   "cell_type": "code",
   "source": [
    "#This is working because it is being treated as a vector instead of a matrix\n",
    "# If it considered it as a matrix of 1,3 then it would give an error\n",
    "tensor_sca_1.shape"
   ],
   "id": "eaafe8e26bd77c89",
   "outputs": [
    {
     "data": {
      "text/plain": [
       "torch.Size([3])"
      ]
     },
     "execution_count": 78,
     "metadata": {},
     "output_type": "execute_result"
    }
   ],
   "execution_count": 78
  },
  {
   "metadata": {
    "ExecuteTime": {
     "end_time": "2025-01-30T06:51:16.942345Z",
     "start_time": "2025-01-30T06:51:16.932721Z"
    }
   },
   "cell_type": "code",
   "source": [
    "shape_2_vector = torch.tensor(data=[[1, 2, 3]])\n",
    "shape_2_vector.shape"
   ],
   "id": "98d4363c3f487381",
   "outputs": [
    {
     "data": {
      "text/plain": [
       "torch.Size([1, 3])"
      ]
     },
     "execution_count": 79,
     "metadata": {},
     "output_type": "execute_result"
    }
   ],
   "execution_count": 79
  },
  {
   "metadata": {
    "ExecuteTime": {
     "end_time": "2025-01-30T06:51:30.163569Z",
     "start_time": "2025-01-30T06:51:30.136496Z"
    }
   },
   "cell_type": "code",
   "source": [
    "# RuntimeError: mat1 and mat2 shapes cannot be multiplied (1x3 and 1x3)\n",
    "# torch.matmul(shape_2_vector, shape_2_vector)"
   ],
   "id": "84337837981b13eb",
   "outputs": [
    {
     "ename": "RuntimeError",
     "evalue": "mat1 and mat2 shapes cannot be multiplied (1x3 and 1x3)",
     "output_type": "error",
     "traceback": [
      "\u001B[1;31m---------------------------------------------------------------------------\u001B[0m",
      "\u001B[1;31mRuntimeError\u001B[0m                              Traceback (most recent call last)",
      "Cell \u001B[1;32mIn[80], line 1\u001B[0m\n\u001B[1;32m----> 1\u001B[0m \u001B[43mtorch\u001B[49m\u001B[38;5;241;43m.\u001B[39;49m\u001B[43mmatmul\u001B[49m\u001B[43m(\u001B[49m\u001B[43mshape_2_vector\u001B[49m\u001B[43m,\u001B[49m\u001B[43m \u001B[49m\u001B[43mshape_2_vector\u001B[49m\u001B[43m)\u001B[49m\n",
      "\u001B[1;31mRuntimeError\u001B[0m: mat1 and mat2 shapes cannot be multiplied (1x3 and 1x3)"
     ]
    }
   ],
   "execution_count": 80
  },
  {
   "metadata": {
    "ExecuteTime": {
     "end_time": "2025-01-30T06:51:56.548214Z",
     "start_time": "2025-01-30T06:51:56.529964Z"
    }
   },
   "cell_type": "code",
   "source": [
    "# This works because it transposed the second vector making it 3x1\n",
    "torch.matmul(shape_2_vector, shape_2_vector.T)"
   ],
   "id": "e7c7f866eb7187c4",
   "outputs": [
    {
     "data": {
      "text/plain": [
       "tensor([[14]])"
      ]
     },
     "execution_count": 81,
     "metadata": {},
     "output_type": "execute_result"
    }
   ],
   "execution_count": 81
  },
  {
   "metadata": {},
   "cell_type": "markdown",
   "source": "#### One of the most common errors in DL : Shape errors",
   "id": "1226a55ac1e7bcce"
  },
  {
   "metadata": {
    "ExecuteTime": {
     "end_time": "2025-01-30T07:17:06.367163Z",
     "start_time": "2025-01-30T07:17:06.352715Z"
    }
   },
   "cell_type": "code",
   "source": [
    "# Shapes for Matrix multiplication\n",
    "Tensor_A = torch.tensor(data=[[1, 2, ],\n",
    "                              [4, 5, ],\n",
    "                              [7, 8, ]])\n",
    "\n",
    "Tensor_B = torch.tensor(data=[[1, 2, ],\n",
    "                              [3, 4, ],\n",
    "                              [5, 6, ]])"
   ],
   "id": "5b6c6e8b0963c519",
   "outputs": [],
   "execution_count": 98
  },
  {
   "metadata": {
    "ExecuteTime": {
     "end_time": "2025-01-30T07:17:07.317502Z",
     "start_time": "2025-01-30T07:17:07.311521Z"
    }
   },
   "cell_type": "code",
   "source": "Tensor_A.shape, Tensor_B.shape",
   "id": "30116b7708ffdc05",
   "outputs": [
    {
     "data": {
      "text/plain": [
       "(torch.Size([3, 2]), torch.Size([3, 2]))"
      ]
     },
     "execution_count": 99,
     "metadata": {},
     "output_type": "execute_result"
    }
   ],
   "execution_count": 99
  },
  {
   "metadata": {},
   "cell_type": "markdown",
   "source": [
    "Inner dimensions are different so cant multiply \n",
    "\n",
    "To fix our issue, we can **transpose** one of our matrices\n",
    "\n",
    "A **transpose** switches the dimensions of our matrix"
   ],
   "id": "39b60116a717aac2"
  },
  {
   "metadata": {
    "ExecuteTime": {
     "end_time": "2025-01-30T07:19:02.436566Z",
     "start_time": "2025-01-30T07:19:02.417225Z"
    }
   },
   "cell_type": "code",
   "source": "Tensor_B.T",
   "id": "cf1824d1cb493df3",
   "outputs": [
    {
     "data": {
      "text/plain": [
       "tensor([[1, 3, 5],\n",
       "        [2, 4, 6]])"
      ]
     },
     "execution_count": 100,
     "metadata": {},
     "output_type": "execute_result"
    }
   ],
   "execution_count": 100
  },
  {
   "metadata": {
    "ExecuteTime": {
     "end_time": "2025-01-30T07:19:09.107533Z",
     "start_time": "2025-01-30T07:19:09.089123Z"
    }
   },
   "cell_type": "code",
   "source": "Tensor_B",
   "id": "df3b59e96f0f67df",
   "outputs": [
    {
     "data": {
      "text/plain": [
       "tensor([[1, 2],\n",
       "        [3, 4],\n",
       "        [5, 6]])"
      ]
     },
     "execution_count": 101,
     "metadata": {},
     "output_type": "execute_result"
    }
   ],
   "execution_count": 101
  },
  {
   "metadata": {
    "ExecuteTime": {
     "end_time": "2025-01-30T07:19:48.405Z",
     "start_time": "2025-01-30T07:19:48.395432Z"
    }
   },
   "cell_type": "code",
   "source": "Tensor_B.shape,Tensor_B.T.shape",
   "id": "f985faae8e5e40f2",
   "outputs": [
    {
     "data": {
      "text/plain": [
       "(torch.Size([3, 2]), torch.Size([2, 3]))"
      ]
     },
     "execution_count": 103,
     "metadata": {},
     "output_type": "execute_result"
    }
   ],
   "execution_count": 103
  },
  {
   "metadata": {
    "ExecuteTime": {
     "end_time": "2025-01-30T07:20:16.669388Z",
     "start_time": "2025-01-30T07:20:16.662024Z"
    }
   },
   "cell_type": "code",
   "source": "torch.matmul(Tensor_A, Tensor_B.T)",
   "id": "9799d585556f26c3",
   "outputs": [
    {
     "data": {
      "text/plain": [
       "tensor([[ 5, 11, 17],\n",
       "        [14, 32, 50],\n",
       "        [23, 53, 83]])"
      ]
     },
     "execution_count": 106,
     "metadata": {},
     "output_type": "execute_result"
    }
   ],
   "execution_count": 106
  },
  {
   "metadata": {
    "ExecuteTime": {
     "end_time": "2025-01-30T07:20:20.146535Z",
     "start_time": "2025-01-30T07:20:20.141147Z"
    }
   },
   "cell_type": "code",
   "source": "torch.matmul(Tensor_A, Tensor_B.T).shape",
   "id": "e90a9551dbcb5ce9",
   "outputs": [
    {
     "data": {
      "text/plain": [
       "torch.Size([3, 3])"
      ]
     },
     "execution_count": 107,
     "metadata": {},
     "output_type": "execute_result"
    }
   ],
   "execution_count": 107
  },
  {
   "metadata": {},
   "cell_type": "code",
   "outputs": [],
   "execution_count": null,
   "source": "",
   "id": "de5929b0e63d6cc4"
  }
 ],
 "metadata": {
  "kernelspec": {
   "display_name": "Python 3",
   "language": "python",
   "name": "python3"
  },
  "language_info": {
   "codemirror_mode": {
    "name": "ipython",
    "version": 2
   },
   "file_extension": ".py",
   "mimetype": "text/x-python",
   "name": "python",
   "nbconvert_exporter": "python",
   "pygments_lexer": "ipython2",
   "version": "2.7.6"
  }
 },
 "nbformat": 4,
 "nbformat_minor": 5
}
